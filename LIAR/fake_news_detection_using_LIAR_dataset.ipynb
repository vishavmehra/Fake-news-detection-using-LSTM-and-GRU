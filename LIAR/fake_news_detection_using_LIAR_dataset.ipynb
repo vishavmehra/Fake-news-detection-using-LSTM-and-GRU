{
  "cells": [
    {
      "cell_type": "code",
      "execution_count": 1,
      "metadata": {
        "colab": {
          "base_uri": "https://localhost:8080/"
        },
        "id": "T5lHkFWSzoCF",
        "outputId": "79e6afb8-01f6-48a0-ffea-968aab774300"
      },
      "outputs": [
        {
          "output_type": "stream",
          "name": "stdout",
          "text": [
            "Mounted at /content/drive\n"
          ]
        }
      ],
      "source": [
        "from google.colab import drive\n",
        "drive.mount('/content/drive')"
      ]
    },
    {
      "cell_type": "code",
      "execution_count": 2,
      "metadata": {
        "colab": {
          "base_uri": "https://localhost:8080/"
        },
        "id": "FrmGogQhz3s6",
        "outputId": "8fae6c99-1483-471a-bb31-e2aa6cd664e6"
      },
      "outputs": [
        {
          "output_type": "stream",
          "name": "stdout",
          "text": [
            "Requirement already satisfied: tensorflow in /usr/local/lib/python3.11/dist-packages (2.18.0)\n",
            "Requirement already satisfied: absl-py>=1.0.0 in /usr/local/lib/python3.11/dist-packages (from tensorflow) (1.4.0)\n",
            "Requirement already satisfied: astunparse>=1.6.0 in /usr/local/lib/python3.11/dist-packages (from tensorflow) (1.6.3)\n",
            "Requirement already satisfied: flatbuffers>=24.3.25 in /usr/local/lib/python3.11/dist-packages (from tensorflow) (25.2.10)\n",
            "Requirement already satisfied: gast!=0.5.0,!=0.5.1,!=0.5.2,>=0.2.1 in /usr/local/lib/python3.11/dist-packages (from tensorflow) (0.6.0)\n",
            "Requirement already satisfied: google-pasta>=0.1.1 in /usr/local/lib/python3.11/dist-packages (from tensorflow) (0.2.0)\n",
            "Requirement already satisfied: libclang>=13.0.0 in /usr/local/lib/python3.11/dist-packages (from tensorflow) (18.1.1)\n",
            "Requirement already satisfied: opt-einsum>=2.3.2 in /usr/local/lib/python3.11/dist-packages (from tensorflow) (3.4.0)\n",
            "Requirement already satisfied: packaging in /usr/local/lib/python3.11/dist-packages (from tensorflow) (24.2)\n",
            "Requirement already satisfied: protobuf!=4.21.0,!=4.21.1,!=4.21.2,!=4.21.3,!=4.21.4,!=4.21.5,<6.0.0dev,>=3.20.3 in /usr/local/lib/python3.11/dist-packages (from tensorflow) (5.29.5)\n",
            "Requirement already satisfied: requests<3,>=2.21.0 in /usr/local/lib/python3.11/dist-packages (from tensorflow) (2.32.3)\n",
            "Requirement already satisfied: setuptools in /usr/local/lib/python3.11/dist-packages (from tensorflow) (75.2.0)\n",
            "Requirement already satisfied: six>=1.12.0 in /usr/local/lib/python3.11/dist-packages (from tensorflow) (1.17.0)\n",
            "Requirement already satisfied: termcolor>=1.1.0 in /usr/local/lib/python3.11/dist-packages (from tensorflow) (3.1.0)\n",
            "Requirement already satisfied: typing-extensions>=3.6.6 in /usr/local/lib/python3.11/dist-packages (from tensorflow) (4.14.0)\n",
            "Requirement already satisfied: wrapt>=1.11.0 in /usr/local/lib/python3.11/dist-packages (from tensorflow) (1.17.2)\n",
            "Requirement already satisfied: grpcio<2.0,>=1.24.3 in /usr/local/lib/python3.11/dist-packages (from tensorflow) (1.72.1)\n",
            "Requirement already satisfied: tensorboard<2.19,>=2.18 in /usr/local/lib/python3.11/dist-packages (from tensorflow) (2.18.0)\n",
            "Requirement already satisfied: keras>=3.5.0 in /usr/local/lib/python3.11/dist-packages (from tensorflow) (3.8.0)\n",
            "Requirement already satisfied: numpy<2.1.0,>=1.26.0 in /usr/local/lib/python3.11/dist-packages (from tensorflow) (2.0.2)\n",
            "Requirement already satisfied: h5py>=3.11.0 in /usr/local/lib/python3.11/dist-packages (from tensorflow) (3.13.0)\n",
            "Requirement already satisfied: ml-dtypes<0.5.0,>=0.4.0 in /usr/local/lib/python3.11/dist-packages (from tensorflow) (0.4.1)\n",
            "Requirement already satisfied: tensorflow-io-gcs-filesystem>=0.23.1 in /usr/local/lib/python3.11/dist-packages (from tensorflow) (0.37.1)\n",
            "Requirement already satisfied: wheel<1.0,>=0.23.0 in /usr/local/lib/python3.11/dist-packages (from astunparse>=1.6.0->tensorflow) (0.45.1)\n",
            "Requirement already satisfied: rich in /usr/local/lib/python3.11/dist-packages (from keras>=3.5.0->tensorflow) (13.9.4)\n",
            "Requirement already satisfied: namex in /usr/local/lib/python3.11/dist-packages (from keras>=3.5.0->tensorflow) (0.1.0)\n",
            "Requirement already satisfied: optree in /usr/local/lib/python3.11/dist-packages (from keras>=3.5.0->tensorflow) (0.16.0)\n",
            "Requirement already satisfied: charset-normalizer<4,>=2 in /usr/local/lib/python3.11/dist-packages (from requests<3,>=2.21.0->tensorflow) (3.4.2)\n",
            "Requirement already satisfied: idna<4,>=2.5 in /usr/local/lib/python3.11/dist-packages (from requests<3,>=2.21.0->tensorflow) (3.10)\n",
            "Requirement already satisfied: urllib3<3,>=1.21.1 in /usr/local/lib/python3.11/dist-packages (from requests<3,>=2.21.0->tensorflow) (2.4.0)\n",
            "Requirement already satisfied: certifi>=2017.4.17 in /usr/local/lib/python3.11/dist-packages (from requests<3,>=2.21.0->tensorflow) (2025.4.26)\n",
            "Requirement already satisfied: markdown>=2.6.8 in /usr/local/lib/python3.11/dist-packages (from tensorboard<2.19,>=2.18->tensorflow) (3.8)\n",
            "Requirement already satisfied: tensorboard-data-server<0.8.0,>=0.7.0 in /usr/local/lib/python3.11/dist-packages (from tensorboard<2.19,>=2.18->tensorflow) (0.7.2)\n",
            "Requirement already satisfied: werkzeug>=1.0.1 in /usr/local/lib/python3.11/dist-packages (from tensorboard<2.19,>=2.18->tensorflow) (3.1.3)\n",
            "Requirement already satisfied: MarkupSafe>=2.1.1 in /usr/local/lib/python3.11/dist-packages (from werkzeug>=1.0.1->tensorboard<2.19,>=2.18->tensorflow) (3.0.2)\n",
            "Requirement already satisfied: markdown-it-py>=2.2.0 in /usr/local/lib/python3.11/dist-packages (from rich->keras>=3.5.0->tensorflow) (3.0.0)\n",
            "Requirement already satisfied: pygments<3.0.0,>=2.13.0 in /usr/local/lib/python3.11/dist-packages (from rich->keras>=3.5.0->tensorflow) (2.19.1)\n",
            "Requirement already satisfied: mdurl~=0.1 in /usr/local/lib/python3.11/dist-packages (from markdown-it-py>=2.2.0->rich->keras>=3.5.0->tensorflow) (0.1.2)\n"
          ]
        }
      ],
      "source": [
        "pip install tensorflow"
      ]
    },
    {
      "cell_type": "code",
      "execution_count": 3,
      "metadata": {
        "colab": {
          "base_uri": "https://localhost:8080/"
        },
        "id": "Uk7rpm5Oz9MN",
        "outputId": "23fd764a-856d-496b-c748-91dbd194c421"
      },
      "outputs": [
        {
          "output_type": "stream",
          "name": "stderr",
          "text": [
            "[nltk_data] Downloading package stopwords to /root/nltk_data...\n",
            "[nltk_data]   Unzipping corpora/stopwords.zip.\n"
          ]
        }
      ],
      "source": [
        "import pandas as pd\n",
        "import tensorflow as tf\n",
        "import seaborn as sns\n",
        "import matplotlib.pyplot as plt\n",
        "import spacy\n",
        "nlp = spacy.load('en_core_web_sm')\n",
        "from wordcloud import WordCloud\n",
        "from wordcloud import ImageColorGenerator\n",
        "from wordcloud import STOPWORDS\n",
        "\n",
        "from tensorflow.keras.preprocessing.text import Tokenizer\n",
        "import matplotlib.pyplot as plt\n",
        "import re\n",
        "import nltk\n",
        "nltk.download('stopwords')\n",
        "from nltk.corpus import stopwords\n",
        "stop_words = stopwords.words('english')\n"
      ]
    },
    {
      "cell_type": "code",
      "execution_count": 4,
      "metadata": {
        "id": "35w9iSXx0A3z"
      },
      "outputs": [],
      "source": [
        "train_data=pd.read_csv('/content/drive/MyDrive/csvfiles/train.csv')\n",
        "test_data=pd.read_csv('/content/drive/MyDrive/csvfiles/test.csv')\n",
        "valid_data=pd.read_csv('/content/drive/MyDrive/csvfiles/valid.csv')"
      ]
    },
    {
      "cell_type": "code",
      "execution_count": 5,
      "metadata": {
        "colab": {
          "base_uri": "https://localhost:8080/",
          "height": 397
        },
        "id": "KPiIzZuD0N1g",
        "outputId": "2d853aea-38c5-4c21-e874-900dee3b78e5"
      },
      "outputs": [
        {
          "output_type": "execute_result",
          "data": {
            "text/plain": [
              "     column00     column01                                           column02  \\\n",
              "0  12134.json  barely-true  We have less Americans working now than in the...   \n",
              "1    238.json   pants-fire  When Obama was sworn into office, he DID NOT u...   \n",
              "2   7891.json        false  Says Having organizations parading as being so...   \n",
              "3   8169.json    half-true     Says nearly half of Oregons children are poor.   \n",
              "4    929.json    half-true  On attacks by Republicans that various program...   \n",
              "\n",
              "                           column03         column04  \\\n",
              "0                      economy,jobs   vicky-hartzler   \n",
              "1  obama-birth-certificate,religion      chain-email   \n",
              "2   campaign-finance,congress,taxes  earl-blumenauer   \n",
              "3                           poverty  jim-francesconi   \n",
              "4                  economy,stimulus     barack-obama   \n",
              "\n",
              "                                        column05  column06    column07  \\\n",
              "0                            U.S. Representative  Missouri  republican   \n",
              "1                                             \\N        \\N        none   \n",
              "2                            U.S. representative    Oregon    democrat   \n",
              "3  Member of the State Board of Higher Education    Oregon        none   \n",
              "4                                      President  Illinois    democrat   \n",
              "\n",
              "   column08  column09  column10  column11  column12  \\\n",
              "0         1         0         1         0         0   \n",
              "1        11        43         8         5       105   \n",
              "2         0         1         1         1         0   \n",
              "3         0         1         1         1         0   \n",
              "4        70        71       160       163         9   \n",
              "\n",
              "                        column13  \n",
              "0   an interview with ABC17 News  \n",
              "1                             \\N  \n",
              "2  a U.S. Ways and Means hearing  \n",
              "3             an opinion article  \n",
              "4        interview with CBS News  "
            ],
            "text/html": [
              "\n",
              "  <div id=\"df-a9b6a5b5-9ae8-4f4d-b15b-ec370319ce4b\" class=\"colab-df-container\">\n",
              "    <div>\n",
              "<style scoped>\n",
              "    .dataframe tbody tr th:only-of-type {\n",
              "        vertical-align: middle;\n",
              "    }\n",
              "\n",
              "    .dataframe tbody tr th {\n",
              "        vertical-align: top;\n",
              "    }\n",
              "\n",
              "    .dataframe thead th {\n",
              "        text-align: right;\n",
              "    }\n",
              "</style>\n",
              "<table border=\"1\" class=\"dataframe\">\n",
              "  <thead>\n",
              "    <tr style=\"text-align: right;\">\n",
              "      <th></th>\n",
              "      <th>column00</th>\n",
              "      <th>column01</th>\n",
              "      <th>column02</th>\n",
              "      <th>column03</th>\n",
              "      <th>column04</th>\n",
              "      <th>column05</th>\n",
              "      <th>column06</th>\n",
              "      <th>column07</th>\n",
              "      <th>column08</th>\n",
              "      <th>column09</th>\n",
              "      <th>column10</th>\n",
              "      <th>column11</th>\n",
              "      <th>column12</th>\n",
              "      <th>column13</th>\n",
              "    </tr>\n",
              "  </thead>\n",
              "  <tbody>\n",
              "    <tr>\n",
              "      <th>0</th>\n",
              "      <td>12134.json</td>\n",
              "      <td>barely-true</td>\n",
              "      <td>We have less Americans working now than in the...</td>\n",
              "      <td>economy,jobs</td>\n",
              "      <td>vicky-hartzler</td>\n",
              "      <td>U.S. Representative</td>\n",
              "      <td>Missouri</td>\n",
              "      <td>republican</td>\n",
              "      <td>1</td>\n",
              "      <td>0</td>\n",
              "      <td>1</td>\n",
              "      <td>0</td>\n",
              "      <td>0</td>\n",
              "      <td>an interview with ABC17 News</td>\n",
              "    </tr>\n",
              "    <tr>\n",
              "      <th>1</th>\n",
              "      <td>238.json</td>\n",
              "      <td>pants-fire</td>\n",
              "      <td>When Obama was sworn into office, he DID NOT u...</td>\n",
              "      <td>obama-birth-certificate,religion</td>\n",
              "      <td>chain-email</td>\n",
              "      <td>\\N</td>\n",
              "      <td>\\N</td>\n",
              "      <td>none</td>\n",
              "      <td>11</td>\n",
              "      <td>43</td>\n",
              "      <td>8</td>\n",
              "      <td>5</td>\n",
              "      <td>105</td>\n",
              "      <td>\\N</td>\n",
              "    </tr>\n",
              "    <tr>\n",
              "      <th>2</th>\n",
              "      <td>7891.json</td>\n",
              "      <td>false</td>\n",
              "      <td>Says Having organizations parading as being so...</td>\n",
              "      <td>campaign-finance,congress,taxes</td>\n",
              "      <td>earl-blumenauer</td>\n",
              "      <td>U.S. representative</td>\n",
              "      <td>Oregon</td>\n",
              "      <td>democrat</td>\n",
              "      <td>0</td>\n",
              "      <td>1</td>\n",
              "      <td>1</td>\n",
              "      <td>1</td>\n",
              "      <td>0</td>\n",
              "      <td>a U.S. Ways and Means hearing</td>\n",
              "    </tr>\n",
              "    <tr>\n",
              "      <th>3</th>\n",
              "      <td>8169.json</td>\n",
              "      <td>half-true</td>\n",
              "      <td>Says nearly half of Oregons children are poor.</td>\n",
              "      <td>poverty</td>\n",
              "      <td>jim-francesconi</td>\n",
              "      <td>Member of the State Board of Higher Education</td>\n",
              "      <td>Oregon</td>\n",
              "      <td>none</td>\n",
              "      <td>0</td>\n",
              "      <td>1</td>\n",
              "      <td>1</td>\n",
              "      <td>1</td>\n",
              "      <td>0</td>\n",
              "      <td>an opinion article</td>\n",
              "    </tr>\n",
              "    <tr>\n",
              "      <th>4</th>\n",
              "      <td>929.json</td>\n",
              "      <td>half-true</td>\n",
              "      <td>On attacks by Republicans that various program...</td>\n",
              "      <td>economy,stimulus</td>\n",
              "      <td>barack-obama</td>\n",
              "      <td>President</td>\n",
              "      <td>Illinois</td>\n",
              "      <td>democrat</td>\n",
              "      <td>70</td>\n",
              "      <td>71</td>\n",
              "      <td>160</td>\n",
              "      <td>163</td>\n",
              "      <td>9</td>\n",
              "      <td>interview with CBS News</td>\n",
              "    </tr>\n",
              "  </tbody>\n",
              "</table>\n",
              "</div>\n",
              "    <div class=\"colab-df-buttons\">\n",
              "\n",
              "  <div class=\"colab-df-container\">\n",
              "    <button class=\"colab-df-convert\" onclick=\"convertToInteractive('df-a9b6a5b5-9ae8-4f4d-b15b-ec370319ce4b')\"\n",
              "            title=\"Convert this dataframe to an interactive table.\"\n",
              "            style=\"display:none;\">\n",
              "\n",
              "  <svg xmlns=\"http://www.w3.org/2000/svg\" height=\"24px\" viewBox=\"0 -960 960 960\">\n",
              "    <path d=\"M120-120v-720h720v720H120Zm60-500h600v-160H180v160Zm220 220h160v-160H400v160Zm0 220h160v-160H400v160ZM180-400h160v-160H180v160Zm440 0h160v-160H620v160ZM180-180h160v-160H180v160Zm440 0h160v-160H620v160Z\"/>\n",
              "  </svg>\n",
              "    </button>\n",
              "\n",
              "  <style>\n",
              "    .colab-df-container {\n",
              "      display:flex;\n",
              "      gap: 12px;\n",
              "    }\n",
              "\n",
              "    .colab-df-convert {\n",
              "      background-color: #E8F0FE;\n",
              "      border: none;\n",
              "      border-radius: 50%;\n",
              "      cursor: pointer;\n",
              "      display: none;\n",
              "      fill: #1967D2;\n",
              "      height: 32px;\n",
              "      padding: 0 0 0 0;\n",
              "      width: 32px;\n",
              "    }\n",
              "\n",
              "    .colab-df-convert:hover {\n",
              "      background-color: #E2EBFA;\n",
              "      box-shadow: 0px 1px 2px rgba(60, 64, 67, 0.3), 0px 1px 3px 1px rgba(60, 64, 67, 0.15);\n",
              "      fill: #174EA6;\n",
              "    }\n",
              "\n",
              "    .colab-df-buttons div {\n",
              "      margin-bottom: 4px;\n",
              "    }\n",
              "\n",
              "    [theme=dark] .colab-df-convert {\n",
              "      background-color: #3B4455;\n",
              "      fill: #D2E3FC;\n",
              "    }\n",
              "\n",
              "    [theme=dark] .colab-df-convert:hover {\n",
              "      background-color: #434B5C;\n",
              "      box-shadow: 0px 1px 3px 1px rgba(0, 0, 0, 0.15);\n",
              "      filter: drop-shadow(0px 1px 2px rgba(0, 0, 0, 0.3));\n",
              "      fill: #FFFFFF;\n",
              "    }\n",
              "  </style>\n",
              "\n",
              "    <script>\n",
              "      const buttonEl =\n",
              "        document.querySelector('#df-a9b6a5b5-9ae8-4f4d-b15b-ec370319ce4b button.colab-df-convert');\n",
              "      buttonEl.style.display =\n",
              "        google.colab.kernel.accessAllowed ? 'block' : 'none';\n",
              "\n",
              "      async function convertToInteractive(key) {\n",
              "        const element = document.querySelector('#df-a9b6a5b5-9ae8-4f4d-b15b-ec370319ce4b');\n",
              "        const dataTable =\n",
              "          await google.colab.kernel.invokeFunction('convertToInteractive',\n",
              "                                                    [key], {});\n",
              "        if (!dataTable) return;\n",
              "\n",
              "        const docLinkHtml = 'Like what you see? Visit the ' +\n",
              "          '<a target=\"_blank\" href=https://colab.research.google.com/notebooks/data_table.ipynb>data table notebook</a>'\n",
              "          + ' to learn more about interactive tables.';\n",
              "        element.innerHTML = '';\n",
              "        dataTable['output_type'] = 'display_data';\n",
              "        await google.colab.output.renderOutput(dataTable, element);\n",
              "        const docLink = document.createElement('div');\n",
              "        docLink.innerHTML = docLinkHtml;\n",
              "        element.appendChild(docLink);\n",
              "      }\n",
              "    </script>\n",
              "  </div>\n",
              "\n",
              "\n",
              "    <div id=\"df-c9b5811e-2704-410b-9c8e-a0e8c776b91d\">\n",
              "      <button class=\"colab-df-quickchart\" onclick=\"quickchart('df-c9b5811e-2704-410b-9c8e-a0e8c776b91d')\"\n",
              "                title=\"Suggest charts\"\n",
              "                style=\"display:none;\">\n",
              "\n",
              "<svg xmlns=\"http://www.w3.org/2000/svg\" height=\"24px\"viewBox=\"0 0 24 24\"\n",
              "     width=\"24px\">\n",
              "    <g>\n",
              "        <path d=\"M19 3H5c-1.1 0-2 .9-2 2v14c0 1.1.9 2 2 2h14c1.1 0 2-.9 2-2V5c0-1.1-.9-2-2-2zM9 17H7v-7h2v7zm4 0h-2V7h2v10zm4 0h-2v-4h2v4z\"/>\n",
              "    </g>\n",
              "</svg>\n",
              "      </button>\n",
              "\n",
              "<style>\n",
              "  .colab-df-quickchart {\n",
              "      --bg-color: #E8F0FE;\n",
              "      --fill-color: #1967D2;\n",
              "      --hover-bg-color: #E2EBFA;\n",
              "      --hover-fill-color: #174EA6;\n",
              "      --disabled-fill-color: #AAA;\n",
              "      --disabled-bg-color: #DDD;\n",
              "  }\n",
              "\n",
              "  [theme=dark] .colab-df-quickchart {\n",
              "      --bg-color: #3B4455;\n",
              "      --fill-color: #D2E3FC;\n",
              "      --hover-bg-color: #434B5C;\n",
              "      --hover-fill-color: #FFFFFF;\n",
              "      --disabled-bg-color: #3B4455;\n",
              "      --disabled-fill-color: #666;\n",
              "  }\n",
              "\n",
              "  .colab-df-quickchart {\n",
              "    background-color: var(--bg-color);\n",
              "    border: none;\n",
              "    border-radius: 50%;\n",
              "    cursor: pointer;\n",
              "    display: none;\n",
              "    fill: var(--fill-color);\n",
              "    height: 32px;\n",
              "    padding: 0;\n",
              "    width: 32px;\n",
              "  }\n",
              "\n",
              "  .colab-df-quickchart:hover {\n",
              "    background-color: var(--hover-bg-color);\n",
              "    box-shadow: 0 1px 2px rgba(60, 64, 67, 0.3), 0 1px 3px 1px rgba(60, 64, 67, 0.15);\n",
              "    fill: var(--button-hover-fill-color);\n",
              "  }\n",
              "\n",
              "  .colab-df-quickchart-complete:disabled,\n",
              "  .colab-df-quickchart-complete:disabled:hover {\n",
              "    background-color: var(--disabled-bg-color);\n",
              "    fill: var(--disabled-fill-color);\n",
              "    box-shadow: none;\n",
              "  }\n",
              "\n",
              "  .colab-df-spinner {\n",
              "    border: 2px solid var(--fill-color);\n",
              "    border-color: transparent;\n",
              "    border-bottom-color: var(--fill-color);\n",
              "    animation:\n",
              "      spin 1s steps(1) infinite;\n",
              "  }\n",
              "\n",
              "  @keyframes spin {\n",
              "    0% {\n",
              "      border-color: transparent;\n",
              "      border-bottom-color: var(--fill-color);\n",
              "      border-left-color: var(--fill-color);\n",
              "    }\n",
              "    20% {\n",
              "      border-color: transparent;\n",
              "      border-left-color: var(--fill-color);\n",
              "      border-top-color: var(--fill-color);\n",
              "    }\n",
              "    30% {\n",
              "      border-color: transparent;\n",
              "      border-left-color: var(--fill-color);\n",
              "      border-top-color: var(--fill-color);\n",
              "      border-right-color: var(--fill-color);\n",
              "    }\n",
              "    40% {\n",
              "      border-color: transparent;\n",
              "      border-right-color: var(--fill-color);\n",
              "      border-top-color: var(--fill-color);\n",
              "    }\n",
              "    60% {\n",
              "      border-color: transparent;\n",
              "      border-right-color: var(--fill-color);\n",
              "    }\n",
              "    80% {\n",
              "      border-color: transparent;\n",
              "      border-right-color: var(--fill-color);\n",
              "      border-bottom-color: var(--fill-color);\n",
              "    }\n",
              "    90% {\n",
              "      border-color: transparent;\n",
              "      border-bottom-color: var(--fill-color);\n",
              "    }\n",
              "  }\n",
              "</style>\n",
              "\n",
              "      <script>\n",
              "        async function quickchart(key) {\n",
              "          const quickchartButtonEl =\n",
              "            document.querySelector('#' + key + ' button');\n",
              "          quickchartButtonEl.disabled = true;  // To prevent multiple clicks.\n",
              "          quickchartButtonEl.classList.add('colab-df-spinner');\n",
              "          try {\n",
              "            const charts = await google.colab.kernel.invokeFunction(\n",
              "                'suggestCharts', [key], {});\n",
              "          } catch (error) {\n",
              "            console.error('Error during call to suggestCharts:', error);\n",
              "          }\n",
              "          quickchartButtonEl.classList.remove('colab-df-spinner');\n",
              "          quickchartButtonEl.classList.add('colab-df-quickchart-complete');\n",
              "        }\n",
              "        (() => {\n",
              "          let quickchartButtonEl =\n",
              "            document.querySelector('#df-c9b5811e-2704-410b-9c8e-a0e8c776b91d button');\n",
              "          quickchartButtonEl.style.display =\n",
              "            google.colab.kernel.accessAllowed ? 'block' : 'none';\n",
              "        })();\n",
              "      </script>\n",
              "    </div>\n",
              "\n",
              "    </div>\n",
              "  </div>\n"
            ],
            "application/vnd.google.colaboratory.intrinsic+json": {
              "type": "dataframe",
              "variable_name": "valid_data",
              "summary": "{\n  \"name\": \"valid_data\",\n  \"rows\": 1284,\n  \"fields\": [\n    {\n      \"column\": \"column00\",\n      \"properties\": {\n        \"dtype\": \"string\",\n        \"num_unique_values\": 1284,\n        \"samples\": [\n          \"8905.json\",\n          \"9833.json\",\n          \"1519.json\"\n        ],\n        \"semantic_type\": \"\",\n        \"description\": \"\"\n      }\n    },\n    {\n      \"column\": \"column01\",\n      \"properties\": {\n        \"dtype\": \"category\",\n        \"num_unique_values\": 6,\n        \"samples\": [\n          \"barely-true\",\n          \"pants-fire\",\n          \"mostly-true\"\n        ],\n        \"semantic_type\": \"\",\n        \"description\": \"\"\n      }\n    },\n    {\n      \"column\": \"column02\",\n      \"properties\": {\n        \"dtype\": \"string\",\n        \"num_unique_values\": 1284,\n        \"samples\": [\n          \"On the Cuba embargo\",\n          \"My campaign alone has created more jobs in the state of Rhode Island than Narragansett Beer.\",\n          \"\\\"Since 1981, reconciliation has been used 21 times. Most of it's been used by Republicans.\\\"\"\n        ],\n        \"semantic_type\": \"\",\n        \"description\": \"\"\n      }\n    },\n    {\n      \"column\": \"column03\",\n      \"properties\": {\n        \"dtype\": \"string\",\n        \"num_unique_values\": 734,\n        \"samples\": [\n          \"poverty,women\",\n          \"immigration,abc-news-week\",\n          \"county-government,health-care,workers\"\n        ],\n        \"semantic_type\": \"\",\n        \"description\": \"\"\n      }\n    },\n    {\n      \"column\": \"column04\",\n      \"properties\": {\n        \"dtype\": \"string\",\n        \"num_unique_values\": 662,\n        \"samples\": [\n          \"brian-robinson\",\n          \"daniel-lipinski\",\n          \"mary-burke\"\n        ],\n        \"semantic_type\": \"\",\n        \"description\": \"\"\n      }\n    },\n    {\n      \"column\": \"column05\",\n      \"properties\": {\n        \"dtype\": \"category\",\n        \"num_unique_values\": 310,\n        \"samples\": [\n          \"Candidate for lieutenant governor\",\n          \"State Senator\",\n          \"Candidate for U.S. Senate and physician\"\n        ],\n        \"semantic_type\": \"\",\n        \"description\": \"\"\n      }\n    },\n    {\n      \"column\": \"column06\",\n      \"properties\": {\n        \"dtype\": \"category\",\n        \"num_unique_values\": 49,\n        \"samples\": [\n          \"Florida\",\n          \"ohio\",\n          \"Alabama\"\n        ],\n        \"semantic_type\": \"\",\n        \"description\": \"\"\n      }\n    },\n    {\n      \"column\": \"column07\",\n      \"properties\": {\n        \"dtype\": \"category\",\n        \"num_unique_values\": 16,\n        \"samples\": [\n          \"republican\",\n          \"none\",\n          \"activist\"\n        ],\n        \"semantic_type\": \"\",\n        \"description\": \"\"\n      }\n    },\n    {\n      \"column\": \"column08\",\n      \"properties\": {\n        \"dtype\": \"number\",\n        \"std\": 19,\n        \"min\": 0,\n        \"max\": 70,\n        \"num_unique_values\": 30,\n        \"samples\": [\n          31,\n          26,\n          6\n        ],\n        \"semantic_type\": \"\",\n        \"description\": \"\"\n      }\n    },\n    {\n      \"column\": \"column09\",\n      \"properties\": {\n        \"dtype\": \"number\",\n        \"std\": 24,\n        \"min\": 0,\n        \"max\": 114,\n        \"num_unique_values\": 30,\n        \"samples\": [\n          39,\n          32,\n          114\n        ],\n        \"semantic_type\": \"\",\n        \"description\": \"\"\n      }\n    },\n    {\n      \"column\": \"column10\",\n      \"properties\": {\n        \"dtype\": \"number\",\n        \"std\": 35,\n        \"min\": 0,\n        \"max\": 160,\n        \"num_unique_values\": 29,\n        \"samples\": [\n          9,\n          7,\n          38\n        ],\n        \"semantic_type\": \"\",\n        \"description\": \"\"\n      }\n    },\n    {\n      \"column\": \"column11\",\n      \"properties\": {\n        \"dtype\": \"number\",\n        \"std\": 35,\n        \"min\": 0,\n        \"max\": 163,\n        \"num_unique_values\": 27,\n        \"samples\": [\n          16,\n          23,\n          7\n        ],\n        \"semantic_type\": \"\",\n        \"description\": \"\"\n      }\n    },\n    {\n      \"column\": \"column12\",\n      \"properties\": {\n        \"dtype\": \"number\",\n        \"std\": 17,\n        \"min\": 0,\n        \"max\": 105,\n        \"num_unique_values\": 19,\n        \"samples\": [\n          0,\n          4,\n          11\n        ],\n        \"semantic_type\": \"\",\n        \"description\": \"\"\n      }\n    },\n    {\n      \"column\": \"column13\",\n      \"properties\": {\n        \"dtype\": \"string\",\n        \"num_unique_values\": 797,\n        \"samples\": [\n          \"his autobiography\",\n          \"a GOP debate in Miami\",\n          \"a statement on his campaign website.\"\n        ],\n        \"semantic_type\": \"\",\n        \"description\": \"\"\n      }\n    }\n  ]\n}"
            }
          },
          "metadata": {},
          "execution_count": 5
        }
      ],
      "source": [
        "# train_data.head()\n",
        "# test_data.head(10)\n",
        "valid_data.head()\n"
      ]
    },
    {
      "cell_type": "code",
      "execution_count": 6,
      "metadata": {
        "colab": {
          "base_uri": "https://localhost:8080/",
          "height": 397
        },
        "id": "vDSu9i3B1HOV",
        "outputId": "4512a8a4-d30d-42e3-9b81-a4f886b1d351"
      },
      "outputs": [
        {
          "output_type": "execute_result",
          "data": {
            "text/plain": [
              "     column00     column01                                           column02  \\\n",
              "0  12134.json  barely-true  We have less Americans working now than in the...   \n",
              "1    238.json   pants-fire  When Obama was sworn into office, he DID NOT u...   \n",
              "2   7891.json        false  Says Having organizations parading as being so...   \n",
              "3   8169.json    half-true     Says nearly half of Oregons children are poor.   \n",
              "4    929.json    half-true  On attacks by Republicans that various program...   \n",
              "\n",
              "                           column03         column04  \\\n",
              "0                      economy,jobs   vicky-hartzler   \n",
              "1  obama-birth-certificate,religion      chain-email   \n",
              "2   campaign-finance,congress,taxes  earl-blumenauer   \n",
              "3                           poverty  jim-francesconi   \n",
              "4                  economy,stimulus     barack-obama   \n",
              "\n",
              "                                        column05  column06    column07  \\\n",
              "0                            U.S. Representative  Missouri  republican   \n",
              "1                                             \\N        \\N        none   \n",
              "2                            U.S. representative    Oregon    democrat   \n",
              "3  Member of the State Board of Higher Education    Oregon        none   \n",
              "4                                      President  Illinois    democrat   \n",
              "\n",
              "   column08  column09  column10  column11  column12  \\\n",
              "0         1         0         1         0         0   \n",
              "1        11        43         8         5       105   \n",
              "2         0         1         1         1         0   \n",
              "3         0         1         1         1         0   \n",
              "4        70        71       160       163         9   \n",
              "\n",
              "                        column13  \n",
              "0   an interview with ABC17 News  \n",
              "1                             \\N  \n",
              "2  a U.S. Ways and Means hearing  \n",
              "3             an opinion article  \n",
              "4        interview with CBS News  "
            ],
            "text/html": [
              "\n",
              "  <div id=\"df-51bc279c-bf50-41a5-ac93-e531f451655a\" class=\"colab-df-container\">\n",
              "    <div>\n",
              "<style scoped>\n",
              "    .dataframe tbody tr th:only-of-type {\n",
              "        vertical-align: middle;\n",
              "    }\n",
              "\n",
              "    .dataframe tbody tr th {\n",
              "        vertical-align: top;\n",
              "    }\n",
              "\n",
              "    .dataframe thead th {\n",
              "        text-align: right;\n",
              "    }\n",
              "</style>\n",
              "<table border=\"1\" class=\"dataframe\">\n",
              "  <thead>\n",
              "    <tr style=\"text-align: right;\">\n",
              "      <th></th>\n",
              "      <th>column00</th>\n",
              "      <th>column01</th>\n",
              "      <th>column02</th>\n",
              "      <th>column03</th>\n",
              "      <th>column04</th>\n",
              "      <th>column05</th>\n",
              "      <th>column06</th>\n",
              "      <th>column07</th>\n",
              "      <th>column08</th>\n",
              "      <th>column09</th>\n",
              "      <th>column10</th>\n",
              "      <th>column11</th>\n",
              "      <th>column12</th>\n",
              "      <th>column13</th>\n",
              "    </tr>\n",
              "  </thead>\n",
              "  <tbody>\n",
              "    <tr>\n",
              "      <th>0</th>\n",
              "      <td>12134.json</td>\n",
              "      <td>barely-true</td>\n",
              "      <td>We have less Americans working now than in the...</td>\n",
              "      <td>economy,jobs</td>\n",
              "      <td>vicky-hartzler</td>\n",
              "      <td>U.S. Representative</td>\n",
              "      <td>Missouri</td>\n",
              "      <td>republican</td>\n",
              "      <td>1</td>\n",
              "      <td>0</td>\n",
              "      <td>1</td>\n",
              "      <td>0</td>\n",
              "      <td>0</td>\n",
              "      <td>an interview with ABC17 News</td>\n",
              "    </tr>\n",
              "    <tr>\n",
              "      <th>1</th>\n",
              "      <td>238.json</td>\n",
              "      <td>pants-fire</td>\n",
              "      <td>When Obama was sworn into office, he DID NOT u...</td>\n",
              "      <td>obama-birth-certificate,religion</td>\n",
              "      <td>chain-email</td>\n",
              "      <td>\\N</td>\n",
              "      <td>\\N</td>\n",
              "      <td>none</td>\n",
              "      <td>11</td>\n",
              "      <td>43</td>\n",
              "      <td>8</td>\n",
              "      <td>5</td>\n",
              "      <td>105</td>\n",
              "      <td>\\N</td>\n",
              "    </tr>\n",
              "    <tr>\n",
              "      <th>2</th>\n",
              "      <td>7891.json</td>\n",
              "      <td>false</td>\n",
              "      <td>Says Having organizations parading as being so...</td>\n",
              "      <td>campaign-finance,congress,taxes</td>\n",
              "      <td>earl-blumenauer</td>\n",
              "      <td>U.S. representative</td>\n",
              "      <td>Oregon</td>\n",
              "      <td>democrat</td>\n",
              "      <td>0</td>\n",
              "      <td>1</td>\n",
              "      <td>1</td>\n",
              "      <td>1</td>\n",
              "      <td>0</td>\n",
              "      <td>a U.S. Ways and Means hearing</td>\n",
              "    </tr>\n",
              "    <tr>\n",
              "      <th>3</th>\n",
              "      <td>8169.json</td>\n",
              "      <td>half-true</td>\n",
              "      <td>Says nearly half of Oregons children are poor.</td>\n",
              "      <td>poverty</td>\n",
              "      <td>jim-francesconi</td>\n",
              "      <td>Member of the State Board of Higher Education</td>\n",
              "      <td>Oregon</td>\n",
              "      <td>none</td>\n",
              "      <td>0</td>\n",
              "      <td>1</td>\n",
              "      <td>1</td>\n",
              "      <td>1</td>\n",
              "      <td>0</td>\n",
              "      <td>an opinion article</td>\n",
              "    </tr>\n",
              "    <tr>\n",
              "      <th>4</th>\n",
              "      <td>929.json</td>\n",
              "      <td>half-true</td>\n",
              "      <td>On attacks by Republicans that various program...</td>\n",
              "      <td>economy,stimulus</td>\n",
              "      <td>barack-obama</td>\n",
              "      <td>President</td>\n",
              "      <td>Illinois</td>\n",
              "      <td>democrat</td>\n",
              "      <td>70</td>\n",
              "      <td>71</td>\n",
              "      <td>160</td>\n",
              "      <td>163</td>\n",
              "      <td>9</td>\n",
              "      <td>interview with CBS News</td>\n",
              "    </tr>\n",
              "  </tbody>\n",
              "</table>\n",
              "</div>\n",
              "    <div class=\"colab-df-buttons\">\n",
              "\n",
              "  <div class=\"colab-df-container\">\n",
              "    <button class=\"colab-df-convert\" onclick=\"convertToInteractive('df-51bc279c-bf50-41a5-ac93-e531f451655a')\"\n",
              "            title=\"Convert this dataframe to an interactive table.\"\n",
              "            style=\"display:none;\">\n",
              "\n",
              "  <svg xmlns=\"http://www.w3.org/2000/svg\" height=\"24px\" viewBox=\"0 -960 960 960\">\n",
              "    <path d=\"M120-120v-720h720v720H120Zm60-500h600v-160H180v160Zm220 220h160v-160H400v160Zm0 220h160v-160H400v160ZM180-400h160v-160H180v160Zm440 0h160v-160H620v160ZM180-180h160v-160H180v160Zm440 0h160v-160H620v160Z\"/>\n",
              "  </svg>\n",
              "    </button>\n",
              "\n",
              "  <style>\n",
              "    .colab-df-container {\n",
              "      display:flex;\n",
              "      gap: 12px;\n",
              "    }\n",
              "\n",
              "    .colab-df-convert {\n",
              "      background-color: #E8F0FE;\n",
              "      border: none;\n",
              "      border-radius: 50%;\n",
              "      cursor: pointer;\n",
              "      display: none;\n",
              "      fill: #1967D2;\n",
              "      height: 32px;\n",
              "      padding: 0 0 0 0;\n",
              "      width: 32px;\n",
              "    }\n",
              "\n",
              "    .colab-df-convert:hover {\n",
              "      background-color: #E2EBFA;\n",
              "      box-shadow: 0px 1px 2px rgba(60, 64, 67, 0.3), 0px 1px 3px 1px rgba(60, 64, 67, 0.15);\n",
              "      fill: #174EA6;\n",
              "    }\n",
              "\n",
              "    .colab-df-buttons div {\n",
              "      margin-bottom: 4px;\n",
              "    }\n",
              "\n",
              "    [theme=dark] .colab-df-convert {\n",
              "      background-color: #3B4455;\n",
              "      fill: #D2E3FC;\n",
              "    }\n",
              "\n",
              "    [theme=dark] .colab-df-convert:hover {\n",
              "      background-color: #434B5C;\n",
              "      box-shadow: 0px 1px 3px 1px rgba(0, 0, 0, 0.15);\n",
              "      filter: drop-shadow(0px 1px 2px rgba(0, 0, 0, 0.3));\n",
              "      fill: #FFFFFF;\n",
              "    }\n",
              "  </style>\n",
              "\n",
              "    <script>\n",
              "      const buttonEl =\n",
              "        document.querySelector('#df-51bc279c-bf50-41a5-ac93-e531f451655a button.colab-df-convert');\n",
              "      buttonEl.style.display =\n",
              "        google.colab.kernel.accessAllowed ? 'block' : 'none';\n",
              "\n",
              "      async function convertToInteractive(key) {\n",
              "        const element = document.querySelector('#df-51bc279c-bf50-41a5-ac93-e531f451655a');\n",
              "        const dataTable =\n",
              "          await google.colab.kernel.invokeFunction('convertToInteractive',\n",
              "                                                    [key], {});\n",
              "        if (!dataTable) return;\n",
              "\n",
              "        const docLinkHtml = 'Like what you see? Visit the ' +\n",
              "          '<a target=\"_blank\" href=https://colab.research.google.com/notebooks/data_table.ipynb>data table notebook</a>'\n",
              "          + ' to learn more about interactive tables.';\n",
              "        element.innerHTML = '';\n",
              "        dataTable['output_type'] = 'display_data';\n",
              "        await google.colab.output.renderOutput(dataTable, element);\n",
              "        const docLink = document.createElement('div');\n",
              "        docLink.innerHTML = docLinkHtml;\n",
              "        element.appendChild(docLink);\n",
              "      }\n",
              "    </script>\n",
              "  </div>\n",
              "\n",
              "\n",
              "    <div id=\"df-7aba9f0f-4b04-4714-ad16-e199883fcab9\">\n",
              "      <button class=\"colab-df-quickchart\" onclick=\"quickchart('df-7aba9f0f-4b04-4714-ad16-e199883fcab9')\"\n",
              "                title=\"Suggest charts\"\n",
              "                style=\"display:none;\">\n",
              "\n",
              "<svg xmlns=\"http://www.w3.org/2000/svg\" height=\"24px\"viewBox=\"0 0 24 24\"\n",
              "     width=\"24px\">\n",
              "    <g>\n",
              "        <path d=\"M19 3H5c-1.1 0-2 .9-2 2v14c0 1.1.9 2 2 2h14c1.1 0 2-.9 2-2V5c0-1.1-.9-2-2-2zM9 17H7v-7h2v7zm4 0h-2V7h2v10zm4 0h-2v-4h2v4z\"/>\n",
              "    </g>\n",
              "</svg>\n",
              "      </button>\n",
              "\n",
              "<style>\n",
              "  .colab-df-quickchart {\n",
              "      --bg-color: #E8F0FE;\n",
              "      --fill-color: #1967D2;\n",
              "      --hover-bg-color: #E2EBFA;\n",
              "      --hover-fill-color: #174EA6;\n",
              "      --disabled-fill-color: #AAA;\n",
              "      --disabled-bg-color: #DDD;\n",
              "  }\n",
              "\n",
              "  [theme=dark] .colab-df-quickchart {\n",
              "      --bg-color: #3B4455;\n",
              "      --fill-color: #D2E3FC;\n",
              "      --hover-bg-color: #434B5C;\n",
              "      --hover-fill-color: #FFFFFF;\n",
              "      --disabled-bg-color: #3B4455;\n",
              "      --disabled-fill-color: #666;\n",
              "  }\n",
              "\n",
              "  .colab-df-quickchart {\n",
              "    background-color: var(--bg-color);\n",
              "    border: none;\n",
              "    border-radius: 50%;\n",
              "    cursor: pointer;\n",
              "    display: none;\n",
              "    fill: var(--fill-color);\n",
              "    height: 32px;\n",
              "    padding: 0;\n",
              "    width: 32px;\n",
              "  }\n",
              "\n",
              "  .colab-df-quickchart:hover {\n",
              "    background-color: var(--hover-bg-color);\n",
              "    box-shadow: 0 1px 2px rgba(60, 64, 67, 0.3), 0 1px 3px 1px rgba(60, 64, 67, 0.15);\n",
              "    fill: var(--button-hover-fill-color);\n",
              "  }\n",
              "\n",
              "  .colab-df-quickchart-complete:disabled,\n",
              "  .colab-df-quickchart-complete:disabled:hover {\n",
              "    background-color: var(--disabled-bg-color);\n",
              "    fill: var(--disabled-fill-color);\n",
              "    box-shadow: none;\n",
              "  }\n",
              "\n",
              "  .colab-df-spinner {\n",
              "    border: 2px solid var(--fill-color);\n",
              "    border-color: transparent;\n",
              "    border-bottom-color: var(--fill-color);\n",
              "    animation:\n",
              "      spin 1s steps(1) infinite;\n",
              "  }\n",
              "\n",
              "  @keyframes spin {\n",
              "    0% {\n",
              "      border-color: transparent;\n",
              "      border-bottom-color: var(--fill-color);\n",
              "      border-left-color: var(--fill-color);\n",
              "    }\n",
              "    20% {\n",
              "      border-color: transparent;\n",
              "      border-left-color: var(--fill-color);\n",
              "      border-top-color: var(--fill-color);\n",
              "    }\n",
              "    30% {\n",
              "      border-color: transparent;\n",
              "      border-left-color: var(--fill-color);\n",
              "      border-top-color: var(--fill-color);\n",
              "      border-right-color: var(--fill-color);\n",
              "    }\n",
              "    40% {\n",
              "      border-color: transparent;\n",
              "      border-right-color: var(--fill-color);\n",
              "      border-top-color: var(--fill-color);\n",
              "    }\n",
              "    60% {\n",
              "      border-color: transparent;\n",
              "      border-right-color: var(--fill-color);\n",
              "    }\n",
              "    80% {\n",
              "      border-color: transparent;\n",
              "      border-right-color: var(--fill-color);\n",
              "      border-bottom-color: var(--fill-color);\n",
              "    }\n",
              "    90% {\n",
              "      border-color: transparent;\n",
              "      border-bottom-color: var(--fill-color);\n",
              "    }\n",
              "  }\n",
              "</style>\n",
              "\n",
              "      <script>\n",
              "        async function quickchart(key) {\n",
              "          const quickchartButtonEl =\n",
              "            document.querySelector('#' + key + ' button');\n",
              "          quickchartButtonEl.disabled = true;  // To prevent multiple clicks.\n",
              "          quickchartButtonEl.classList.add('colab-df-spinner');\n",
              "          try {\n",
              "            const charts = await google.colab.kernel.invokeFunction(\n",
              "                'suggestCharts', [key], {});\n",
              "          } catch (error) {\n",
              "            console.error('Error during call to suggestCharts:', error);\n",
              "          }\n",
              "          quickchartButtonEl.classList.remove('colab-df-spinner');\n",
              "          quickchartButtonEl.classList.add('colab-df-quickchart-complete');\n",
              "        }\n",
              "        (() => {\n",
              "          let quickchartButtonEl =\n",
              "            document.querySelector('#df-7aba9f0f-4b04-4714-ad16-e199883fcab9 button');\n",
              "          quickchartButtonEl.style.display =\n",
              "            google.colab.kernel.accessAllowed ? 'block' : 'none';\n",
              "        })();\n",
              "      </script>\n",
              "    </div>\n",
              "\n",
              "    </div>\n",
              "  </div>\n"
            ],
            "application/vnd.google.colaboratory.intrinsic+json": {
              "type": "dataframe",
              "variable_name": "data",
              "summary": "{\n  \"name\": \"data\",\n  \"rows\": 12836,\n  \"fields\": [\n    {\n      \"column\": \"column00\",\n      \"properties\": {\n        \"dtype\": \"string\",\n        \"num_unique_values\": 12836,\n        \"samples\": [\n          \"5235.json\",\n          \"8784.json\",\n          \"6930.json\"\n        ],\n        \"semantic_type\": \"\",\n        \"description\": \"\"\n      }\n    },\n    {\n      \"column\": \"column01\",\n      \"properties\": {\n        \"dtype\": \"category\",\n        \"num_unique_values\": 6,\n        \"samples\": [\n          \"barely-true\",\n          \"pants-fire\",\n          \"mostly-true\"\n        ],\n        \"semantic_type\": \"\",\n        \"description\": \"\"\n      }\n    },\n    {\n      \"column\": \"column02\",\n      \"properties\": {\n        \"dtype\": \"string\",\n        \"num_unique_values\": 12810,\n        \"samples\": [\n          \"Says Donald Trump has given more money to Democratic candidates than Republican candidates.\",\n          \"Rob Portmans plan to tax, slash and privatize Social Security would devastate Ohioans.\",\n          \"\\\"And he's the only candidate who will fight for a national catastrophe fund to reduce insurance rates.\\\"\"\n        ],\n        \"semantic_type\": \"\",\n        \"description\": \"\"\n      }\n    },\n    {\n      \"column\": \"column03\",\n      \"properties\": {\n        \"dtype\": \"category\",\n        \"num_unique_values\": 4547,\n        \"samples\": [\n          \"economy,federal-budget,jobs\",\n          \"debt,deficit,taxes\",\n          \"financial-regulation,jobs,occupy-wall-street\"\n        ],\n        \"semantic_type\": \"\",\n        \"description\": \"\"\n      }\n    },\n    {\n      \"column\": \"column04\",\n      \"properties\": {\n        \"dtype\": \"category\",\n        \"num_unique_values\": 3318,\n        \"samples\": [\n          \"frank-luntz\",\n          \"steve-doell\",\n          \"jim-zehringer\"\n        ],\n        \"semantic_type\": \"\",\n        \"description\": \"\"\n      }\n    },\n    {\n      \"column\": \"column05\",\n      \"properties\": {\n        \"dtype\": \"category\",\n        \"num_unique_values\": 1360,\n        \"samples\": [\n          \"Chairman, Prince William County board of supervisors\",\n          \"Eckerd College psychology professor\",\n          \"high school teacher\"\n        ],\n        \"semantic_type\": \"\",\n        \"description\": \"\"\n      }\n    },\n    {\n      \"column\": \"column06\",\n      \"properties\": {\n        \"dtype\": \"category\",\n        \"num_unique_values\": 85,\n        \"samples\": [\n          \"Tennesse\",\n          \"Missouri\",\n          \"South Dakota\"\n        ],\n        \"semantic_type\": \"\",\n        \"description\": \"\"\n      }\n    },\n    {\n      \"column\": \"column07\",\n      \"properties\": {\n        \"dtype\": \"category\",\n        \"num_unique_values\": 24,\n        \"samples\": [\n          \"talk-show-host\",\n          \"state-official\",\n          \"republican\"\n        ],\n        \"semantic_type\": \"\",\n        \"description\": \"\"\n      }\n    },\n    {\n      \"column\": \"column08\",\n      \"properties\": {\n        \"dtype\": \"number\",\n        \"std\": 18,\n        \"min\": 0,\n        \"max\": 70,\n        \"num_unique_values\": 30,\n        \"samples\": [\n          31,\n          26,\n          6\n        ],\n        \"semantic_type\": \"\",\n        \"description\": \"\"\n      }\n    },\n    {\n      \"column\": \"column09\",\n      \"properties\": {\n        \"dtype\": \"number\",\n        \"std\": 24,\n        \"min\": 0,\n        \"max\": 114,\n        \"num_unique_values\": 30,\n        \"samples\": [\n          39,\n          32,\n          114\n        ],\n        \"semantic_type\": \"\",\n        \"description\": \"\"\n      }\n    },\n    {\n      \"column\": \"column10\",\n      \"properties\": {\n        \"dtype\": \"number\",\n        \"std\": 35,\n        \"min\": 0,\n        \"max\": 160,\n        \"num_unique_values\": 29,\n        \"samples\": [\n          9,\n          7,\n          38\n        ],\n        \"semantic_type\": \"\",\n        \"description\": \"\"\n      }\n    },\n    {\n      \"column\": \"column11\",\n      \"properties\": {\n        \"dtype\": \"number\",\n        \"std\": 36,\n        \"min\": 0,\n        \"max\": 163,\n        \"num_unique_values\": 27,\n        \"samples\": [\n          16,\n          23,\n          7\n        ],\n        \"semantic_type\": \"\",\n        \"description\": \"\"\n      }\n    },\n    {\n      \"column\": \"column12\",\n      \"properties\": {\n        \"dtype\": \"number\",\n        \"std\": 16,\n        \"min\": 0,\n        \"max\": 105,\n        \"num_unique_values\": 20,\n        \"samples\": [\n          0,\n          16,\n          44\n        ],\n        \"semantic_type\": \"\",\n        \"description\": \"\"\n      }\n    },\n    {\n      \"column\": \"column13\",\n      \"properties\": {\n        \"dtype\": \"category\",\n        \"num_unique_values\": 5162,\n        \"samples\": [\n          \"a chart\",\n          \"a fundraising letter.\",\n          \"Florida Senate higher education committee hearing\"\n        ],\n        \"semantic_type\": \"\",\n        \"description\": \"\"\n      }\n    }\n  ]\n}"
            }
          },
          "metadata": {},
          "execution_count": 6
        }
      ],
      "source": [
        "data=pd.concat([valid_data,train_data,test_data])\n",
        "data.head()"
      ]
    },
    {
      "cell_type": "code",
      "execution_count": 7,
      "metadata": {
        "colab": {
          "base_uri": "https://localhost:8080/"
        },
        "id": "WtjMSHc_1orC",
        "outputId": "1257a14c-d858-415f-9d91-ca97602fd117"
      },
      "outputs": [
        {
          "output_type": "execute_result",
          "data": {
            "text/plain": [
              "array(['barely-true', 'pants-fire', 'false', 'half-true', 'true',\n",
              "       'mostly-true'], dtype=object)"
            ]
          },
          "metadata": {},
          "execution_count": 7
        }
      ],
      "source": [
        "data.column01.unique()"
      ]
    },
    {
      "cell_type": "code",
      "execution_count": 8,
      "metadata": {
        "id": "B3gPkDRxwWDd"
      },
      "outputs": [],
      "source": [
        "attributes = [\n",
        "    'Id',\n",
        "    'Label',\n",
        "    'Statement',\n",
        "    'Subject',\n",
        "    'Speaker',\n",
        "    'Job Title',\n",
        "    'State',\n",
        "    'Party',\n",
        "    'Barely True Counts',\n",
        "    'False Counts',\n",
        "    'Half True Counts',\n",
        "    'Mostly True Counts',\n",
        "    'Pants on Fire Counts',\n",
        "    'Context'\n",
        "]\n",
        "data.columns=attributes"
      ]
    },
    {
      "cell_type": "code",
      "execution_count": 9,
      "metadata": {
        "id": "N7wX30Hn40ya"
      },
      "outputs": [],
      "source": [
        "binary_map = {\n",
        "    'pants-fire': 0,\n",
        "    'false': 0,\n",
        "    'barely-true': 0,\n",
        "    'half-true': 1,\n",
        "    'mostly-true': 1,\n",
        "    'true': 1\n",
        "}\n",
        "multiclass_map = {\n",
        "    'pants-fire': 0,\n",
        "    'false': 1,\n",
        "    'barely-true': 2,\n",
        "    'half-true': 3,\n",
        "    'mostly-true': 4,\n",
        "    'true': 5\n",
        "}\n",
        "\n",
        "binary_df = data.copy()\n",
        "multiclass_df = data.copy()\n",
        "\n",
        "binary_df['label'] = binary_df['Label'].map(binary_map)\n",
        "multiclass_df['label'] = multiclass_df['Label'].map(multiclass_map)\n",
        "\n",
        "binary_df.dropna(subset=['label'], inplace=True)\n",
        "multiclass_df.dropna(subset=['label'], inplace=True)\n"
      ]
    },
    {
      "cell_type": "code",
      "execution_count": 10,
      "metadata": {
        "colab": {
          "base_uri": "https://localhost:8080/"
        },
        "id": "5I8L1eYv9_b8",
        "outputId": "4c798e9f-5633-446c-ed65-92cd476d5a1f"
      },
      "outputs": [
        {
          "output_type": "stream",
          "name": "stdout",
          "text": [
            "<class 'pandas.core.frame.DataFrame'>\n",
            "Index: 12836 entries, 0 to 1282\n",
            "Data columns (total 14 columns):\n",
            " #   Column                Non-Null Count  Dtype \n",
            "---  ------                --------------  ----- \n",
            " 0   Id                    12836 non-null  object\n",
            " 1   Label                 12836 non-null  object\n",
            " 2   Statement             12836 non-null  object\n",
            " 3   Subject               12836 non-null  object\n",
            " 4   Speaker               12836 non-null  object\n",
            " 5   Job Title             12834 non-null  object\n",
            " 6   State                 12833 non-null  object\n",
            " 7   Party                 12836 non-null  object\n",
            " 8   Barely True Counts    12836 non-null  int64 \n",
            " 9   False Counts          12836 non-null  int64 \n",
            " 10  Half True Counts      12836 non-null  int64 \n",
            " 11  Mostly True Counts    12836 non-null  int64 \n",
            " 12  Pants on Fire Counts  12836 non-null  int64 \n",
            " 13  Context               12836 non-null  object\n",
            "dtypes: int64(5), object(9)\n",
            "memory usage: 1.5+ MB\n"
          ]
        }
      ],
      "source": [
        "data.info()"
      ]
    },
    {
      "cell_type": "code",
      "execution_count": 11,
      "metadata": {
        "colab": {
          "base_uri": "https://localhost:8080/",
          "height": 523
        },
        "id": "OKpSLFBd-Dxu",
        "outputId": "e5efdddd-cbb7-4913-ae55-4a51e8a30426"
      },
      "outputs": [
        {
          "output_type": "execute_result",
          "data": {
            "text/plain": [
              "Id                      0\n",
              "Label                   0\n",
              "Statement               0\n",
              "Subject                 0\n",
              "Speaker                 0\n",
              "Job Title               2\n",
              "State                   3\n",
              "Party                   0\n",
              "Barely True Counts      0\n",
              "False Counts            0\n",
              "Half True Counts        0\n",
              "Mostly True Counts      0\n",
              "Pants on Fire Counts    0\n",
              "Context                 0\n",
              "dtype: int64"
            ],
            "text/html": [
              "<div>\n",
              "<style scoped>\n",
              "    .dataframe tbody tr th:only-of-type {\n",
              "        vertical-align: middle;\n",
              "    }\n",
              "\n",
              "    .dataframe tbody tr th {\n",
              "        vertical-align: top;\n",
              "    }\n",
              "\n",
              "    .dataframe thead th {\n",
              "        text-align: right;\n",
              "    }\n",
              "</style>\n",
              "<table border=\"1\" class=\"dataframe\">\n",
              "  <thead>\n",
              "    <tr style=\"text-align: right;\">\n",
              "      <th></th>\n",
              "      <th>0</th>\n",
              "    </tr>\n",
              "  </thead>\n",
              "  <tbody>\n",
              "    <tr>\n",
              "      <th>Id</th>\n",
              "      <td>0</td>\n",
              "    </tr>\n",
              "    <tr>\n",
              "      <th>Label</th>\n",
              "      <td>0</td>\n",
              "    </tr>\n",
              "    <tr>\n",
              "      <th>Statement</th>\n",
              "      <td>0</td>\n",
              "    </tr>\n",
              "    <tr>\n",
              "      <th>Subject</th>\n",
              "      <td>0</td>\n",
              "    </tr>\n",
              "    <tr>\n",
              "      <th>Speaker</th>\n",
              "      <td>0</td>\n",
              "    </tr>\n",
              "    <tr>\n",
              "      <th>Job Title</th>\n",
              "      <td>2</td>\n",
              "    </tr>\n",
              "    <tr>\n",
              "      <th>State</th>\n",
              "      <td>3</td>\n",
              "    </tr>\n",
              "    <tr>\n",
              "      <th>Party</th>\n",
              "      <td>0</td>\n",
              "    </tr>\n",
              "    <tr>\n",
              "      <th>Barely True Counts</th>\n",
              "      <td>0</td>\n",
              "    </tr>\n",
              "    <tr>\n",
              "      <th>False Counts</th>\n",
              "      <td>0</td>\n",
              "    </tr>\n",
              "    <tr>\n",
              "      <th>Half True Counts</th>\n",
              "      <td>0</td>\n",
              "    </tr>\n",
              "    <tr>\n",
              "      <th>Mostly True Counts</th>\n",
              "      <td>0</td>\n",
              "    </tr>\n",
              "    <tr>\n",
              "      <th>Pants on Fire Counts</th>\n",
              "      <td>0</td>\n",
              "    </tr>\n",
              "    <tr>\n",
              "      <th>Context</th>\n",
              "      <td>0</td>\n",
              "    </tr>\n",
              "  </tbody>\n",
              "</table>\n",
              "</div><br><label><b>dtype:</b> int64</label>"
            ]
          },
          "metadata": {},
          "execution_count": 11
        }
      ],
      "source": [
        "data.isnull().sum()"
      ]
    },
    {
      "cell_type": "code",
      "execution_count": 12,
      "metadata": {
        "colab": {
          "base_uri": "https://localhost:8080/"
        },
        "id": "S4y9rQ_N-Efj",
        "outputId": "ed3fd7ff-f204-4efa-fabe-04e9d286140a"
      },
      "outputs": [
        {
          "output_type": "stream",
          "name": "stdout",
          "text": [
            "           Missing Values  Percentage (%)\n",
            "Job Title               2        0.015581\n",
            "State                   3        0.023372\n"
          ]
        }
      ],
      "source": [
        "# Show null counts and their percentages\n",
        "null_summary = pd.DataFrame({\n",
        "    'Missing Values': data.isnull().sum(),\n",
        "    'Percentage (%)': data.isnull().mean() * 100\n",
        "})\n",
        "null_summary = null_summary[null_summary['Missing Values'] > 0]\n",
        "print(null_summary)\n"
      ]
    },
    {
      "cell_type": "code",
      "execution_count": 13,
      "metadata": {
        "colab": {
          "base_uri": "https://localhost:8080/",
          "height": 414
        },
        "id": "rNmUAJsc_Wlp",
        "outputId": "7e7e724d-d6bf-4974-9bbb-d20058bbc642"
      },
      "outputs": [
        {
          "output_type": "execute_result",
          "data": {
            "text/plain": [
              "          Id        Label                                          Statement  \\\n",
              "0  5235.json  mostly-true  In the last 22 months, businesses have created...   \n",
              "1  8784.json        false  San Antonio has seen 67% growth in water custo...   \n",
              "2  6930.json         true  Sherrod Brown failed to pay his own taxes thre...   \n",
              "3   639.json   pants-fire  Obama wants to increase the size of government...   \n",
              "4  5708.json  mostly-true  Lean, finely textured beef is the proper name ...   \n",
              "\n",
              "                                Subject        Speaker  \\\n",
              "0  corrections-and-updates,economy,jobs   barack-obama   \n",
              "1     city-budget,city-government,water  robert-puente   \n",
              "2            message-machine-2012,taxes    josh-mandel   \n",
              "3                        federal-budget    john-mccain   \n",
              "4                           food-safety     gary-black   \n",
              "\n",
              "                       Job Title     State       Party  Barely True Counts  \\\n",
              "0                      President  Illinois    democrat                  70   \n",
              "1  CEO, San Antonio Water System     Texas    democrat                   0   \n",
              "2                 Ohio treasurer      Ohio  republican                   4   \n",
              "3                   U.S. senator   Arizona  republican                  31   \n",
              "4    Commissioner of Agriculture  Georgia   republican                   0   \n",
              "\n",
              "   False Counts  Half True Counts  Mostly True Counts  Pants on Fire Counts  \\\n",
              "0            71               160                 163                     9   \n",
              "1             1                 0                   0                     0   \n",
              "2             5                 4                   5                     6   \n",
              "3            39                31                  37                     8   \n",
              "4             0                 1                   1                     0   \n",
              "\n",
              "                                     Context  \n",
              "0             the State of the Union address  \n",
              "1  a Texas Tribune Festival panel discussion  \n",
              "2                      a campaign commercial  \n",
              "3               a radio ad called \"Millions\"  \n",
              "4                         a press conference  "
            ],
            "text/html": [
              "\n",
              "  <div id=\"df-00d2b3c1-73d5-4049-9805-ebf9756df302\" class=\"colab-df-container\">\n",
              "    <div>\n",
              "<style scoped>\n",
              "    .dataframe tbody tr th:only-of-type {\n",
              "        vertical-align: middle;\n",
              "    }\n",
              "\n",
              "    .dataframe tbody tr th {\n",
              "        vertical-align: top;\n",
              "    }\n",
              "\n",
              "    .dataframe thead th {\n",
              "        text-align: right;\n",
              "    }\n",
              "</style>\n",
              "<table border=\"1\" class=\"dataframe\">\n",
              "  <thead>\n",
              "    <tr style=\"text-align: right;\">\n",
              "      <th></th>\n",
              "      <th>Id</th>\n",
              "      <th>Label</th>\n",
              "      <th>Statement</th>\n",
              "      <th>Subject</th>\n",
              "      <th>Speaker</th>\n",
              "      <th>Job Title</th>\n",
              "      <th>State</th>\n",
              "      <th>Party</th>\n",
              "      <th>Barely True Counts</th>\n",
              "      <th>False Counts</th>\n",
              "      <th>Half True Counts</th>\n",
              "      <th>Mostly True Counts</th>\n",
              "      <th>Pants on Fire Counts</th>\n",
              "      <th>Context</th>\n",
              "    </tr>\n",
              "  </thead>\n",
              "  <tbody>\n",
              "    <tr>\n",
              "      <th>0</th>\n",
              "      <td>5235.json</td>\n",
              "      <td>mostly-true</td>\n",
              "      <td>In the last 22 months, businesses have created...</td>\n",
              "      <td>corrections-and-updates,economy,jobs</td>\n",
              "      <td>barack-obama</td>\n",
              "      <td>President</td>\n",
              "      <td>Illinois</td>\n",
              "      <td>democrat</td>\n",
              "      <td>70</td>\n",
              "      <td>71</td>\n",
              "      <td>160</td>\n",
              "      <td>163</td>\n",
              "      <td>9</td>\n",
              "      <td>the State of the Union address</td>\n",
              "    </tr>\n",
              "    <tr>\n",
              "      <th>1</th>\n",
              "      <td>8784.json</td>\n",
              "      <td>false</td>\n",
              "      <td>San Antonio has seen 67% growth in water custo...</td>\n",
              "      <td>city-budget,city-government,water</td>\n",
              "      <td>robert-puente</td>\n",
              "      <td>CEO, San Antonio Water System</td>\n",
              "      <td>Texas</td>\n",
              "      <td>democrat</td>\n",
              "      <td>0</td>\n",
              "      <td>1</td>\n",
              "      <td>0</td>\n",
              "      <td>0</td>\n",
              "      <td>0</td>\n",
              "      <td>a Texas Tribune Festival panel discussion</td>\n",
              "    </tr>\n",
              "    <tr>\n",
              "      <th>2</th>\n",
              "      <td>6930.json</td>\n",
              "      <td>true</td>\n",
              "      <td>Sherrod Brown failed to pay his own taxes thre...</td>\n",
              "      <td>message-machine-2012,taxes</td>\n",
              "      <td>josh-mandel</td>\n",
              "      <td>Ohio treasurer</td>\n",
              "      <td>Ohio</td>\n",
              "      <td>republican</td>\n",
              "      <td>4</td>\n",
              "      <td>5</td>\n",
              "      <td>4</td>\n",
              "      <td>5</td>\n",
              "      <td>6</td>\n",
              "      <td>a campaign commercial</td>\n",
              "    </tr>\n",
              "    <tr>\n",
              "      <th>3</th>\n",
              "      <td>639.json</td>\n",
              "      <td>pants-fire</td>\n",
              "      <td>Obama wants to increase the size of government...</td>\n",
              "      <td>federal-budget</td>\n",
              "      <td>john-mccain</td>\n",
              "      <td>U.S. senator</td>\n",
              "      <td>Arizona</td>\n",
              "      <td>republican</td>\n",
              "      <td>31</td>\n",
              "      <td>39</td>\n",
              "      <td>31</td>\n",
              "      <td>37</td>\n",
              "      <td>8</td>\n",
              "      <td>a radio ad called \"Millions\"</td>\n",
              "    </tr>\n",
              "    <tr>\n",
              "      <th>4</th>\n",
              "      <td>5708.json</td>\n",
              "      <td>mostly-true</td>\n",
              "      <td>Lean, finely textured beef is the proper name ...</td>\n",
              "      <td>food-safety</td>\n",
              "      <td>gary-black</td>\n",
              "      <td>Commissioner of Agriculture</td>\n",
              "      <td>Georgia</td>\n",
              "      <td>republican</td>\n",
              "      <td>0</td>\n",
              "      <td>0</td>\n",
              "      <td>1</td>\n",
              "      <td>1</td>\n",
              "      <td>0</td>\n",
              "      <td>a press conference</td>\n",
              "    </tr>\n",
              "  </tbody>\n",
              "</table>\n",
              "</div>\n",
              "    <div class=\"colab-df-buttons\">\n",
              "\n",
              "  <div class=\"colab-df-container\">\n",
              "    <button class=\"colab-df-convert\" onclick=\"convertToInteractive('df-00d2b3c1-73d5-4049-9805-ebf9756df302')\"\n",
              "            title=\"Convert this dataframe to an interactive table.\"\n",
              "            style=\"display:none;\">\n",
              "\n",
              "  <svg xmlns=\"http://www.w3.org/2000/svg\" height=\"24px\" viewBox=\"0 -960 960 960\">\n",
              "    <path d=\"M120-120v-720h720v720H120Zm60-500h600v-160H180v160Zm220 220h160v-160H400v160Zm0 220h160v-160H400v160ZM180-400h160v-160H180v160Zm440 0h160v-160H620v160ZM180-180h160v-160H180v160Zm440 0h160v-160H620v160Z\"/>\n",
              "  </svg>\n",
              "    </button>\n",
              "\n",
              "  <style>\n",
              "    .colab-df-container {\n",
              "      display:flex;\n",
              "      gap: 12px;\n",
              "    }\n",
              "\n",
              "    .colab-df-convert {\n",
              "      background-color: #E8F0FE;\n",
              "      border: none;\n",
              "      border-radius: 50%;\n",
              "      cursor: pointer;\n",
              "      display: none;\n",
              "      fill: #1967D2;\n",
              "      height: 32px;\n",
              "      padding: 0 0 0 0;\n",
              "      width: 32px;\n",
              "    }\n",
              "\n",
              "    .colab-df-convert:hover {\n",
              "      background-color: #E2EBFA;\n",
              "      box-shadow: 0px 1px 2px rgba(60, 64, 67, 0.3), 0px 1px 3px 1px rgba(60, 64, 67, 0.15);\n",
              "      fill: #174EA6;\n",
              "    }\n",
              "\n",
              "    .colab-df-buttons div {\n",
              "      margin-bottom: 4px;\n",
              "    }\n",
              "\n",
              "    [theme=dark] .colab-df-convert {\n",
              "      background-color: #3B4455;\n",
              "      fill: #D2E3FC;\n",
              "    }\n",
              "\n",
              "    [theme=dark] .colab-df-convert:hover {\n",
              "      background-color: #434B5C;\n",
              "      box-shadow: 0px 1px 3px 1px rgba(0, 0, 0, 0.15);\n",
              "      filter: drop-shadow(0px 1px 2px rgba(0, 0, 0, 0.3));\n",
              "      fill: #FFFFFF;\n",
              "    }\n",
              "  </style>\n",
              "\n",
              "    <script>\n",
              "      const buttonEl =\n",
              "        document.querySelector('#df-00d2b3c1-73d5-4049-9805-ebf9756df302 button.colab-df-convert');\n",
              "      buttonEl.style.display =\n",
              "        google.colab.kernel.accessAllowed ? 'block' : 'none';\n",
              "\n",
              "      async function convertToInteractive(key) {\n",
              "        const element = document.querySelector('#df-00d2b3c1-73d5-4049-9805-ebf9756df302');\n",
              "        const dataTable =\n",
              "          await google.colab.kernel.invokeFunction('convertToInteractive',\n",
              "                                                    [key], {});\n",
              "        if (!dataTable) return;\n",
              "\n",
              "        const docLinkHtml = 'Like what you see? Visit the ' +\n",
              "          '<a target=\"_blank\" href=https://colab.research.google.com/notebooks/data_table.ipynb>data table notebook</a>'\n",
              "          + ' to learn more about interactive tables.';\n",
              "        element.innerHTML = '';\n",
              "        dataTable['output_type'] = 'display_data';\n",
              "        await google.colab.output.renderOutput(dataTable, element);\n",
              "        const docLink = document.createElement('div');\n",
              "        docLink.innerHTML = docLinkHtml;\n",
              "        element.appendChild(docLink);\n",
              "      }\n",
              "    </script>\n",
              "  </div>\n",
              "\n",
              "\n",
              "    <div id=\"df-b5d9395a-c293-4f10-86aa-b7fb65202f6f\">\n",
              "      <button class=\"colab-df-quickchart\" onclick=\"quickchart('df-b5d9395a-c293-4f10-86aa-b7fb65202f6f')\"\n",
              "                title=\"Suggest charts\"\n",
              "                style=\"display:none;\">\n",
              "\n",
              "<svg xmlns=\"http://www.w3.org/2000/svg\" height=\"24px\"viewBox=\"0 0 24 24\"\n",
              "     width=\"24px\">\n",
              "    <g>\n",
              "        <path d=\"M19 3H5c-1.1 0-2 .9-2 2v14c0 1.1.9 2 2 2h14c1.1 0 2-.9 2-2V5c0-1.1-.9-2-2-2zM9 17H7v-7h2v7zm4 0h-2V7h2v10zm4 0h-2v-4h2v4z\"/>\n",
              "    </g>\n",
              "</svg>\n",
              "      </button>\n",
              "\n",
              "<style>\n",
              "  .colab-df-quickchart {\n",
              "      --bg-color: #E8F0FE;\n",
              "      --fill-color: #1967D2;\n",
              "      --hover-bg-color: #E2EBFA;\n",
              "      --hover-fill-color: #174EA6;\n",
              "      --disabled-fill-color: #AAA;\n",
              "      --disabled-bg-color: #DDD;\n",
              "  }\n",
              "\n",
              "  [theme=dark] .colab-df-quickchart {\n",
              "      --bg-color: #3B4455;\n",
              "      --fill-color: #D2E3FC;\n",
              "      --hover-bg-color: #434B5C;\n",
              "      --hover-fill-color: #FFFFFF;\n",
              "      --disabled-bg-color: #3B4455;\n",
              "      --disabled-fill-color: #666;\n",
              "  }\n",
              "\n",
              "  .colab-df-quickchart {\n",
              "    background-color: var(--bg-color);\n",
              "    border: none;\n",
              "    border-radius: 50%;\n",
              "    cursor: pointer;\n",
              "    display: none;\n",
              "    fill: var(--fill-color);\n",
              "    height: 32px;\n",
              "    padding: 0;\n",
              "    width: 32px;\n",
              "  }\n",
              "\n",
              "  .colab-df-quickchart:hover {\n",
              "    background-color: var(--hover-bg-color);\n",
              "    box-shadow: 0 1px 2px rgba(60, 64, 67, 0.3), 0 1px 3px 1px rgba(60, 64, 67, 0.15);\n",
              "    fill: var(--button-hover-fill-color);\n",
              "  }\n",
              "\n",
              "  .colab-df-quickchart-complete:disabled,\n",
              "  .colab-df-quickchart-complete:disabled:hover {\n",
              "    background-color: var(--disabled-bg-color);\n",
              "    fill: var(--disabled-fill-color);\n",
              "    box-shadow: none;\n",
              "  }\n",
              "\n",
              "  .colab-df-spinner {\n",
              "    border: 2px solid var(--fill-color);\n",
              "    border-color: transparent;\n",
              "    border-bottom-color: var(--fill-color);\n",
              "    animation:\n",
              "      spin 1s steps(1) infinite;\n",
              "  }\n",
              "\n",
              "  @keyframes spin {\n",
              "    0% {\n",
              "      border-color: transparent;\n",
              "      border-bottom-color: var(--fill-color);\n",
              "      border-left-color: var(--fill-color);\n",
              "    }\n",
              "    20% {\n",
              "      border-color: transparent;\n",
              "      border-left-color: var(--fill-color);\n",
              "      border-top-color: var(--fill-color);\n",
              "    }\n",
              "    30% {\n",
              "      border-color: transparent;\n",
              "      border-left-color: var(--fill-color);\n",
              "      border-top-color: var(--fill-color);\n",
              "      border-right-color: var(--fill-color);\n",
              "    }\n",
              "    40% {\n",
              "      border-color: transparent;\n",
              "      border-right-color: var(--fill-color);\n",
              "      border-top-color: var(--fill-color);\n",
              "    }\n",
              "    60% {\n",
              "      border-color: transparent;\n",
              "      border-right-color: var(--fill-color);\n",
              "    }\n",
              "    80% {\n",
              "      border-color: transparent;\n",
              "      border-right-color: var(--fill-color);\n",
              "      border-bottom-color: var(--fill-color);\n",
              "    }\n",
              "    90% {\n",
              "      border-color: transparent;\n",
              "      border-bottom-color: var(--fill-color);\n",
              "    }\n",
              "  }\n",
              "</style>\n",
              "\n",
              "      <script>\n",
              "        async function quickchart(key) {\n",
              "          const quickchartButtonEl =\n",
              "            document.querySelector('#' + key + ' button');\n",
              "          quickchartButtonEl.disabled = true;  // To prevent multiple clicks.\n",
              "          quickchartButtonEl.classList.add('colab-df-spinner');\n",
              "          try {\n",
              "            const charts = await google.colab.kernel.invokeFunction(\n",
              "                'suggestCharts', [key], {});\n",
              "          } catch (error) {\n",
              "            console.error('Error during call to suggestCharts:', error);\n",
              "          }\n",
              "          quickchartButtonEl.classList.remove('colab-df-spinner');\n",
              "          quickchartButtonEl.classList.add('colab-df-quickchart-complete');\n",
              "        }\n",
              "        (() => {\n",
              "          let quickchartButtonEl =\n",
              "            document.querySelector('#df-b5d9395a-c293-4f10-86aa-b7fb65202f6f button');\n",
              "          quickchartButtonEl.style.display =\n",
              "            google.colab.kernel.accessAllowed ? 'block' : 'none';\n",
              "        })();\n",
              "      </script>\n",
              "    </div>\n",
              "\n",
              "    </div>\n",
              "  </div>\n"
            ],
            "application/vnd.google.colaboratory.intrinsic+json": {
              "type": "dataframe",
              "variable_name": "data",
              "summary": "{\n  \"name\": \"data\",\n  \"rows\": 12836,\n  \"fields\": [\n    {\n      \"column\": \"Id\",\n      \"properties\": {\n        \"dtype\": \"string\",\n        \"num_unique_values\": 12836,\n        \"samples\": [\n          \"3127.json\",\n          \"634.json\",\n          \"6765.json\"\n        ],\n        \"semantic_type\": \"\",\n        \"description\": \"\"\n      }\n    },\n    {\n      \"column\": \"Label\",\n      \"properties\": {\n        \"dtype\": \"category\",\n        \"num_unique_values\": 6,\n        \"samples\": [\n          \"mostly-true\",\n          \"false\",\n          \"half-true\"\n        ],\n        \"semantic_type\": \"\",\n        \"description\": \"\"\n      }\n    },\n    {\n      \"column\": \"Statement\",\n      \"properties\": {\n        \"dtype\": \"string\",\n        \"num_unique_values\": 12810,\n        \"samples\": [\n          \"Says Tom Cotton voted to turn Medicare into a voucher system.\",\n          \"The War in Afghanistan is officially the longest war Americans have ever been asked to endure.\",\n          \"An April study found that about 70 percent of ads in this election cycle have been negative [due to SuperPACs], up from only 9 percent through the same period in 2008.\"\n        ],\n        \"semantic_type\": \"\",\n        \"description\": \"\"\n      }\n    },\n    {\n      \"column\": \"Subject\",\n      \"properties\": {\n        \"dtype\": \"category\",\n        \"num_unique_values\": 4547,\n        \"samples\": [\n          \"civil-rights,legal-issues,sexuality,workers\",\n          \"urban\",\n          \"economy,jobs\"\n        ],\n        \"semantic_type\": \"\",\n        \"description\": \"\"\n      }\n    },\n    {\n      \"column\": \"Speaker\",\n      \"properties\": {\n        \"dtype\": \"category\",\n        \"num_unique_values\": 3318,\n        \"samples\": [\n          \"cornell-william-brooks\",\n          \"alternativepac\",\n          \"national-organization-marriage\"\n        ],\n        \"semantic_type\": \"\",\n        \"description\": \"\"\n      }\n    },\n    {\n      \"column\": \"Job Title\",\n      \"properties\": {\n        \"dtype\": \"category\",\n        \"num_unique_values\": 1360,\n        \"samples\": [\n          \"Missouri state senator\",\n          \"Allegheny County District Attorney\",\n          \"NBC News correspondent\"\n        ],\n        \"semantic_type\": \"\",\n        \"description\": \"\"\n      }\n    },\n    {\n      \"column\": \"State\",\n      \"properties\": {\n        \"dtype\": \"category\",\n        \"num_unique_values\": 85,\n        \"samples\": [\n          \"New York \",\n          \"Illinois\",\n          \"Washington, D.C. \"\n        ],\n        \"semantic_type\": \"\",\n        \"description\": \"\"\n      }\n    },\n    {\n      \"column\": \"Party\",\n      \"properties\": {\n        \"dtype\": \"category\",\n        \"num_unique_values\": 24,\n        \"samples\": [\n          \"labor-leader\",\n          \"government-body\",\n          \"democrat\"\n        ],\n        \"semantic_type\": \"\",\n        \"description\": \"\"\n      }\n    },\n    {\n      \"column\": \"Barely True Counts\",\n      \"properties\": {\n        \"dtype\": \"number\",\n        \"std\": 18,\n        \"min\": 0,\n        \"max\": 70,\n        \"num_unique_values\": 30,\n        \"samples\": [\n          36,\n          11,\n          16\n        ],\n        \"semantic_type\": \"\",\n        \"description\": \"\"\n      }\n    },\n    {\n      \"column\": \"False Counts\",\n      \"properties\": {\n        \"dtype\": \"number\",\n        \"std\": 24,\n        \"min\": 0,\n        \"max\": 114,\n        \"num_unique_values\": 30,\n        \"samples\": [\n          23,\n          43,\n          9\n        ],\n        \"semantic_type\": \"\",\n        \"description\": \"\"\n      }\n    },\n    {\n      \"column\": \"Half True Counts\",\n      \"properties\": {\n        \"dtype\": \"number\",\n        \"std\": 35,\n        \"min\": 0,\n        \"max\": 160,\n        \"num_unique_values\": 29,\n        \"samples\": [\n          21,\n          8,\n          27\n        ],\n        \"semantic_type\": \"\",\n        \"description\": \"\"\n      }\n    },\n    {\n      \"column\": \"Mostly True Counts\",\n      \"properties\": {\n        \"dtype\": \"number\",\n        \"std\": 36,\n        \"min\": 0,\n        \"max\": 163,\n        \"num_unique_values\": 27,\n        \"samples\": [\n          2,\n          18,\n          76\n        ],\n        \"semantic_type\": \"\",\n        \"description\": \"\"\n      }\n    },\n    {\n      \"column\": \"Pants on Fire Counts\",\n      \"properties\": {\n        \"dtype\": \"number\",\n        \"std\": 16,\n        \"min\": 0,\n        \"max\": 105,\n        \"num_unique_values\": 20,\n        \"samples\": [\n          9,\n          44,\n          16\n        ],\n        \"semantic_type\": \"\",\n        \"description\": \"\"\n      }\n    },\n    {\n      \"column\": \"Context\",\n      \"properties\": {\n        \"dtype\": \"category\",\n        \"num_unique_values\": 5162,\n        \"samples\": [\n          \"a campaign appearance\",\n          \"a floor speech in the House of Delegates.\",\n          \"Clinton, Iowa\"\n        ],\n        \"semantic_type\": \"\",\n        \"description\": \"\"\n      }\n    }\n  ]\n}"
            }
          },
          "metadata": {},
          "execution_count": 13
        }
      ],
      "source": [
        "data=data.sample(frac = 1,random_state=42).reset_index(drop=True)\n",
        "data.head()"
      ]
    },
    {
      "cell_type": "code",
      "execution_count": 14,
      "metadata": {
        "colab": {
          "base_uri": "https://localhost:8080/",
          "height": 567
        },
        "id": "i9VvXUxlGHfl",
        "outputId": "d9420846-31bc-4d78-ff61-fddab8ff6205"
      },
      "outputs": [
        {
          "output_type": "stream",
          "name": "stderr",
          "text": [
            "<ipython-input-14-ae13624bbe5e>:4: FutureWarning: \n",
            "\n",
            "Passing `palette` without assigning `hue` is deprecated and will be removed in v0.14.0. Assign the `x` variable to `hue` and set `legend=False` for the same effect.\n",
            "\n",
            "  sns.countplot(x='Label', data=data, palette='Blues_r')\n"
          ]
        },
        {
          "output_type": "display_data",
          "data": {
            "text/plain": [
              "<Figure size 640x480 with 1 Axes>"
            ],
            "image/png": "[encoded data removed]"
          },
          "metadata": {}
        }
      ],
      "source": [
        "import seaborn as sns\n",
        "import matplotlib.pyplot as plt\n",
        "\n",
        "sns.countplot(x='Label', data=data, palette='Blues_r')\n",
        "plt.title('Fake News vs Real News', fontsize=20, backgroundcolor='aliceblue')\n",
        "plt.xlabel(\"Label (0 = Fake, 1 = Real)\")\n",
        "plt.ylabel(\"Count\")\n",
        "plt.show()\n"
      ]
    },
    {
      "cell_type": "code",
      "execution_count": 15,
      "metadata": {
        "colab": {
          "base_uri": "https://localhost:8080/",
          "height": 1000
        },
        "id": "TfED-K4-6GNh",
        "outputId": "8d71804f-ec5d-4fab-adbb-5e156aea78c4"
      },
      "outputs": [
        {
          "output_type": "execute_result",
          "data": {
            "text/plain": [
              "              Id        Label  \\\n",
              "0     12134.json  barely-true   \n",
              "1       238.json   pants-fire   \n",
              "2      7891.json        false   \n",
              "3      8169.json    half-true   \n",
              "4       929.json    half-true   \n",
              "...          ...          ...   \n",
              "1278   7334.json    half-true   \n",
              "1279   9788.json  barely-true   \n",
              "1280  10710.json  barely-true   \n",
              "1281   3186.json  barely-true   \n",
              "1282   6743.json        false   \n",
              "\n",
              "                                              Statement  \\\n",
              "0     We have less Americans working now than in the...   \n",
              "1     When Obama was sworn into office, he DID NOT u...   \n",
              "2     Says Having organizations parading as being so...   \n",
              "3        Says nearly half of Oregons children are poor.   \n",
              "4     On attacks by Republicans that various program...   \n",
              "...                                                 ...   \n",
              "1278  Says his budget provides the highest state fun...   \n",
              "1279                    Ive been here almost every day.   \n",
              "1280  In the early 1980s, Sen. Edward Kennedy secret...   \n",
              "1281  Says an EPA permit languished under Strickland...   \n",
              "1282  Says the governor is going around the state ta...   \n",
              "\n",
              "                                             Subject                Speaker  \\\n",
              "0                                       economy,jobs         vicky-hartzler   \n",
              "1                   obama-birth-certificate,religion            chain-email   \n",
              "2                    campaign-finance,congress,taxes        earl-blumenauer   \n",
              "3                                            poverty        jim-francesconi   \n",
              "4                                   economy,stimulus           barack-obama   \n",
              "...                                              ...                    ...   \n",
              "1278                                       education             rick-scott   \n",
              "1279             civil-rights,crime,criminal-justice              jay-nixon   \n",
              "1280  bipartisanship,congress,foreign-policy,history  mackubin-thomas-owens   \n",
              "1281               environment,government-efficiency            john-kasich   \n",
              "1282               state-budget,state-finances,taxes       john-burzichelli   \n",
              "\n",
              "                                             Job Title         State  \\\n",
              "0                                  U.S. Representative      Missouri   \n",
              "1                                                   \\N            \\N   \n",
              "2                                  U.S. representative        Oregon   \n",
              "3        Member of the State Board of Higher Education        Oregon   \n",
              "4                                            President      Illinois   \n",
              "...                                                ...           ...   \n",
              "1278                                          Governor       Florida   \n",
              "1279                                          Governor      Missouri   \n",
              "1280  senior fellow, Foreign Policy Research Institute  Rhode Island   \n",
              "1281              Governor of Ohio as of Jan. 10, 2011          Ohio   \n",
              "1282                                                \\N            \\N   \n",
              "\n",
              "           Party  Barely True Counts  False Counts  Half True Counts  \\\n",
              "0     republican                   1             0                 1   \n",
              "1           none                  11            43                 8   \n",
              "2       democrat                   0             1                 1   \n",
              "3           none                   0             1                 1   \n",
              "4       democrat                  70            71               160   \n",
              "...          ...                 ...           ...               ...   \n",
              "1278  republican                  28            23                38   \n",
              "1279    democrat                   2             0                 0   \n",
              "1280   columnist                   1             0                 0   \n",
              "1281  republican                   9             8                10   \n",
              "1282    democrat                   1             1                 0   \n",
              "\n",
              "      Mostly True Counts  Pants on Fire Counts  \\\n",
              "0                      0                     0   \n",
              "1                      5                   105   \n",
              "2                      1                     0   \n",
              "3                      1                     0   \n",
              "4                    163                     9   \n",
              "...                  ...                   ...   \n",
              "1278                  34                     7   \n",
              "1279                   1                     0   \n",
              "1280                   0                     0   \n",
              "1281                  18                     3   \n",
              "1282                   0                     0   \n",
              "\n",
              "                                     Context  label  \n",
              "0               an interview with ABC17 News      0  \n",
              "1                                         \\N      0  \n",
              "2              a U.S. Ways and Means hearing      0  \n",
              "3                         an opinion article      1  \n",
              "4                    interview with CBS News      1  \n",
              "...                                      ...    ...  \n",
              "1278                       a news conference      1  \n",
              "1279                    on ABC's \"This Week\"      0  \n",
              "1280  a commentary in The Providence Journal      0  \n",
              "1281                       a news conference      0  \n",
              "1282               an interview with NJToday      0  \n",
              "\n",
              "[12836 rows x 15 columns]"
            ],
            "text/html": [
              "\n",
              "  <div id=\"df-db49764e-ed62-44b9-beaf-f4f88e0c52bf\" class=\"colab-df-container\">\n",
              "    <div>\n",
              "<style scoped>\n",
              "    .dataframe tbody tr th:only-of-type {\n",
              "        vertical-align: middle;\n",
              "    }\n",
              "\n",
              "    .dataframe tbody tr th {\n",
              "        vertical-align: top;\n",
              "    }\n",
              "\n",
              "    .dataframe thead th {\n",
              "        text-align: right;\n",
              "    }\n",
              "</style>\n",
              "<table border=\"1\" class=\"dataframe\">\n",
              "  <thead>\n",
              "    <tr style=\"text-align: right;\">\n",
              "      <th></th>\n",
              "      <th>Id</th>\n",
              "      <th>Label</th>\n",
              "      <th>Statement</th>\n",
              "      <th>Subject</th>\n",
              "      <th>Speaker</th>\n",
              "      <th>Job Title</th>\n",
              "      <th>State</th>\n",
              "      <th>Party</th>\n",
              "      <th>Barely True Counts</th>\n",
              "      <th>False Counts</th>\n",
              "      <th>Half True Counts</th>\n",
              "      <th>Mostly True Counts</th>\n",
              "      <th>Pants on Fire Counts</th>\n",
              "      <th>Context</th>\n",
              "      <th>label</th>\n",
              "    </tr>\n",
              "  </thead>\n",
              "  <tbody>\n",
              "    <tr>\n",
              "      <th>0</th>\n",
              "      <td>12134.json</td>\n",
              "      <td>barely-true</td>\n",
              "      <td>We have less Americans working now than in the...</td>\n",
              "      <td>economy,jobs</td>\n",
              "      <td>vicky-hartzler</td>\n",
              "      <td>U.S. Representative</td>\n",
              "      <td>Missouri</td>\n",
              "      <td>republican</td>\n",
              "      <td>1</td>\n",
              "      <td>0</td>\n",
              "      <td>1</td>\n",
              "      <td>0</td>\n",
              "      <td>0</td>\n",
              "      <td>an interview with ABC17 News</td>\n",
              "      <td>0</td>\n",
              "    </tr>\n",
              "    <tr>\n",
              "      <th>1</th>\n",
              "      <td>238.json</td>\n",
              "      <td>pants-fire</td>\n",
              "      <td>When Obama was sworn into office, he DID NOT u...</td>\n",
              "      <td>obama-birth-certificate,religion</td>\n",
              "      <td>chain-email</td>\n",
              "      <td>\\N</td>\n",
              "      <td>\\N</td>\n",
              "      <td>none</td>\n",
              "      <td>11</td>\n",
              "      <td>43</td>\n",
              "      <td>8</td>\n",
              "      <td>5</td>\n",
              "      <td>105</td>\n",
              "      <td>\\N</td>\n",
              "      <td>0</td>\n",
              "    </tr>\n",
              "    <tr>\n",
              "      <th>2</th>\n",
              "      <td>7891.json</td>\n",
              "      <td>false</td>\n",
              "      <td>Says Having organizations parading as being so...</td>\n",
              "      <td>campaign-finance,congress,taxes</td>\n",
              "      <td>earl-blumenauer</td>\n",
              "      <td>U.S. representative</td>\n",
              "      <td>Oregon</td>\n",
              "      <td>democrat</td>\n",
              "      <td>0</td>\n",
              "      <td>1</td>\n",
              "      <td>1</td>\n",
              "      <td>1</td>\n",
              "      <td>0</td>\n",
              "      <td>a U.S. Ways and Means hearing</td>\n",
              "      <td>0</td>\n",
              "    </tr>\n",
              "    <tr>\n",
              "      <th>3</th>\n",
              "      <td>8169.json</td>\n",
              "      <td>half-true</td>\n",
              "      <td>Says nearly half of Oregons children are poor.</td>\n",
              "      <td>poverty</td>\n",
              "      <td>jim-francesconi</td>\n",
              "      <td>Member of the State Board of Higher Education</td>\n",
              "      <td>Oregon</td>\n",
              "      <td>none</td>\n",
              "      <td>0</td>\n",
              "      <td>1</td>\n",
              "      <td>1</td>\n",
              "      <td>1</td>\n",
              "      <td>0</td>\n",
              "      <td>an opinion article</td>\n",
              "      <td>1</td>\n",
              "    </tr>\n",
              "    <tr>\n",
              "      <th>4</th>\n",
              "      <td>929.json</td>\n",
              "      <td>half-true</td>\n",
              "      <td>On attacks by Republicans that various program...</td>\n",
              "      <td>economy,stimulus</td>\n",
              "      <td>barack-obama</td>\n",
              "      <td>President</td>\n",
              "      <td>Illinois</td>\n",
              "      <td>democrat</td>\n",
              "      <td>70</td>\n",
              "      <td>71</td>\n",
              "      <td>160</td>\n",
              "      <td>163</td>\n",
              "      <td>9</td>\n",
              "      <td>interview with CBS News</td>\n",
              "      <td>1</td>\n",
              "    </tr>\n",
              "    <tr>\n",
              "      <th>...</th>\n",
              "      <td>...</td>\n",
              "      <td>...</td>\n",
              "      <td>...</td>\n",
              "      <td>...</td>\n",
              "      <td>...</td>\n",
              "      <td>...</td>\n",
              "      <td>...</td>\n",
              "      <td>...</td>\n",
              "      <td>...</td>\n",
              "      <td>...</td>\n",
              "      <td>...</td>\n",
              "      <td>...</td>\n",
              "      <td>...</td>\n",
              "      <td>...</td>\n",
              "      <td>...</td>\n",
              "    </tr>\n",
              "    <tr>\n",
              "      <th>1278</th>\n",
              "      <td>7334.json</td>\n",
              "      <td>half-true</td>\n",
              "      <td>Says his budget provides the highest state fun...</td>\n",
              "      <td>education</td>\n",
              "      <td>rick-scott</td>\n",
              "      <td>Governor</td>\n",
              "      <td>Florida</td>\n",
              "      <td>republican</td>\n",
              "      <td>28</td>\n",
              "      <td>23</td>\n",
              "      <td>38</td>\n",
              "      <td>34</td>\n",
              "      <td>7</td>\n",
              "      <td>a news conference</td>\n",
              "      <td>1</td>\n",
              "    </tr>\n",
              "    <tr>\n",
              "      <th>1279</th>\n",
              "      <td>9788.json</td>\n",
              "      <td>barely-true</td>\n",
              "      <td>Ive been here almost every day.</td>\n",
              "      <td>civil-rights,crime,criminal-justice</td>\n",
              "      <td>jay-nixon</td>\n",
              "      <td>Governor</td>\n",
              "      <td>Missouri</td>\n",
              "      <td>democrat</td>\n",
              "      <td>2</td>\n",
              "      <td>0</td>\n",
              "      <td>0</td>\n",
              "      <td>1</td>\n",
              "      <td>0</td>\n",
              "      <td>on ABC's \"This Week\"</td>\n",
              "      <td>0</td>\n",
              "    </tr>\n",
              "    <tr>\n",
              "      <th>1280</th>\n",
              "      <td>10710.json</td>\n",
              "      <td>barely-true</td>\n",
              "      <td>In the early 1980s, Sen. Edward Kennedy secret...</td>\n",
              "      <td>bipartisanship,congress,foreign-policy,history</td>\n",
              "      <td>mackubin-thomas-owens</td>\n",
              "      <td>senior fellow, Foreign Policy Research Institute</td>\n",
              "      <td>Rhode Island</td>\n",
              "      <td>columnist</td>\n",
              "      <td>1</td>\n",
              "      <td>0</td>\n",
              "      <td>0</td>\n",
              "      <td>0</td>\n",
              "      <td>0</td>\n",
              "      <td>a commentary in The Providence Journal</td>\n",
              "      <td>0</td>\n",
              "    </tr>\n",
              "    <tr>\n",
              "      <th>1281</th>\n",
              "      <td>3186.json</td>\n",
              "      <td>barely-true</td>\n",
              "      <td>Says an EPA permit languished under Strickland...</td>\n",
              "      <td>environment,government-efficiency</td>\n",
              "      <td>john-kasich</td>\n",
              "      <td>Governor of Ohio as of Jan. 10, 2011</td>\n",
              "      <td>Ohio</td>\n",
              "      <td>republican</td>\n",
              "      <td>9</td>\n",
              "      <td>8</td>\n",
              "      <td>10</td>\n",
              "      <td>18</td>\n",
              "      <td>3</td>\n",
              "      <td>a news conference</td>\n",
              "      <td>0</td>\n",
              "    </tr>\n",
              "    <tr>\n",
              "      <th>1282</th>\n",
              "      <td>6743.json</td>\n",
              "      <td>false</td>\n",
              "      <td>Says the governor is going around the state ta...</td>\n",
              "      <td>state-budget,state-finances,taxes</td>\n",
              "      <td>john-burzichelli</td>\n",
              "      <td>\\N</td>\n",
              "      <td>\\N</td>\n",
              "      <td>democrat</td>\n",
              "      <td>1</td>\n",
              "      <td>1</td>\n",
              "      <td>0</td>\n",
              "      <td>0</td>\n",
              "      <td>0</td>\n",
              "      <td>an interview with NJToday</td>\n",
              "      <td>0</td>\n",
              "    </tr>\n",
              "  </tbody>\n",
              "</table>\n",
              "<p>12836 rows × 15 columns</p>\n",
              "</div>\n",
              "    <div class=\"colab-df-buttons\">\n",
              "\n",
              "  <div class=\"colab-df-container\">\n",
              "    <button class=\"colab-df-convert\" onclick=\"convertToInteractive('df-db49764e-ed62-44b9-beaf-f4f88e0c52bf')\"\n",
              "            title=\"Convert this dataframe to an interactive table.\"\n",
              "            style=\"display:none;\">\n",
              "\n",
              "  <svg xmlns=\"http://www.w3.org/2000/svg\" height=\"24px\" viewBox=\"0 -960 960 960\">\n",
              "    <path d=\"M120-120v-720h720v720H120Zm60-500h600v-160H180v160Zm220 220h160v-160H400v160Zm0 220h160v-160H400v160ZM180-400h160v-160H180v160Zm440 0h160v-160H620v160ZM180-180h160v-160H180v160Zm440 0h160v-160H620v160Z\"/>\n",
              "  </svg>\n",
              "    </button>\n",
              "\n",
              "  <style>\n",
              "    .colab-df-container {\n",
              "      display:flex;\n",
              "      gap: 12px;\n",
              "    }\n",
              "\n",
              "    .colab-df-convert {\n",
              "      background-color: #E8F0FE;\n",
              "      border: none;\n",
              "      border-radius: 50%;\n",
              "      cursor: pointer;\n",
              "      display: none;\n",
              "      fill: #1967D2;\n",
              "      height: 32px;\n",
              "      padding: 0 0 0 0;\n",
              "      width: 32px;\n",
              "    }\n",
              "\n",
              "    .colab-df-convert:hover {\n",
              "      background-color: #E2EBFA;\n",
              "      box-shadow: 0px 1px 2px rgba(60, 64, 67, 0.3), 0px 1px 3px 1px rgba(60, 64, 67, 0.15);\n",
              "      fill: #174EA6;\n",
              "    }\n",
              "\n",
              "    .colab-df-buttons div {\n",
              "      margin-bottom: 4px;\n",
              "    }\n",
              "\n",
              "    [theme=dark] .colab-df-convert {\n",
              "      background-color: #3B4455;\n",
              "      fill: #D2E3FC;\n",
              "    }\n",
              "\n",
              "    [theme=dark] .colab-df-convert:hover {\n",
              "      background-color: #434B5C;\n",
              "      box-shadow: 0px 1px 3px 1px rgba(0, 0, 0, 0.15);\n",
              "      filter: drop-shadow(0px 1px 2px rgba(0, 0, 0, 0.3));\n",
              "      fill: #FFFFFF;\n",
              "    }\n",
              "  </style>\n",
              "\n",
              "    <script>\n",
              "      const buttonEl =\n",
              "        document.querySelector('#df-db49764e-ed62-44b9-beaf-f4f88e0c52bf button.colab-df-convert');\n",
              "      buttonEl.style.display =\n",
              "        google.colab.kernel.accessAllowed ? 'block' : 'none';\n",
              "\n",
              "      async function convertToInteractive(key) {\n",
              "        const element = document.querySelector('#df-db49764e-ed62-44b9-beaf-f4f88e0c52bf');\n",
              "        const dataTable =\n",
              "          await google.colab.kernel.invokeFunction('convertToInteractive',\n",
              "                                                    [key], {});\n",
              "        if (!dataTable) return;\n",
              "\n",
              "        const docLinkHtml = 'Like what you see? Visit the ' +\n",
              "          '<a target=\"_blank\" href=https://colab.research.google.com/notebooks/data_table.ipynb>data table notebook</a>'\n",
              "          + ' to learn more about interactive tables.';\n",
              "        element.innerHTML = '';\n",
              "        dataTable['output_type'] = 'display_data';\n",
              "        await google.colab.output.renderOutput(dataTable, element);\n",
              "        const docLink = document.createElement('div');\n",
              "        docLink.innerHTML = docLinkHtml;\n",
              "        element.appendChild(docLink);\n",
              "      }\n",
              "    </script>\n",
              "  </div>\n",
              "\n",
              "\n",
              "    <div id=\"df-503b4d66-5034-40c3-81ad-6e17cd4c515e\">\n",
              "      <button class=\"colab-df-quickchart\" onclick=\"quickchart('df-503b4d66-5034-40c3-81ad-6e17cd4c515e')\"\n",
              "                title=\"Suggest charts\"\n",
              "                style=\"display:none;\">\n",
              "\n",
              "<svg xmlns=\"http://www.w3.org/2000/svg\" height=\"24px\"viewBox=\"0 0 24 24\"\n",
              "     width=\"24px\">\n",
              "    <g>\n",
              "        <path d=\"M19 3H5c-1.1 0-2 .9-2 2v14c0 1.1.9 2 2 2h14c1.1 0 2-.9 2-2V5c0-1.1-.9-2-2-2zM9 17H7v-7h2v7zm4 0h-2V7h2v10zm4 0h-2v-4h2v4z\"/>\n",
              "    </g>\n",
              "</svg>\n",
              "      </button>\n",
              "\n",
              "<style>\n",
              "  .colab-df-quickchart {\n",
              "      --bg-color: #E8F0FE;\n",
              "      --fill-color: #1967D2;\n",
              "      --hover-bg-color: #E2EBFA;\n",
              "      --hover-fill-color: #174EA6;\n",
              "      --disabled-fill-color: #AAA;\n",
              "      --disabled-bg-color: #DDD;\n",
              "  }\n",
              "\n",
              "  [theme=dark] .colab-df-quickchart {\n",
              "      --bg-color: #3B4455;\n",
              "      --fill-color: #D2E3FC;\n",
              "      --hover-bg-color: #434B5C;\n",
              "      --hover-fill-color: #FFFFFF;\n",
              "      --disabled-bg-color: #3B4455;\n",
              "      --disabled-fill-color: #666;\n",
              "  }\n",
              "\n",
              "  .colab-df-quickchart {\n",
              "    background-color: var(--bg-color);\n",
              "    border: none;\n",
              "    border-radius: 50%;\n",
              "    cursor: pointer;\n",
              "    display: none;\n",
              "    fill: var(--fill-color);\n",
              "    height: 32px;\n",
              "    padding: 0;\n",
              "    width: 32px;\n",
              "  }\n",
              "\n",
              "  .colab-df-quickchart:hover {\n",
              "    background-color: var(--hover-bg-color);\n",
              "    box-shadow: 0 1px 2px rgba(60, 64, 67, 0.3), 0 1px 3px 1px rgba(60, 64, 67, 0.15);\n",
              "    fill: var(--button-hover-fill-color);\n",
              "  }\n",
              "\n",
              "  .colab-df-quickchart-complete:disabled,\n",
              "  .colab-df-quickchart-complete:disabled:hover {\n",
              "    background-color: var(--disabled-bg-color);\n",
              "    fill: var(--disabled-fill-color);\n",
              "    box-shadow: none;\n",
              "  }\n",
              "\n",
              "  .colab-df-spinner {\n",
              "    border: 2px solid var(--fill-color);\n",
              "    border-color: transparent;\n",
              "    border-bottom-color: var(--fill-color);\n",
              "    animation:\n",
              "      spin 1s steps(1) infinite;\n",
              "  }\n",
              "\n",
              "  @keyframes spin {\n",
              "    0% {\n",
              "      border-color: transparent;\n",
              "      border-bottom-color: var(--fill-color);\n",
              "      border-left-color: var(--fill-color);\n",
              "    }\n",
              "    20% {\n",
              "      border-color: transparent;\n",
              "      border-left-color: var(--fill-color);\n",
              "      border-top-color: var(--fill-color);\n",
              "    }\n",
              "    30% {\n",
              "      border-color: transparent;\n",
              "      border-left-color: var(--fill-color);\n",
              "      border-top-color: var(--fill-color);\n",
              "      border-right-color: var(--fill-color);\n",
              "    }\n",
              "    40% {\n",
              "      border-color: transparent;\n",
              "      border-right-color: var(--fill-color);\n",
              "      border-top-color: var(--fill-color);\n",
              "    }\n",
              "    60% {\n",
              "      border-color: transparent;\n",
              "      border-right-color: var(--fill-color);\n",
              "    }\n",
              "    80% {\n",
              "      border-color: transparent;\n",
              "      border-right-color: var(--fill-color);\n",
              "      border-bottom-color: var(--fill-color);\n",
              "    }\n",
              "    90% {\n",
              "      border-color: transparent;\n",
              "      border-bottom-color: var(--fill-color);\n",
              "    }\n",
              "  }\n",
              "</style>\n",
              "\n",
              "      <script>\n",
              "        async function quickchart(key) {\n",
              "          const quickchartButtonEl =\n",
              "            document.querySelector('#' + key + ' button');\n",
              "          quickchartButtonEl.disabled = true;  // To prevent multiple clicks.\n",
              "          quickchartButtonEl.classList.add('colab-df-spinner');\n",
              "          try {\n",
              "            const charts = await google.colab.kernel.invokeFunction(\n",
              "                'suggestCharts', [key], {});\n",
              "          } catch (error) {\n",
              "            console.error('Error during call to suggestCharts:', error);\n",
              "          }\n",
              "          quickchartButtonEl.classList.remove('colab-df-spinner');\n",
              "          quickchartButtonEl.classList.add('colab-df-quickchart-complete');\n",
              "        }\n",
              "        (() => {\n",
              "          let quickchartButtonEl =\n",
              "            document.querySelector('#df-503b4d66-5034-40c3-81ad-6e17cd4c515e button');\n",
              "          quickchartButtonEl.style.display =\n",
              "            google.colab.kernel.accessAllowed ? 'block' : 'none';\n",
              "        })();\n",
              "      </script>\n",
              "    </div>\n",
              "\n",
              "  <div id=\"id_083f4553-06fc-44fd-a781-a484e6ecd9ed\">\n",
              "    <style>\n",
              "      .colab-df-generate {\n",
              "        background-color: #E8F0FE;\n",
              "        border: none;\n",
              "        border-radius: 50%;\n",
              "        cursor: pointer;\n",
              "        display: none;\n",
              "        fill: #1967D2;\n",
              "        height: 32px;\n",
              "        padding: 0 0 0 0;\n",
              "        width: 32px;\n",
              "      }\n",
              "\n",
              "      .colab-df-generate:hover {\n",
              "        background-color: #E2EBFA;\n",
              "        box-shadow: 0px 1px 2px rgba(60, 64, 67, 0.3), 0px 1px 3px 1px rgba(60, 64, 67, 0.15);\n",
              "        fill: #174EA6;\n",
              "      }\n",
              "\n",
              "      [theme=dark] .colab-df-generate {\n",
              "        background-color: #3B4455;\n",
              "        fill: #D2E3FC;\n",
              "      }\n",
              "\n",
              "      [theme=dark] .colab-df-generate:hover {\n",
              "        background-color: #434B5C;\n",
              "        box-shadow: 0px 1px 3px 1px rgba(0, 0, 0, 0.15);\n",
              "        filter: drop-shadow(0px 1px 2px rgba(0, 0, 0, 0.3));\n",
              "        fill: #FFFFFF;\n",
              "      }\n",
              "    </style>\n",
              "    <button class=\"colab-df-generate\" onclick=\"generateWithVariable('binary_df')\"\n",
              "            title=\"Generate code using this dataframe.\"\n",
              "            style=\"display:none;\">\n",
              "\n",
              "  <svg xmlns=\"http://www.w3.org/2000/svg\" height=\"24px\"viewBox=\"0 0 24 24\"\n",
              "       width=\"24px\">\n",
              "    <path d=\"M7,19H8.4L18.45,9,17,7.55,7,17.6ZM5,21V16.75L18.45,3.32a2,2,0,0,1,2.83,0l1.4,1.43a1.91,1.91,0,0,1,.58,1.4,1.91,1.91,0,0,1-.58,1.4L9.25,21ZM18.45,9,17,7.55Zm-12,3A5.31,5.31,0,0,0,4.9,8.1,5.31,5.31,0,0,0,1,6.5,5.31,5.31,0,0,0,4.9,4.9,5.31,5.31,0,0,0,6.5,1,5.31,5.31,0,0,0,8.1,4.9,5.31,5.31,0,0,0,12,6.5,5.46,5.46,0,0,0,6.5,12Z\"/>\n",
              "  </svg>\n",
              "    </button>\n",
              "    <script>\n",
              "      (() => {\n",
              "      const buttonEl =\n",
              "        document.querySelector('#id_083f4553-06fc-44fd-a781-a484e6ecd9ed button.colab-df-generate');\n",
              "      buttonEl.style.display =\n",
              "        google.colab.kernel.accessAllowed ? 'block' : 'none';\n",
              "\n",
              "      buttonEl.onclick = () => {\n",
              "        google.colab.notebook.generateWithVariable('binary_df');\n",
              "      }\n",
              "      })();\n",
              "    </script>\n",
              "  </div>\n",
              "\n",
              "    </div>\n",
              "  </div>\n"
            ],
            "application/vnd.google.colaboratory.intrinsic+json": {
              "type": "dataframe",
              "variable_name": "binary_df",
              "summary": "{\n  \"name\": \"binary_df\",\n  \"rows\": 12836,\n  \"fields\": [\n    {\n      \"column\": \"Id\",\n      \"properties\": {\n        \"dtype\": \"string\",\n        \"num_unique_values\": 12836,\n        \"samples\": [\n          \"5235.json\",\n          \"8784.json\",\n          \"6930.json\"\n        ],\n        \"semantic_type\": \"\",\n        \"description\": \"\"\n      }\n    },\n    {\n      \"column\": \"Label\",\n      \"properties\": {\n        \"dtype\": \"category\",\n        \"num_unique_values\": 6,\n        \"samples\": [\n          \"barely-true\",\n          \"pants-fire\",\n          \"mostly-true\"\n        ],\n        \"semantic_type\": \"\",\n        \"description\": \"\"\n      }\n    },\n    {\n      \"column\": \"Statement\",\n      \"properties\": {\n        \"dtype\": \"string\",\n        \"num_unique_values\": 12810,\n        \"samples\": [\n          \"Says Donald Trump has given more money to Democratic candidates than Republican candidates.\",\n          \"Rob Portmans plan to tax, slash and privatize Social Security would devastate Ohioans.\",\n          \"\\\"And he's the only candidate who will fight for a national catastrophe fund to reduce insurance rates.\\\"\"\n        ],\n        \"semantic_type\": \"\",\n        \"description\": \"\"\n      }\n    },\n    {\n      \"column\": \"Subject\",\n      \"properties\": {\n        \"dtype\": \"category\",\n        \"num_unique_values\": 4547,\n        \"samples\": [\n          \"economy,federal-budget,jobs\",\n          \"debt,deficit,taxes\",\n          \"financial-regulation,jobs,occupy-wall-street\"\n        ],\n        \"semantic_type\": \"\",\n        \"description\": \"\"\n      }\n    },\n    {\n      \"column\": \"Speaker\",\n      \"properties\": {\n        \"dtype\": \"category\",\n        \"num_unique_values\": 3318,\n        \"samples\": [\n          \"frank-luntz\",\n          \"steve-doell\",\n          \"jim-zehringer\"\n        ],\n        \"semantic_type\": \"\",\n        \"description\": \"\"\n      }\n    },\n    {\n      \"column\": \"Job Title\",\n      \"properties\": {\n        \"dtype\": \"category\",\n        \"num_unique_values\": 1360,\n        \"samples\": [\n          \"Chairman, Prince William County board of supervisors\",\n          \"Eckerd College psychology professor\",\n          \"high school teacher\"\n        ],\n        \"semantic_type\": \"\",\n        \"description\": \"\"\n      }\n    },\n    {\n      \"column\": \"State\",\n      \"properties\": {\n        \"dtype\": \"category\",\n        \"num_unique_values\": 85,\n        \"samples\": [\n          \"Tennesse\",\n          \"Missouri\",\n          \"South Dakota\"\n        ],\n        \"semantic_type\": \"\",\n        \"description\": \"\"\n      }\n    },\n    {\n      \"column\": \"Party\",\n      \"properties\": {\n        \"dtype\": \"category\",\n        \"num_unique_values\": 24,\n        \"samples\": [\n          \"talk-show-host\",\n          \"state-official\",\n          \"republican\"\n        ],\n        \"semantic_type\": \"\",\n        \"description\": \"\"\n      }\n    },\n    {\n      \"column\": \"Barely True Counts\",\n      \"properties\": {\n        \"dtype\": \"number\",\n        \"std\": 18,\n        \"min\": 0,\n        \"max\": 70,\n        \"num_unique_values\": 30,\n        \"samples\": [\n          31,\n          26,\n          6\n        ],\n        \"semantic_type\": \"\",\n        \"description\": \"\"\n      }\n    },\n    {\n      \"column\": \"False Counts\",\n      \"properties\": {\n        \"dtype\": \"number\",\n        \"std\": 24,\n        \"min\": 0,\n        \"max\": 114,\n        \"num_unique_values\": 30,\n        \"samples\": [\n          39,\n          32,\n          114\n        ],\n        \"semantic_type\": \"\",\n        \"description\": \"\"\n      }\n    },\n    {\n      \"column\": \"Half True Counts\",\n      \"properties\": {\n        \"dtype\": \"number\",\n        \"std\": 35,\n        \"min\": 0,\n        \"max\": 160,\n        \"num_unique_values\": 29,\n        \"samples\": [\n          9,\n          7,\n          38\n        ],\n        \"semantic_type\": \"\",\n        \"description\": \"\"\n      }\n    },\n    {\n      \"column\": \"Mostly True Counts\",\n      \"properties\": {\n        \"dtype\": \"number\",\n        \"std\": 36,\n        \"min\": 0,\n        \"max\": 163,\n        \"num_unique_values\": 27,\n        \"samples\": [\n          16,\n          23,\n          7\n        ],\n        \"semantic_type\": \"\",\n        \"description\": \"\"\n      }\n    },\n    {\n      \"column\": \"Pants on Fire Counts\",\n      \"properties\": {\n        \"dtype\": \"number\",\n        \"std\": 16,\n        \"min\": 0,\n        \"max\": 105,\n        \"num_unique_values\": 20,\n        \"samples\": [\n          0,\n          16,\n          44\n        ],\n        \"semantic_type\": \"\",\n        \"description\": \"\"\n      }\n    },\n    {\n      \"column\": \"Context\",\n      \"properties\": {\n        \"dtype\": \"category\",\n        \"num_unique_values\": 5162,\n        \"samples\": [\n          \"a chart\",\n          \"a fundraising letter.\",\n          \"Florida Senate higher education committee hearing\"\n        ],\n        \"semantic_type\": \"\",\n        \"description\": \"\"\n      }\n    },\n    {\n      \"column\": \"label\",\n      \"properties\": {\n        \"dtype\": \"number\",\n        \"std\": 0,\n        \"min\": 0,\n        \"max\": 1,\n        \"num_unique_values\": 2,\n        \"samples\": [\n          1,\n          0\n        ],\n        \"semantic_type\": \"\",\n        \"description\": \"\"\n      }\n    }\n  ]\n}"
            }
          },
          "metadata": {},
          "execution_count": 15
        }
      ],
      "source": [
        "binary_df"
      ]
    },
    {
      "cell_type": "code",
      "execution_count": 16,
      "metadata": {
        "colab": {
          "base_uri": "https://localhost:8080/"
        },
        "id": "VjUggzklHEcO",
        "outputId": "1d920790-53e3-41fe-98dc-35848e81195c"
      },
      "outputs": [
        {
          "output_type": "stream",
          "name": "stderr",
          "text": [
            "[nltk_data] Downloading package stopwords to /root/nltk_data...\n",
            "[nltk_data]   Package stopwords is already up-to-date!\n"
          ]
        }
      ],
      "source": [
        "import nltk, spacy, re\n",
        "nltk.download('stopwords')\n",
        "from nltk.corpus import stopwords\n",
        "stop_words = set(stopwords.words('english'))\n",
        "nlp = spacy.load(\"en_core_web_sm\")\n",
        "\n",
        "def preprocess_pipeline(df):\n",
        "    df['cleaned_text'] = df['Statement'].apply(\n",
        "        lambda x: ' '.join([w for w in str(x).split() if w.lower() not in stop_words])\n",
        "    )\n",
        "\n",
        "    lemma = []\n",
        "    for doc in nlp.pipe(df['cleaned_text'], batch_size=100, n_process=3):\n",
        "        lemma.append([t.lemma_ for t in doc if t.lemma_ not in stop_words])\n",
        "    df['lemma'] = lemma\n",
        "    df['cleaned_text'] = df['lemma'].apply(lambda x: ' '.join(x))\n",
        "\n",
        "    def normalize(text):\n",
        "        text = text.lower()\n",
        "        text = re.sub(r'(\\w)\\1+|(.)\\2+', r'\\1', text)\n",
        "        text = re.sub(r'\\d+', '', text)\n",
        "        text = re.sub(r'[^\\w\\s]', '', text)\n",
        "        text = re.sub(r'\\s\\s+', ' ', text).strip()\n",
        "        return text\n",
        "\n",
        "    df['cleaned_text'] = df['cleaned_text'].apply(normalize)\n",
        "    return df.drop(columns=['lemma'])\n",
        "\n",
        "data = preprocess_pipeline(data)\n"
      ]
    },
    {
      "cell_type": "code",
      "execution_count": 17,
      "metadata": {
        "id": "PIo6kZif3-NS"
      },
      "outputs": [],
      "source": [
        "columns_to_drop = [\n",
        "    'Id',\n",
        "    'Speaker',\n",
        "    'Job Title',\n",
        "    'State',\n",
        "    'Context',\n",
        "    'Barely True Counts',\n",
        "    'False Counts',\n",
        "    'Half True Counts',\n",
        "    'Mostly True Counts',\n",
        "    'Pants on Fire Counts'\n",
        "]\n",
        "\n",
        "data = data.drop(columns=columns_to_drop)\n"
      ]
    },
    {
      "cell_type": "code",
      "execution_count": 18,
      "metadata": {
        "id": "zPTLQKso4jWO"
      },
      "outputs": [],
      "source": [
        "binary_df = data.copy()\n",
        "multiclass_df = data.copy()\n",
        "\n",
        "binary_df['label'] = binary_df['Label'].map(binary_map)\n",
        "multiclass_df['label'] = multiclass_df['Label'].map(multiclass_map)\n",
        "\n",
        "binary_df.dropna(subset=['label'], inplace=True)\n",
        "multiclass_df.dropna(subset=['label'], inplace=True)"
      ]
    },
    {
      "cell_type": "code",
      "execution_count": 19,
      "metadata": {
        "id": "UsAxDSLJ3O-8"
      },
      "outputs": [],
      "source": [
        "binary_df['cleaned_text'] = data['cleaned_text']\n",
        "multiclass_df['cleaned_text'] = data['cleaned_text']\n"
      ]
    },
    {
      "cell_type": "code",
      "execution_count": 20,
      "metadata": {
        "id": "GHaE3mGtHIIy"
      },
      "outputs": [],
      "source": [
        "from tensorflow.keras.preprocessing.text import Tokenizer\n",
        "from tensorflow.keras.preprocessing.sequence import pad_sequences\n",
        "\n",
        "max_vocab = 10000\n",
        "max_len = 300\n",
        "embed_size=100\n",
        "tokenizer = Tokenizer(num_words=max_vocab, oov_token='<OOV>')\n",
        "tokenizer.fit_on_texts(pd.concat([binary_df['cleaned_text'], multiclass_df['cleaned_text']], axis=0))\n"
      ]
    },
    {
      "cell_type": "code",
      "execution_count": 21,
      "metadata": {
        "colab": {
          "base_uri": "https://localhost:8080/"
        },
        "id": "FikBXl2N29WI",
        "outputId": "2ebf6aa9-8388-416f-97ef-6aa6ab08a07c"
      },
      "outputs": [
        {
          "output_type": "stream",
          "name": "stdout",
          "text": [
            "binary_df columns: ['Label', 'Statement', 'Subject', 'Party', 'cleaned_text', 'label']\n",
            "multiclass_df columns: ['Label', 'Statement', 'Subject', 'Party', 'cleaned_text', 'label']\n"
          ]
        }
      ],
      "source": [
        "print(\"binary_df columns:\", binary_df.columns.tolist())\n",
        "print(\"multiclass_df columns:\", multiclass_df.columns.tolist())\n"
      ]
    },
    {
      "cell_type": "code",
      "execution_count": 22,
      "metadata": {
        "id": "ruGH7vKXHK2i"
      },
      "outputs": [],
      "source": [
        "binary_sequences = tokenizer.texts_to_sequences(binary_df['cleaned_text'])\n",
        "x_binary = pad_sequences(binary_sequences, maxlen=max_len, padding='post', truncating='post')\n",
        "y_binary = binary_df['label'].astype('float32').values  # binary labels: 0.0 or 1.0\n"
      ]
    },
    {
      "cell_type": "code",
      "execution_count": 23,
      "metadata": {
        "id": "3SomedjNIlEZ"
      },
      "outputs": [],
      "source": [
        "multiclass_sequences = tokenizer.texts_to_sequences(multiclass_df['cleaned_text'])\n",
        "x_multi = pad_sequences(multiclass_sequences, maxlen=max_len, padding='post', truncating='post')\n",
        "y_multi = multiclass_df['label'].astype('int32').values  # multi-class labels: 0–5\n"
      ]
    },
    {
      "cell_type": "code",
      "execution_count": 24,
      "metadata": {
        "colab": {
          "base_uri": "https://localhost:8080/"
        },
        "id": "6Kz3t2MlIrB5",
        "outputId": "b58b68ce-a403-4e1c-ef7b-793fb3b1c63c"
      },
      "outputs": [
        {
          "output_type": "stream",
          "name": "stdout",
          "text": [
            "Binary Classification →\n",
            "x_train_bin: (10268, 300), y_train_bin: (10268,)\n",
            "x_test_bin: (2568, 300), y_test_bin: (2568,)\n",
            "\n",
            "Multi-class Classification →\n",
            "x_train_multi: (10268, 300), y_train_multi: (10268,)\n",
            "x_test_multi: (2568, 300), y_test_multi: (2568,)\n"
          ]
        }
      ],
      "source": [
        "from sklearn.model_selection import train_test_split\n",
        "import numpy as np\n",
        "\n",
        "x_train_bin, x_test_bin, y_train_bin, y_test_bin = train_test_split(\n",
        "    x_binary, y_binary, test_size=0.2, random_state=42, stratify=y_binary)\n",
        "\n",
        "x_train_multi, x_test_multi, y_train_multi, y_test_multi = train_test_split(\n",
        "    x_multi, y_multi, test_size=0.2, random_state=42, stratify=y_multi)\n",
        "\n",
        "print(\"Binary Classification →\")\n",
        "print(f\"x_train_bin: {x_train_bin.shape}, y_train_bin: {y_train_bin.shape}\")\n",
        "print(f\"x_test_bin: {x_test_bin.shape}, y_test_bin: {y_test_bin.shape}\")\n",
        "\n",
        "print(\"\\nMulti-class Classification →\")\n",
        "print(f\"x_train_multi: {x_train_multi.shape}, y_train_multi: {y_train_multi.shape}\")\n",
        "print(f\"x_test_multi: {x_test_multi.shape}, y_test_multi: {y_test_multi.shape}\")\n"
      ]
    },
    {
      "cell_type": "code",
      "execution_count": 25,
      "metadata": {
        "id": "zSz1xeUnMVlN"
      },
      "outputs": [],
      "source": [
        "results = {}"
      ]
    },
    {
      "cell_type": "code",
      "execution_count": 26,
      "metadata": {
        "id": "ifD8IcTKI8ef"
      },
      "outputs": [],
      "source": [
        "def store_dl_model_results(name, model, history, loss_train, acc_train, loss_test, acc_test, x_test, y_test, task='binary'):\n",
        "    if task == 'binary':\n",
        "        y_pred = (model.predict(x_test) > 0.5).astype(\"int32\")\n",
        "        average = 'binary'\n",
        "    elif task == 'multiclass':\n",
        "        y_pred = model.predict(x_test).argmax(axis=1)\n",
        "        average = 'macro'\n",
        "\n",
        "    results[name] = {\n",
        "        \"Task\": task,\n",
        "        \"Train Loss\": round(loss_train, 4),\n",
        "        \"Train Accuracy\": round(acc_train, 4),\n",
        "        \"Test Loss\": round(loss_test, 4),\n",
        "        \"Test Accuracy\": round(acc_test, 4),\n",
        "        \"Precision\": precision_score(y_test, y_pred, average=average),\n",
        "        \"Recall\": recall_score(y_test, y_pred, average=average),\n",
        "        \"F1-Score\": f1_score(y_test, y_pred, average=average)\n",
        "    }\n"
      ]
    },
    {
      "cell_type": "markdown",
      "metadata": {
        "id": "VejMJXFLJFiP"
      },
      "source": [
        "**Uni-LSTM**"
      ]
    },
    {
      "cell_type": "markdown",
      "source": [
        "Binary"
      ],
      "metadata": {
        "id": "1jNsIp96DW-x"
      }
    },
    {
      "cell_type": "code",
      "execution_count": 27,
      "metadata": {
        "colab": {
          "base_uri": "https://localhost:8080/",
          "height": 671
        },
        "id": "l0sOP6zBJKLF",
        "outputId": "751cbf06-d490-4218-bd11-d6a0851e397c"
      },
      "outputs": [
        {
          "output_type": "stream",
          "name": "stderr",
          "text": [
            "/usr/local/lib/python3.11/dist-packages/keras/src/layers/core/embedding.py:90: UserWarning: Argument `input_length` is deprecated. Just remove it.\n",
            "  warnings.warn(\n"
          ]
        },
        {
          "output_type": "display_data",
          "data": {
            "text/plain": [
              "\u001b[1mModel: \"sequential\"\u001b[0m\n"
            ],
            "text/html": [
              "<pre style=\"white-space:pre;overflow-x:auto;line-height:normal;font-family:Menlo,'DejaVu Sans Mono',consolas,'Courier New',monospace\"><span style=\"font-weight: bold\">Model: \"sequential\"</span>\n",
              "</pre>\n"
            ]
          },
          "metadata": {}
        },
        {
          "output_type": "display_data",
          "data": {
            "text/plain": [
              "┏━━━━━━━━━━━━━━━━━━━━━━━━━━━━━━━━━┳━━━━━━━━━━━━━━━━━━━━━━━━┳━━━━━━━━━━━━━━━┓\n",
              "┃\u001b[1m \u001b[0m\u001b[1mLayer (type)                   \u001b[0m\u001b[1m \u001b[0m┃\u001b[1m \u001b[0m\u001b[1mOutput Shape          \u001b[0m\u001b[1m \u001b[0m┃\u001b[1m \u001b[0m\u001b[1m      Param #\u001b[0m\u001b[1m \u001b[0m┃\n",
              "┡━━━━━━━━━━━━━━━━━━━━━━━━━━━━━━━━━╇━━━━━━━━━━━━━━━━━━━━━━━━╇━━━━━━━━━━━━━━━┩\n",
              "│ embedding (\u001b[38;5;33mEmbedding\u001b[0m)           │ ?                      │   \u001b[38;5;34m0\u001b[0m (unbuilt) │\n",
              "├─────────────────────────────────┼────────────────────────┼───────────────┤\n",
              "│ lstm (\u001b[38;5;33mLSTM\u001b[0m)                     │ ?                      │   \u001b[38;5;34m0\u001b[0m (unbuilt) │\n",
              "├─────────────────────────────────┼────────────────────────┼───────────────┤\n",
              "│ lstm_1 (\u001b[38;5;33mLSTM\u001b[0m)                   │ ?                      │   \u001b[38;5;34m0\u001b[0m (unbuilt) │\n",
              "├─────────────────────────────────┼────────────────────────┼───────────────┤\n",
              "│ dense (\u001b[38;5;33mDense\u001b[0m)                   │ ?                      │   \u001b[38;5;34m0\u001b[0m (unbuilt) │\n",
              "├─────────────────────────────────┼────────────────────────┼───────────────┤\n",
              "│ dropout (\u001b[38;5;33mDropout\u001b[0m)               │ ?                      │             \u001b[38;5;34m0\u001b[0m │\n",
              "├─────────────────────────────────┼────────────────────────┼───────────────┤\n",
              "│ dense_1 (\u001b[38;5;33mDense\u001b[0m)                 │ ?                      │   \u001b[38;5;34m0\u001b[0m (unbuilt) │\n",
              "└─────────────────────────────────┴────────────────────────┴───────────────┘\n"
            ],
            "text/html": [
              "<pre style=\"white-space:pre;overflow-x:auto;line-height:normal;font-family:Menlo,'DejaVu Sans Mono',consolas,'Courier New',monospace\">┏━━━━━━━━━━━━━━━━━━━━━━━━━━━━━━━━━┳━━━━━━━━━━━━━━━━━━━━━━━━┳━━━━━━━━━━━━━━━┓\n",
              "┃<span style=\"font-weight: bold\"> Layer (type)                    </span>┃<span style=\"font-weight: bold\"> Output Shape           </span>┃<span style=\"font-weight: bold\">       Param # </span>┃\n",
              "┡━━━━━━━━━━━━━━━━━━━━━━━━━━━━━━━━━╇━━━━━━━━━━━━━━━━━━━━━━━━╇━━━━━━━━━━━━━━━┩\n",
              "│ embedding (<span style=\"color: #0087ff; text-decoration-color: #0087ff\">Embedding</span>)           │ ?                      │   <span style=\"color: #00af00; text-decoration-color: #00af00\">0</span> (unbuilt) │\n",
              "├─────────────────────────────────┼────────────────────────┼───────────────┤\n",
              "│ lstm (<span style=\"color: #0087ff; text-decoration-color: #0087ff\">LSTM</span>)                     │ ?                      │   <span style=\"color: #00af00; text-decoration-color: #00af00\">0</span> (unbuilt) │\n",
              "├─────────────────────────────────┼────────────────────────┼───────────────┤\n",
              "│ lstm_1 (<span style=\"color: #0087ff; text-decoration-color: #0087ff\">LSTM</span>)                   │ ?                      │   <span style=\"color: #00af00; text-decoration-color: #00af00\">0</span> (unbuilt) │\n",
              "├─────────────────────────────────┼────────────────────────┼───────────────┤\n",
              "│ dense (<span style=\"color: #0087ff; text-decoration-color: #0087ff\">Dense</span>)                   │ ?                      │   <span style=\"color: #00af00; text-decoration-color: #00af00\">0</span> (unbuilt) │\n",
              "├─────────────────────────────────┼────────────────────────┼───────────────┤\n",
              "│ dropout (<span style=\"color: #0087ff; text-decoration-color: #0087ff\">Dropout</span>)               │ ?                      │             <span style=\"color: #00af00; text-decoration-color: #00af00\">0</span> │\n",
              "├─────────────────────────────────┼────────────────────────┼───────────────┤\n",
              "│ dense_1 (<span style=\"color: #0087ff; text-decoration-color: #0087ff\">Dense</span>)                 │ ?                      │   <span style=\"color: #00af00; text-decoration-color: #00af00\">0</span> (unbuilt) │\n",
              "└─────────────────────────────────┴────────────────────────┴───────────────┘\n",
              "</pre>\n"
            ]
          },
          "metadata": {}
        },
        {
          "output_type": "display_data",
          "data": {
            "text/plain": [
              "\u001b[1m Total params: \u001b[0m\u001b[38;5;34m0\u001b[0m (0.00 B)\n"
            ],
            "text/html": [
              "<pre style=\"white-space:pre;overflow-x:auto;line-height:normal;font-family:Menlo,'DejaVu Sans Mono',consolas,'Courier New',monospace\"><span style=\"font-weight: bold\"> Total params: </span><span style=\"color: #00af00; text-decoration-color: #00af00\">0</span> (0.00 B)\n",
              "</pre>\n"
            ]
          },
          "metadata": {}
        },
        {
          "output_type": "display_data",
          "data": {
            "text/plain": [
              "\u001b[1m Trainable params: \u001b[0m\u001b[38;5;34m0\u001b[0m (0.00 B)\n"
            ],
            "text/html": [
              "<pre style=\"white-space:pre;overflow-x:auto;line-height:normal;font-family:Menlo,'DejaVu Sans Mono',consolas,'Courier New',monospace\"><span style=\"font-weight: bold\"> Trainable params: </span><span style=\"color: #00af00; text-decoration-color: #00af00\">0</span> (0.00 B)\n",
              "</pre>\n"
            ]
          },
          "metadata": {}
        },
        {
          "output_type": "display_data",
          "data": {
            "text/plain": [
              "\u001b[1m Non-trainable params: \u001b[0m\u001b[38;5;34m0\u001b[0m (0.00 B)\n"
            ],
            "text/html": [
              "<pre style=\"white-space:pre;overflow-x:auto;line-height:normal;font-family:Menlo,'DejaVu Sans Mono',consolas,'Courier New',monospace\"><span style=\"font-weight: bold\"> Non-trainable params: </span><span style=\"color: #00af00; text-decoration-color: #00af00\">0</span> (0.00 B)\n",
              "</pre>\n"
            ]
          },
          "metadata": {}
        },
        {
          "output_type": "stream",
          "name": "stdout",
          "text": [
            "Epoch 1/5\n"
          ]
        },
        {
          "output_type": "stream",
          "name": "stderr",
          "text": [
            "/usr/local/lib/python3.11/dist-packages/keras/src/backend/tensorflow/nn.py:780: UserWarning: \"`binary_crossentropy` received `from_logits=True`, but the `output` argument was produced by a Sigmoid activation and thus does not represent logits. Was this intended?\n",
            "  output, from_logits = _get_logits(\n"
          ]
        },
        {
          "output_type": "stream",
          "name": "stdout",
          "text": [
            "\u001b[1m274/274\u001b[0m \u001b[32m━━━━━━━━━━━━━━━━━━━━\u001b[0m\u001b[37m\u001b[0m \u001b[1m21s\u001b[0m 36ms/step - accuracy: 0.5533 - loss: 0.6899 - val_accuracy: 0.5648 - val_loss: 0.6862\n",
            "Epoch 2/5\n",
            "\u001b[1m274/274\u001b[0m \u001b[32m━━━━━━━━━━━━━━━━━━━━\u001b[0m\u001b[37m\u001b[0m \u001b[1m12s\u001b[0m 28ms/step - accuracy: 0.5559 - loss: 0.6880 - val_accuracy: 0.5648 - val_loss: 0.6849\n",
            "Epoch 3/5\n",
            "\u001b[1m274/274\u001b[0m \u001b[32m━━━━━━━━━━━━━━━━━━━━\u001b[0m\u001b[37m\u001b[0m \u001b[1m9s\u001b[0m 22ms/step - accuracy: 0.5578 - loss: 0.6872 - val_accuracy: 0.5648 - val_loss: 0.6853\n",
            "Epoch 4/5\n",
            "\u001b[1m274/274\u001b[0m \u001b[32m━━━━━━━━━━━━━━━━━━━━\u001b[0m\u001b[37m\u001b[0m \u001b[1m7s\u001b[0m 25ms/step - accuracy: 0.5515 - loss: 0.6883 - val_accuracy: 0.5648 - val_loss: 0.6850\n",
            "\u001b[1m321/321\u001b[0m \u001b[32m━━━━━━━━━━━━━━━━━━━━\u001b[0m\u001b[37m\u001b[0m \u001b[1m3s\u001b[0m 10ms/step - accuracy: 0.5587 - loss: 0.6863\n",
            "\u001b[1m81/81\u001b[0m \u001b[32m━━━━━━━━━━━━━━━━━━━━\u001b[0m\u001b[37m\u001b[0m \u001b[1m1s\u001b[0m 11ms/step - accuracy: 0.5752 - loss: 0.6826\n",
            "\n",
            "Results of Unidirectional LSTM model (Binary):\n",
            "Train Loss: 0.6863411664962769   Accuracy: 0.5583365559577942\n",
            "Test Loss: 0.6863259077072144   Accuracy: 0.5584112405776978\n",
            "\u001b[1m81/81\u001b[0m \u001b[32m━━━━━━━━━━━━━━━━━━━━\u001b[0m\u001b[37m\u001b[0m \u001b[1m1s\u001b[0m 10ms/step\n"
          ]
        }
      ],
      "source": [
        "import tensorflow as tf\n",
        "from sklearn.metrics import precision_score, recall_score, f1_score, accuracy_score, classification_report\n",
        "\n",
        "\n",
        "LSTM_model_uni = tf.keras.Sequential([tf.keras.layers.Embedding(input_dim=max_vocab, output_dim=embed_size, input_length=max_len),\n",
        "    tf.keras.layers.LSTM(64, return_sequences=True),\n",
        "    tf.keras.layers.LSTM(32),\n",
        "    tf.keras.layers.Dense(64, activation='relu'),\n",
        "    tf.keras.layers.Dropout(0.5),\n",
        "    tf.keras.layers.Dense(1, activation='sigmoid')\n",
        "])\n",
        "\n",
        "LSTM_model_uni.summary()\n",
        "\n",
        "\n",
        "early_stop_uni = tf.keras.callbacks.EarlyStopping(monitor=\"val_loss\",patience=2,restore_best_weights=True)\n",
        "LSTM_model_uni.compile(loss=tf.keras.losses.BinaryCrossentropy(from_logits=True),optimizer=tf.keras.optimizers.Adam(1e-4),metrics=['accuracy'])\n",
        "history_LSTM_uni = LSTM_model_uni.fit(x_train_bin, y_train_bin,epochs=5,validation_split=0.2,batch_size=30,shuffle=True,callbacks=[early_stop_uni])\n",
        "\n",
        "\n",
        "loss_train_uni, acc_train_uni = LSTM_model_uni.evaluate(x_train_bin, y_train_bin)\n",
        "loss_test_uni, acc_test_uni = LSTM_model_uni.evaluate(x_test_bin, y_test_bin)\n",
        "\n",
        "print(\"\\nResults of Unidirectional LSTM model (Binary):\")\n",
        "print(\"Train Loss:\", loss_train_uni, \"  Accuracy:\", acc_train_uni)\n",
        "print(\"Test Loss:\", loss_test_uni, \"  Accuracy:\", acc_test_uni)\n",
        "\n",
        "store_dl_model_results(name=\"Uni-LSTM_bin\",model=LSTM_model_uni,history=history_LSTM_uni,loss_train=loss_train_uni,\n",
        "                       acc_train=acc_train_uni,loss_test=loss_test_uni,acc_test=acc_test_uni,x_test=x_test_bin,y_test=y_test_bin,task='binary')\n"
      ]
    },
    {
      "cell_type": "markdown",
      "source": [
        "Multiclass"
      ],
      "metadata": {
        "id": "lUDB9XZZDZx3"
      }
    },
    {
      "cell_type": "code",
      "execution_count": 28,
      "metadata": {
        "colab": {
          "base_uri": "https://localhost:8080/",
          "height": 705
        },
        "id": "c2toiNC4KC6u",
        "outputId": "b1764e3a-042b-488e-cb16-76c0c476c14b"
      },
      "outputs": [
        {
          "output_type": "stream",
          "name": "stderr",
          "text": [
            "/usr/local/lib/python3.11/dist-packages/keras/src/layers/core/embedding.py:90: UserWarning: Argument `input_length` is deprecated. Just remove it.\n",
            "  warnings.warn(\n"
          ]
        },
        {
          "output_type": "display_data",
          "data": {
            "text/plain": [
              "\u001b[1mModel: \"sequential_1\"\u001b[0m\n"
            ],
            "text/html": [
              "<pre style=\"white-space:pre;overflow-x:auto;line-height:normal;font-family:Menlo,'DejaVu Sans Mono',consolas,'Courier New',monospace\"><span style=\"font-weight: bold\">Model: \"sequential_1\"</span>\n",
              "</pre>\n"
            ]
          },
          "metadata": {}
        },
        {
          "output_type": "display_data",
          "data": {
            "text/plain": [
              "┏━━━━━━━━━━━━━━━━━━━━━━━━━━━━━━━━━┳━━━━━━━━━━━━━━━━━━━━━━━━┳━━━━━━━━━━━━━━━┓\n",
              "┃\u001b[1m \u001b[0m\u001b[1mLayer (type)                   \u001b[0m\u001b[1m \u001b[0m┃\u001b[1m \u001b[0m\u001b[1mOutput Shape          \u001b[0m\u001b[1m \u001b[0m┃\u001b[1m \u001b[0m\u001b[1m      Param #\u001b[0m\u001b[1m \u001b[0m┃\n",
              "┡━━━━━━━━━━━━━━━━━━━━━━━━━━━━━━━━━╇━━━━━━━━━━━━━━━━━━━━━━━━╇━━━━━━━━━━━━━━━┩\n",
              "│ embedding_1 (\u001b[38;5;33mEmbedding\u001b[0m)         │ ?                      │   \u001b[38;5;34m0\u001b[0m (unbuilt) │\n",
              "├─────────────────────────────────┼────────────────────────┼───────────────┤\n",
              "│ lstm_2 (\u001b[38;5;33mLSTM\u001b[0m)                   │ ?                      │   \u001b[38;5;34m0\u001b[0m (unbuilt) │\n",
              "├─────────────────────────────────┼────────────────────────┼───────────────┤\n",
              "│ lstm_3 (\u001b[38;5;33mLSTM\u001b[0m)                   │ ?                      │   \u001b[38;5;34m0\u001b[0m (unbuilt) │\n",
              "├─────────────────────────────────┼────────────────────────┼───────────────┤\n",
              "│ dense_2 (\u001b[38;5;33mDense\u001b[0m)                 │ ?                      │   \u001b[38;5;34m0\u001b[0m (unbuilt) │\n",
              "├─────────────────────────────────┼────────────────────────┼───────────────┤\n",
              "│ dropout_1 (\u001b[38;5;33mDropout\u001b[0m)             │ ?                      │             \u001b[38;5;34m0\u001b[0m │\n",
              "├─────────────────────────────────┼────────────────────────┼───────────────┤\n",
              "│ dense_3 (\u001b[38;5;33mDense\u001b[0m)                 │ ?                      │   \u001b[38;5;34m0\u001b[0m (unbuilt) │\n",
              "└─────────────────────────────────┴────────────────────────┴───────────────┘\n"
            ],
            "text/html": [
              "<pre style=\"white-space:pre;overflow-x:auto;line-height:normal;font-family:Menlo,'DejaVu Sans Mono',consolas,'Courier New',monospace\">┏━━━━━━━━━━━━━━━━━━━━━━━━━━━━━━━━━┳━━━━━━━━━━━━━━━━━━━━━━━━┳━━━━━━━━━━━━━━━┓\n",
              "┃<span style=\"font-weight: bold\"> Layer (type)                    </span>┃<span style=\"font-weight: bold\"> Output Shape           </span>┃<span style=\"font-weight: bold\">       Param # </span>┃\n",
              "┡━━━━━━━━━━━━━━━━━━━━━━━━━━━━━━━━━╇━━━━━━━━━━━━━━━━━━━━━━━━╇━━━━━━━━━━━━━━━┩\n",
              "│ embedding_1 (<span style=\"color: #0087ff; text-decoration-color: #0087ff\">Embedding</span>)         │ ?                      │   <span style=\"color: #00af00; text-decoration-color: #00af00\">0</span> (unbuilt) │\n",
              "├─────────────────────────────────┼────────────────────────┼───────────────┤\n",
              "│ lstm_2 (<span style=\"color: #0087ff; text-decoration-color: #0087ff\">LSTM</span>)                   │ ?                      │   <span style=\"color: #00af00; text-decoration-color: #00af00\">0</span> (unbuilt) │\n",
              "├─────────────────────────────────┼────────────────────────┼───────────────┤\n",
              "│ lstm_3 (<span style=\"color: #0087ff; text-decoration-color: #0087ff\">LSTM</span>)                   │ ?                      │   <span style=\"color: #00af00; text-decoration-color: #00af00\">0</span> (unbuilt) │\n",
              "├─────────────────────────────────┼────────────────────────┼───────────────┤\n",
              "│ dense_2 (<span style=\"color: #0087ff; text-decoration-color: #0087ff\">Dense</span>)                 │ ?                      │   <span style=\"color: #00af00; text-decoration-color: #00af00\">0</span> (unbuilt) │\n",
              "├─────────────────────────────────┼────────────────────────┼───────────────┤\n",
              "│ dropout_1 (<span style=\"color: #0087ff; text-decoration-color: #0087ff\">Dropout</span>)             │ ?                      │             <span style=\"color: #00af00; text-decoration-color: #00af00\">0</span> │\n",
              "├─────────────────────────────────┼────────────────────────┼───────────────┤\n",
              "│ dense_3 (<span style=\"color: #0087ff; text-decoration-color: #0087ff\">Dense</span>)                 │ ?                      │   <span style=\"color: #00af00; text-decoration-color: #00af00\">0</span> (unbuilt) │\n",
              "└─────────────────────────────────┴────────────────────────┴───────────────┘\n",
              "</pre>\n"
            ]
          },
          "metadata": {}
        },
        {
          "output_type": "display_data",
          "data": {
            "text/plain": [
              "\u001b[1m Total params: \u001b[0m\u001b[38;5;34m0\u001b[0m (0.00 B)\n"
            ],
            "text/html": [
              "<pre style=\"white-space:pre;overflow-x:auto;line-height:normal;font-family:Menlo,'DejaVu Sans Mono',consolas,'Courier New',monospace\"><span style=\"font-weight: bold\"> Total params: </span><span style=\"color: #00af00; text-decoration-color: #00af00\">0</span> (0.00 B)\n",
              "</pre>\n"
            ]
          },
          "metadata": {}
        },
        {
          "output_type": "display_data",
          "data": {
            "text/plain": [
              "\u001b[1m Trainable params: \u001b[0m\u001b[38;5;34m0\u001b[0m (0.00 B)\n"
            ],
            "text/html": [
              "<pre style=\"white-space:pre;overflow-x:auto;line-height:normal;font-family:Menlo,'DejaVu Sans Mono',consolas,'Courier New',monospace\"><span style=\"font-weight: bold\"> Trainable params: </span><span style=\"color: #00af00; text-decoration-color: #00af00\">0</span> (0.00 B)\n",
              "</pre>\n"
            ]
          },
          "metadata": {}
        },
        {
          "output_type": "display_data",
          "data": {
            "text/plain": [
              "\u001b[1m Non-trainable params: \u001b[0m\u001b[38;5;34m0\u001b[0m (0.00 B)\n"
            ],
            "text/html": [
              "<pre style=\"white-space:pre;overflow-x:auto;line-height:normal;font-family:Menlo,'DejaVu Sans Mono',consolas,'Courier New',monospace\"><span style=\"font-weight: bold\"> Non-trainable params: </span><span style=\"color: #00af00; text-decoration-color: #00af00\">0</span> (0.00 B)\n",
              "</pre>\n"
            ]
          },
          "metadata": {}
        },
        {
          "output_type": "stream",
          "name": "stdout",
          "text": [
            "Epoch 1/5\n",
            "\u001b[1m274/274\u001b[0m \u001b[32m━━━━━━━━━━━━━━━━━━━━\u001b[0m\u001b[37m\u001b[0m \u001b[1m10s\u001b[0m 27ms/step - accuracy: 0.1840 - loss: 1.7795 - val_accuracy: 0.2030 - val_loss: 1.7565\n",
            "Epoch 2/5\n",
            "\u001b[1m274/274\u001b[0m \u001b[32m━━━━━━━━━━━━━━━━━━━━\u001b[0m\u001b[37m\u001b[0m \u001b[1m6s\u001b[0m 22ms/step - accuracy: 0.1956 - loss: 1.7619 - val_accuracy: 0.2147 - val_loss: 1.7557\n",
            "Epoch 3/5\n",
            "\u001b[1m274/274\u001b[0m \u001b[32m━━━━━━━━━━━━━━━━━━━━\u001b[0m\u001b[37m\u001b[0m \u001b[1m11s\u001b[0m 27ms/step - accuracy: 0.1938 - loss: 1.7619 - val_accuracy: 0.2030 - val_loss: 1.7553\n",
            "Epoch 4/5\n",
            "\u001b[1m274/274\u001b[0m \u001b[32m━━━━━━━━━━━━━━━━━━━━\u001b[0m\u001b[37m\u001b[0m \u001b[1m10s\u001b[0m 25ms/step - accuracy: 0.2002 - loss: 1.7614 - val_accuracy: 0.2147 - val_loss: 1.7538\n",
            "Epoch 5/5\n",
            "\u001b[1m274/274\u001b[0m \u001b[32m━━━━━━━━━━━━━━━━━━━━\u001b[0m\u001b[37m\u001b[0m \u001b[1m9s\u001b[0m 22ms/step - accuracy: 0.1920 - loss: 1.7620 - val_accuracy: 0.2147 - val_loss: 1.7525\n",
            "\u001b[1m321/321\u001b[0m \u001b[32m━━━━━━━━━━━━━━━━━━━━\u001b[0m\u001b[37m\u001b[0m \u001b[1m3s\u001b[0m 10ms/step - accuracy: 0.1993 - loss: 1.7557\n",
            "\u001b[1m81/81\u001b[0m \u001b[32m━━━━━━━━━━━━━━━━━━━━\u001b[0m\u001b[37m\u001b[0m \u001b[1m1s\u001b[0m 9ms/step - accuracy: 0.2063 - loss: 1.7523\n",
            "\n",
            "Results of Unidirectional LSTM model (Multi-Class):\n",
            "Train Loss: 1.7571208477020264   Accuracy: 0.2054927945137024\n",
            "Test Loss: 1.7571384906768799   Accuracy: 0.20560747385025024\n",
            "\u001b[1m81/81\u001b[0m \u001b[32m━━━━━━━━━━━━━━━━━━━━\u001b[0m\u001b[37m\u001b[0m \u001b[1m1s\u001b[0m 10ms/step\n"
          ]
        },
        {
          "output_type": "stream",
          "name": "stderr",
          "text": [
            "/usr/local/lib/python3.11/dist-packages/sklearn/metrics/_classification.py:1565: UndefinedMetricWarning: Precision is ill-defined and being set to 0.0 in labels with no predicted samples. Use `zero_division` parameter to control this behavior.\n",
            "  _warn_prf(average, modifier, f\"{metric.capitalize()} is\", len(result))\n"
          ]
        }
      ],
      "source": [
        "LSTM_model_multi = tf.keras.Sequential([\n",
        "    tf.keras.layers.Embedding(input_dim=max_vocab, output_dim=embed_size, input_length=max_len),\n",
        "    tf.keras.layers.LSTM(64, return_sequences=True),\n",
        "    tf.keras.layers.LSTM(32),\n",
        "    tf.keras.layers.Dense(64, activation='relu'),\n",
        "    tf.keras.layers.Dropout(0.5),\n",
        "    tf.keras.layers.Dense(6, activation='softmax')\n",
        "])\n",
        "\n",
        "LSTM_model_multi.summary()\n",
        "\n",
        "\n",
        "LSTM_model_multi.compile(loss='sparse_categorical_crossentropy',optimizer=tf.keras.optimizers.Adam(1e-4),metrics=['accuracy'])\n",
        "early_stop_multi = tf.keras.callbacks.EarlyStopping(monitor='val_loss', patience=2, restore_best_weights=True)\n",
        "\n",
        "history_LSTM_multi = LSTM_model_multi.fit(x_train_multi, y_train_multi,validation_split=0.2,epochs=5,batch_size=30,shuffle=True,callbacks=[early_stop_multi])\n",
        "\n",
        "\n",
        "loss_train_multi, acc_train_multi = LSTM_model_multi.evaluate(x_train_multi, y_train_multi)\n",
        "loss_test_multi, acc_test_multi = LSTM_model_multi.evaluate(x_test_multi, y_test_multi)\n",
        "print(\"\\nResults of Unidirectional LSTM model (Multi-Class):\")\n",
        "print(\"Train Loss:\", loss_train_multi, \"  Accuracy:\", acc_train_multi)\n",
        "print(\"Test Loss:\", loss_test_multi, \"  Accuracy:\", acc_test_multi)\n",
        "\n",
        "store_dl_model_results(name=\"Uni-LSTM_multi\",model=LSTM_model_multi,history=history_LSTM_multi,loss_train=loss_train_multi,\n",
        "                       acc_train=acc_train_multi,loss_test=loss_test_multi,acc_test=acc_test_multi,x_test=x_test_multi,y_test=y_test_multi,task='multiclass')\n"
      ]
    },
    {
      "cell_type": "markdown",
      "metadata": {
        "id": "CYsrhFMvMGS6"
      },
      "source": [
        "**Bi-LSTM**"
      ]
    },
    {
      "cell_type": "markdown",
      "source": [
        "Binary"
      ],
      "metadata": {
        "id": "6UYf-UXODdzj"
      }
    },
    {
      "cell_type": "code",
      "execution_count": 29,
      "metadata": {
        "colab": {
          "base_uri": "https://localhost:8080/",
          "height": 636
        },
        "id": "690i3VfqMIJk",
        "outputId": "d54a0b5e-d620-44d0-bfb7-69f546b25251"
      },
      "outputs": [
        {
          "output_type": "stream",
          "name": "stderr",
          "text": [
            "/usr/local/lib/python3.11/dist-packages/keras/src/layers/core/embedding.py:90: UserWarning: Argument `input_length` is deprecated. Just remove it.\n",
            "  warnings.warn(\n"
          ]
        },
        {
          "output_type": "display_data",
          "data": {
            "text/plain": [
              "\u001b[1mModel: \"sequential_2\"\u001b[0m\n"
            ],
            "text/html": [
              "<pre style=\"white-space:pre;overflow-x:auto;line-height:normal;font-family:Menlo,'DejaVu Sans Mono',consolas,'Courier New',monospace\"><span style=\"font-weight: bold\">Model: \"sequential_2\"</span>\n",
              "</pre>\n"
            ]
          },
          "metadata": {}
        },
        {
          "output_type": "display_data",
          "data": {
            "text/plain": [
              "┏━━━━━━━━━━━━━━━━━━━━━━━━━━━━━━━━━┳━━━━━━━━━━━━━━━━━━━━━━━━┳━━━━━━━━━━━━━━━┓\n",
              "┃\u001b[1m \u001b[0m\u001b[1mLayer (type)                   \u001b[0m\u001b[1m \u001b[0m┃\u001b[1m \u001b[0m\u001b[1mOutput Shape          \u001b[0m\u001b[1m \u001b[0m┃\u001b[1m \u001b[0m\u001b[1m      Param #\u001b[0m\u001b[1m \u001b[0m┃\n",
              "┡━━━━━━━━━━━━━━━━━━━━━━━━━━━━━━━━━╇━━━━━━━━━━━━━━━━━━━━━━━━╇━━━━━━━━━━━━━━━┩\n",
              "│ embedding_2 (\u001b[38;5;33mEmbedding\u001b[0m)         │ ?                      │   \u001b[38;5;34m0\u001b[0m (unbuilt) │\n",
              "├─────────────────────────────────┼────────────────────────┼───────────────┤\n",
              "│ bidirectional (\u001b[38;5;33mBidirectional\u001b[0m)   │ ?                      │   \u001b[38;5;34m0\u001b[0m (unbuilt) │\n",
              "├─────────────────────────────────┼────────────────────────┼───────────────┤\n",
              "│ bidirectional_1 (\u001b[38;5;33mBidirectional\u001b[0m) │ ?                      │   \u001b[38;5;34m0\u001b[0m (unbuilt) │\n",
              "├─────────────────────────────────┼────────────────────────┼───────────────┤\n",
              "│ dense_4 (\u001b[38;5;33mDense\u001b[0m)                 │ ?                      │   \u001b[38;5;34m0\u001b[0m (unbuilt) │\n",
              "├─────────────────────────────────┼────────────────────────┼───────────────┤\n",
              "│ dropout_2 (\u001b[38;5;33mDropout\u001b[0m)             │ ?                      │             \u001b[38;5;34m0\u001b[0m │\n",
              "├─────────────────────────────────┼────────────────────────┼───────────────┤\n",
              "│ dense_5 (\u001b[38;5;33mDense\u001b[0m)                 │ ?                      │   \u001b[38;5;34m0\u001b[0m (unbuilt) │\n",
              "└─────────────────────────────────┴────────────────────────┴───────────────┘\n"
            ],
            "text/html": [
              "<pre style=\"white-space:pre;overflow-x:auto;line-height:normal;font-family:Menlo,'DejaVu Sans Mono',consolas,'Courier New',monospace\">┏━━━━━━━━━━━━━━━━━━━━━━━━━━━━━━━━━┳━━━━━━━━━━━━━━━━━━━━━━━━┳━━━━━━━━━━━━━━━┓\n",
              "┃<span style=\"font-weight: bold\"> Layer (type)                    </span>┃<span style=\"font-weight: bold\"> Output Shape           </span>┃<span style=\"font-weight: bold\">       Param # </span>┃\n",
              "┡━━━━━━━━━━━━━━━━━━━━━━━━━━━━━━━━━╇━━━━━━━━━━━━━━━━━━━━━━━━╇━━━━━━━━━━━━━━━┩\n",
              "│ embedding_2 (<span style=\"color: #0087ff; text-decoration-color: #0087ff\">Embedding</span>)         │ ?                      │   <span style=\"color: #00af00; text-decoration-color: #00af00\">0</span> (unbuilt) │\n",
              "├─────────────────────────────────┼────────────────────────┼───────────────┤\n",
              "│ bidirectional (<span style=\"color: #0087ff; text-decoration-color: #0087ff\">Bidirectional</span>)   │ ?                      │   <span style=\"color: #00af00; text-decoration-color: #00af00\">0</span> (unbuilt) │\n",
              "├─────────────────────────────────┼────────────────────────┼───────────────┤\n",
              "│ bidirectional_1 (<span style=\"color: #0087ff; text-decoration-color: #0087ff\">Bidirectional</span>) │ ?                      │   <span style=\"color: #00af00; text-decoration-color: #00af00\">0</span> (unbuilt) │\n",
              "├─────────────────────────────────┼────────────────────────┼───────────────┤\n",
              "│ dense_4 (<span style=\"color: #0087ff; text-decoration-color: #0087ff\">Dense</span>)                 │ ?                      │   <span style=\"color: #00af00; text-decoration-color: #00af00\">0</span> (unbuilt) │\n",
              "├─────────────────────────────────┼────────────────────────┼───────────────┤\n",
              "│ dropout_2 (<span style=\"color: #0087ff; text-decoration-color: #0087ff\">Dropout</span>)             │ ?                      │             <span style=\"color: #00af00; text-decoration-color: #00af00\">0</span> │\n",
              "├─────────────────────────────────┼────────────────────────┼───────────────┤\n",
              "│ dense_5 (<span style=\"color: #0087ff; text-decoration-color: #0087ff\">Dense</span>)                 │ ?                      │   <span style=\"color: #00af00; text-decoration-color: #00af00\">0</span> (unbuilt) │\n",
              "└─────────────────────────────────┴────────────────────────┴───────────────┘\n",
              "</pre>\n"
            ]
          },
          "metadata": {}
        },
        {
          "output_type": "display_data",
          "data": {
            "text/plain": [
              "\u001b[1m Total params: \u001b[0m\u001b[38;5;34m0\u001b[0m (0.00 B)\n"
            ],
            "text/html": [
              "<pre style=\"white-space:pre;overflow-x:auto;line-height:normal;font-family:Menlo,'DejaVu Sans Mono',consolas,'Courier New',monospace\"><span style=\"font-weight: bold\"> Total params: </span><span style=\"color: #00af00; text-decoration-color: #00af00\">0</span> (0.00 B)\n",
              "</pre>\n"
            ]
          },
          "metadata": {}
        },
        {
          "output_type": "display_data",
          "data": {
            "text/plain": [
              "\u001b[1m Trainable params: \u001b[0m\u001b[38;5;34m0\u001b[0m (0.00 B)\n"
            ],
            "text/html": [
              "<pre style=\"white-space:pre;overflow-x:auto;line-height:normal;font-family:Menlo,'DejaVu Sans Mono',consolas,'Courier New',monospace\"><span style=\"font-weight: bold\"> Trainable params: </span><span style=\"color: #00af00; text-decoration-color: #00af00\">0</span> (0.00 B)\n",
              "</pre>\n"
            ]
          },
          "metadata": {}
        },
        {
          "output_type": "display_data",
          "data": {
            "text/plain": [
              "\u001b[1m Non-trainable params: \u001b[0m\u001b[38;5;34m0\u001b[0m (0.00 B)\n"
            ],
            "text/html": [
              "<pre style=\"white-space:pre;overflow-x:auto;line-height:normal;font-family:Menlo,'DejaVu Sans Mono',consolas,'Courier New',monospace\"><span style=\"font-weight: bold\"> Non-trainable params: </span><span style=\"color: #00af00; text-decoration-color: #00af00\">0</span> (0.00 B)\n",
              "</pre>\n"
            ]
          },
          "metadata": {}
        },
        {
          "output_type": "stream",
          "name": "stdout",
          "text": [
            "Epoch 1/5\n"
          ]
        },
        {
          "output_type": "stream",
          "name": "stderr",
          "text": [
            "/usr/local/lib/python3.11/dist-packages/keras/src/backend/tensorflow/nn.py:780: UserWarning: \"`binary_crossentropy` received `from_logits=True`, but the `output` argument was produced by a Sigmoid activation and thus does not represent logits. Was this intended?\n",
            "  output, from_logits = _get_logits(\n"
          ]
        },
        {
          "output_type": "stream",
          "name": "stdout",
          "text": [
            "\u001b[1m274/274\u001b[0m \u001b[32m━━━━━━━━━━━━━━━━━━━━\u001b[0m\u001b[37m\u001b[0m \u001b[1m18s\u001b[0m 46ms/step - accuracy: 0.5502 - loss: 0.6899 - val_accuracy: 0.5648 - val_loss: 0.6842\n",
            "Epoch 2/5\n",
            "\u001b[1m274/274\u001b[0m \u001b[32m━━━━━━━━━━━━━━━━━━━━\u001b[0m\u001b[37m\u001b[0m \u001b[1m20s\u001b[0m 45ms/step - accuracy: 0.5605 - loss: 0.6841 - val_accuracy: 0.5789 - val_loss: 0.6639\n",
            "Epoch 3/5\n",
            "\u001b[1m274/274\u001b[0m \u001b[32m━━━━━━━━━━━━━━━━━━━━\u001b[0m\u001b[37m\u001b[0m \u001b[1m12s\u001b[0m 43ms/step - accuracy: 0.6442 - loss: 0.6412 - val_accuracy: 0.6032 - val_loss: 0.6571\n",
            "Epoch 4/5\n",
            "\u001b[1m274/274\u001b[0m \u001b[32m━━━━━━━━━━━━━━━━━━━━\u001b[0m\u001b[37m\u001b[0m \u001b[1m20s\u001b[0m 43ms/step - accuracy: 0.7110 - loss: 0.5768 - val_accuracy: 0.6134 - val_loss: 0.6890\n",
            "Epoch 5/5\n",
            "\u001b[1m274/274\u001b[0m \u001b[32m━━━━━━━━━━━━━━━━━━━━\u001b[0m\u001b[37m\u001b[0m \u001b[1m21s\u001b[0m 44ms/step - accuracy: 0.7696 - loss: 0.5004 - val_accuracy: 0.5847 - val_loss: 0.7343\n",
            "\u001b[1m321/321\u001b[0m \u001b[32m━━━━━━━━━━━━━━━━━━━━\u001b[0m\u001b[37m\u001b[0m \u001b[1m6s\u001b[0m 19ms/step - accuracy: 0.6907 - loss: 0.5952\n",
            "\u001b[1m81/81\u001b[0m \u001b[32m━━━━━━━━━━━━━━━━━━━━\u001b[0m\u001b[37m\u001b[0m \u001b[1m1s\u001b[0m 18ms/step - accuracy: 0.5961 - loss: 0.6569\n",
            "\u001b[1m81/81\u001b[0m \u001b[32m━━━━━━━━━━━━━━━━━━━━\u001b[0m\u001b[37m\u001b[0m \u001b[1m2s\u001b[0m 18ms/step\n"
          ]
        }
      ],
      "source": [
        "import tensorflow as tf\n",
        "\n",
        "\n",
        "BiLSTM_model_bin = tf.keras.Sequential([\n",
        "    tf.keras.layers.Embedding(input_dim=max_vocab, output_dim=embed_size, input_length=max_len),\n",
        "    tf.keras.layers.Bidirectional(tf.keras.layers.LSTM(64, return_sequences=True)),\n",
        "    tf.keras.layers.Bidirectional(tf.keras.layers.LSTM(32)),\n",
        "    tf.keras.layers.Dense(64, activation='relu'),\n",
        "    tf.keras.layers.Dropout(0.5),\n",
        "    tf.keras.layers.Dense(1, activation='sigmoid')])\n",
        "\n",
        "BiLSTM_model_bin.summary()\n",
        "\n",
        "\n",
        "BiLSTM_model_bin.compile(loss=tf.keras.losses.BinaryCrossentropy(from_logits=True),optimizer=tf.keras.optimizers.Adam(1e-4),metrics=['accuracy'])\n",
        "early_stop_bilstm = tf.keras.callbacks.EarlyStopping(monitor=\"val_loss\", patience=2, restore_best_weights=True)\n",
        "\n",
        "\n",
        "history_bilstm_bin = BiLSTM_model_bin.fit(x_train_bin, y_train_bin,epochs=5,validation_split=0.2,batch_size=30,shuffle=True,callbacks=[early_stop_bilstm])\n",
        "\n",
        "loss_train_bilstm, acc_train_bilstm = BiLSTM_model_bin.evaluate(x_train_bin, y_train_bin)\n",
        "loss_test_bilstm, acc_test_bilstm = BiLSTM_model_bin.evaluate(x_test_bin, y_test_bin)\n",
        "\n",
        "\n",
        "store_dl_model_results(name=\"Bi-LSTM_bin\",model=BiLSTM_model_bin,history=history_bilstm_bin,loss_train=loss_train_bilstm,acc_train=acc_train_bilstm,\n",
        "                       loss_test=loss_test_bilstm,acc_test=acc_test_bilstm,x_test=x_test_bin,y_test=y_test_bin,task='binary')\n"
      ]
    },
    {
      "cell_type": "markdown",
      "source": [
        "Multiclass"
      ],
      "metadata": {
        "id": "SXoISFDqDfk2"
      }
    },
    {
      "cell_type": "code",
      "execution_count": 30,
      "metadata": {
        "colab": {
          "base_uri": "https://localhost:8080/",
          "height": 636
        },
        "id": "ry9aE7gAM9eI",
        "outputId": "4009f5e2-0541-4a49-cc96-3f649ad5bffd"
      },
      "outputs": [
        {
          "output_type": "stream",
          "name": "stderr",
          "text": [
            "/usr/local/lib/python3.11/dist-packages/keras/src/layers/core/embedding.py:90: UserWarning: Argument `input_length` is deprecated. Just remove it.\n",
            "  warnings.warn(\n"
          ]
        },
        {
          "output_type": "display_data",
          "data": {
            "text/plain": [
              "\u001b[1mModel: \"sequential_3\"\u001b[0m\n"
            ],
            "text/html": [
              "<pre style=\"white-space:pre;overflow-x:auto;line-height:normal;font-family:Menlo,'DejaVu Sans Mono',consolas,'Courier New',monospace\"><span style=\"font-weight: bold\">Model: \"sequential_3\"</span>\n",
              "</pre>\n"
            ]
          },
          "metadata": {}
        },
        {
          "output_type": "display_data",
          "data": {
            "text/plain": [
              "┏━━━━━━━━━━━━━━━━━━━━━━━━━━━━━━━━━┳━━━━━━━━━━━━━━━━━━━━━━━━┳━━━━━━━━━━━━━━━┓\n",
              "┃\u001b[1m \u001b[0m\u001b[1mLayer (type)                   \u001b[0m\u001b[1m \u001b[0m┃\u001b[1m \u001b[0m\u001b[1mOutput Shape          \u001b[0m\u001b[1m \u001b[0m┃\u001b[1m \u001b[0m\u001b[1m      Param #\u001b[0m\u001b[1m \u001b[0m┃\n",
              "┡━━━━━━━━━━━━━━━━━━━━━━━━━━━━━━━━━╇━━━━━━━━━━━━━━━━━━━━━━━━╇━━━━━━━━━━━━━━━┩\n",
              "│ embedding_3 (\u001b[38;5;33mEmbedding\u001b[0m)         │ ?                      │   \u001b[38;5;34m0\u001b[0m (unbuilt) │\n",
              "├─────────────────────────────────┼────────────────────────┼───────────────┤\n",
              "│ bidirectional_2 (\u001b[38;5;33mBidirectional\u001b[0m) │ ?                      │   \u001b[38;5;34m0\u001b[0m (unbuilt) │\n",
              "├─────────────────────────────────┼────────────────────────┼───────────────┤\n",
              "│ bidirectional_3 (\u001b[38;5;33mBidirectional\u001b[0m) │ ?                      │   \u001b[38;5;34m0\u001b[0m (unbuilt) │\n",
              "├─────────────────────────────────┼────────────────────────┼───────────────┤\n",
              "│ dense_6 (\u001b[38;5;33mDense\u001b[0m)                 │ ?                      │   \u001b[38;5;34m0\u001b[0m (unbuilt) │\n",
              "├─────────────────────────────────┼────────────────────────┼───────────────┤\n",
              "│ dropout_3 (\u001b[38;5;33mDropout\u001b[0m)             │ ?                      │             \u001b[38;5;34m0\u001b[0m │\n",
              "├─────────────────────────────────┼────────────────────────┼───────────────┤\n",
              "│ dense_7 (\u001b[38;5;33mDense\u001b[0m)                 │ ?                      │   \u001b[38;5;34m0\u001b[0m (unbuilt) │\n",
              "└─────────────────────────────────┴────────────────────────┴───────────────┘\n"
            ],
            "text/html": [
              "<pre style=\"white-space:pre;overflow-x:auto;line-height:normal;font-family:Menlo,'DejaVu Sans Mono',consolas,'Courier New',monospace\">┏━━━━━━━━━━━━━━━━━━━━━━━━━━━━━━━━━┳━━━━━━━━━━━━━━━━━━━━━━━━┳━━━━━━━━━━━━━━━┓\n",
              "┃<span style=\"font-weight: bold\"> Layer (type)                    </span>┃<span style=\"font-weight: bold\"> Output Shape           </span>┃<span style=\"font-weight: bold\">       Param # </span>┃\n",
              "┡━━━━━━━━━━━━━━━━━━━━━━━━━━━━━━━━━╇━━━━━━━━━━━━━━━━━━━━━━━━╇━━━━━━━━━━━━━━━┩\n",
              "│ embedding_3 (<span style=\"color: #0087ff; text-decoration-color: #0087ff\">Embedding</span>)         │ ?                      │   <span style=\"color: #00af00; text-decoration-color: #00af00\">0</span> (unbuilt) │\n",
              "├─────────────────────────────────┼────────────────────────┼───────────────┤\n",
              "│ bidirectional_2 (<span style=\"color: #0087ff; text-decoration-color: #0087ff\">Bidirectional</span>) │ ?                      │   <span style=\"color: #00af00; text-decoration-color: #00af00\">0</span> (unbuilt) │\n",
              "├─────────────────────────────────┼────────────────────────┼───────────────┤\n",
              "│ bidirectional_3 (<span style=\"color: #0087ff; text-decoration-color: #0087ff\">Bidirectional</span>) │ ?                      │   <span style=\"color: #00af00; text-decoration-color: #00af00\">0</span> (unbuilt) │\n",
              "├─────────────────────────────────┼────────────────────────┼───────────────┤\n",
              "│ dense_6 (<span style=\"color: #0087ff; text-decoration-color: #0087ff\">Dense</span>)                 │ ?                      │   <span style=\"color: #00af00; text-decoration-color: #00af00\">0</span> (unbuilt) │\n",
              "├─────────────────────────────────┼────────────────────────┼───────────────┤\n",
              "│ dropout_3 (<span style=\"color: #0087ff; text-decoration-color: #0087ff\">Dropout</span>)             │ ?                      │             <span style=\"color: #00af00; text-decoration-color: #00af00\">0</span> │\n",
              "├─────────────────────────────────┼────────────────────────┼───────────────┤\n",
              "│ dense_7 (<span style=\"color: #0087ff; text-decoration-color: #0087ff\">Dense</span>)                 │ ?                      │   <span style=\"color: #00af00; text-decoration-color: #00af00\">0</span> (unbuilt) │\n",
              "└─────────────────────────────────┴────────────────────────┴───────────────┘\n",
              "</pre>\n"
            ]
          },
          "metadata": {}
        },
        {
          "output_type": "display_data",
          "data": {
            "text/plain": [
              "\u001b[1m Total params: \u001b[0m\u001b[38;5;34m0\u001b[0m (0.00 B)\n"
            ],
            "text/html": [
              "<pre style=\"white-space:pre;overflow-x:auto;line-height:normal;font-family:Menlo,'DejaVu Sans Mono',consolas,'Courier New',monospace\"><span style=\"font-weight: bold\"> Total params: </span><span style=\"color: #00af00; text-decoration-color: #00af00\">0</span> (0.00 B)\n",
              "</pre>\n"
            ]
          },
          "metadata": {}
        },
        {
          "output_type": "display_data",
          "data": {
            "text/plain": [
              "\u001b[1m Trainable params: \u001b[0m\u001b[38;5;34m0\u001b[0m (0.00 B)\n"
            ],
            "text/html": [
              "<pre style=\"white-space:pre;overflow-x:auto;line-height:normal;font-family:Menlo,'DejaVu Sans Mono',consolas,'Courier New',monospace\"><span style=\"font-weight: bold\"> Trainable params: </span><span style=\"color: #00af00; text-decoration-color: #00af00\">0</span> (0.00 B)\n",
              "</pre>\n"
            ]
          },
          "metadata": {}
        },
        {
          "output_type": "display_data",
          "data": {
            "text/plain": [
              "\u001b[1m Non-trainable params: \u001b[0m\u001b[38;5;34m0\u001b[0m (0.00 B)\n"
            ],
            "text/html": [
              "<pre style=\"white-space:pre;overflow-x:auto;line-height:normal;font-family:Menlo,'DejaVu Sans Mono',consolas,'Courier New',monospace\"><span style=\"font-weight: bold\"> Non-trainable params: </span><span style=\"color: #00af00; text-decoration-color: #00af00\">0</span> (0.00 B)\n",
              "</pre>\n"
            ]
          },
          "metadata": {}
        },
        {
          "output_type": "stream",
          "name": "stdout",
          "text": [
            "Epoch 1/5\n",
            "\u001b[1m274/274\u001b[0m \u001b[32m━━━━━━━━━━━━━━━━━━━━\u001b[0m\u001b[37m\u001b[0m \u001b[1m17s\u001b[0m 44ms/step - accuracy: 0.1841 - loss: 1.7833 - val_accuracy: 0.2147 - val_loss: 1.7527\n",
            "Epoch 2/5\n",
            "\u001b[1m274/274\u001b[0m \u001b[32m━━━━━━━━━━━━━━━━━━━━\u001b[0m\u001b[37m\u001b[0m \u001b[1m20s\u001b[0m 43ms/step - accuracy: 0.2080 - loss: 1.7665 - val_accuracy: 0.2147 - val_loss: 1.7534\n",
            "Epoch 3/5\n",
            "\u001b[1m274/274\u001b[0m \u001b[32m━━━━━━━━━━━━━━━━━━━━\u001b[0m\u001b[37m\u001b[0m \u001b[1m20s\u001b[0m 43ms/step - accuracy: 0.2016 - loss: 1.7606 - val_accuracy: 0.2254 - val_loss: 1.7493\n",
            "Epoch 4/5\n",
            "\u001b[1m274/274\u001b[0m \u001b[32m━━━━━━━━━━━━━━━━━━━━\u001b[0m\u001b[37m\u001b[0m \u001b[1m20s\u001b[0m 43ms/step - accuracy: 0.2169 - loss: 1.7605 - val_accuracy: 0.2420 - val_loss: 1.7370\n",
            "Epoch 5/5\n",
            "\u001b[1m274/274\u001b[0m \u001b[32m━━━━━━━━━━━━━━━━━━━━\u001b[0m\u001b[37m\u001b[0m \u001b[1m21s\u001b[0m 44ms/step - accuracy: 0.2535 - loss: 1.7289 - val_accuracy: 0.2478 - val_loss: 1.7332\n",
            "\u001b[1m321/321\u001b[0m \u001b[32m━━━━━━━━━━━━━━━━━━━━\u001b[0m\u001b[37m\u001b[0m \u001b[1m5s\u001b[0m 16ms/step - accuracy: 0.2875 - loss: 1.6407\n",
            "\u001b[1m81/81\u001b[0m \u001b[32m━━━━━━━━━━━━━━━━━━━━\u001b[0m\u001b[37m\u001b[0m \u001b[1m1s\u001b[0m 18ms/step - accuracy: 0.2336 - loss: 1.7345\n",
            "\u001b[1m81/81\u001b[0m \u001b[32m━━━━━━━━━━━━━━━━━━━━\u001b[0m\u001b[37m\u001b[0m \u001b[1m2s\u001b[0m 19ms/step\n"
          ]
        },
        {
          "output_type": "stream",
          "name": "stderr",
          "text": [
            "/usr/local/lib/python3.11/dist-packages/sklearn/metrics/_classification.py:1565: UndefinedMetricWarning: Precision is ill-defined and being set to 0.0 in labels with no predicted samples. Use `zero_division` parameter to control this behavior.\n",
            "  _warn_prf(average, modifier, f\"{metric.capitalize()} is\", len(result))\n"
          ]
        }
      ],
      "source": [
        "BiLSTM_model_multi = tf.keras.Sequential([\n",
        "    tf.keras.layers.Embedding(input_dim=max_vocab, output_dim=embed_size, input_length=max_len),\n",
        "    tf.keras.layers.Bidirectional(tf.keras.layers.LSTM(64, return_sequences=True)),\n",
        "    tf.keras.layers.Bidirectional(tf.keras.layers.LSTM(32)),\n",
        "    tf.keras.layers.Dense(64, activation='relu'),\n",
        "    tf.keras.layers.Dropout(0.5),\n",
        "    tf.keras.layers.Dense(6, activation='softmax')\n",
        "])\n",
        "\n",
        "BiLSTM_model_multi.summary()\n",
        "\n",
        "\n",
        "BiLSTM_model_multi.compile(loss='sparse_categorical_crossentropy',optimizer=tf.keras.optimizers.Adam(1e-4),metrics=['accuracy'])\n",
        "early_stop_bilstm_multi = tf.keras.callbacks.EarlyStopping(monitor=\"val_loss\", patience=2, restore_best_weights=True)\n",
        "history_bilstm_multi = BiLSTM_model_multi.fit(x_train_multi, y_train_multi,epochs=5,validation_split=0.2,batch_size=30,shuffle=True,callbacks=[early_stop_bilstm_multi])\n",
        "\n",
        "\n",
        "loss_train_bilstm_multi, acc_train_bilstm_multi = BiLSTM_model_multi.evaluate(x_train_multi, y_train_multi)\n",
        "loss_test_bilstm_multi, acc_test_bilstm_multi = BiLSTM_model_multi.evaluate(x_test_multi, y_test_multi)\n",
        "\n",
        "store_dl_model_results(name=\"Bi-LSTM_multi\",\n",
        "    model=BiLSTM_model_multi,history=history_bilstm_multi,loss_train=loss_train_bilstm_multi,acc_train=acc_train_bilstm_multi,\n",
        "                       loss_test=loss_test_bilstm_multi,acc_test=acc_test_bilstm_multi,x_test=x_test_multi,y_test=y_test_multi,task='multiclass')\n"
      ]
    },
    {
      "cell_type": "markdown",
      "metadata": {
        "id": "ST1hQBQRNcsZ"
      },
      "source": [
        "**Uni-GRU**"
      ]
    },
    {
      "cell_type": "markdown",
      "source": [
        "Binary"
      ],
      "metadata": {
        "id": "zd70MC4fDh31"
      }
    },
    {
      "cell_type": "code",
      "execution_count": 31,
      "metadata": {
        "id": "Vznn4tJKNjx1",
        "colab": {
          "base_uri": "https://localhost:8080/",
          "height": 601
        },
        "outputId": "317339ff-fbae-4ce5-ebb3-20649db69104"
      },
      "outputs": [
        {
          "output_type": "stream",
          "name": "stderr",
          "text": [
            "/usr/local/lib/python3.11/dist-packages/keras/src/layers/core/embedding.py:90: UserWarning: Argument `input_length` is deprecated. Just remove it.\n",
            "  warnings.warn(\n"
          ]
        },
        {
          "output_type": "display_data",
          "data": {
            "text/plain": [
              "\u001b[1mModel: \"sequential_4\"\u001b[0m\n"
            ],
            "text/html": [
              "<pre style=\"white-space:pre;overflow-x:auto;line-height:normal;font-family:Menlo,'DejaVu Sans Mono',consolas,'Courier New',monospace\"><span style=\"font-weight: bold\">Model: \"sequential_4\"</span>\n",
              "</pre>\n"
            ]
          },
          "metadata": {}
        },
        {
          "output_type": "display_data",
          "data": {
            "text/plain": [
              "┏━━━━━━━━━━━━━━━━━━━━━━━━━━━━━━━━━┳━━━━━━━━━━━━━━━━━━━━━━━━┳━━━━━━━━━━━━━━━┓\n",
              "┃\u001b[1m \u001b[0m\u001b[1mLayer (type)                   \u001b[0m\u001b[1m \u001b[0m┃\u001b[1m \u001b[0m\u001b[1mOutput Shape          \u001b[0m\u001b[1m \u001b[0m┃\u001b[1m \u001b[0m\u001b[1m      Param #\u001b[0m\u001b[1m \u001b[0m┃\n",
              "┡━━━━━━━━━━━━━━━━━━━━━━━━━━━━━━━━━╇━━━━━━━━━━━━━━━━━━━━━━━━╇━━━━━━━━━━━━━━━┩\n",
              "│ embedding_4 (\u001b[38;5;33mEmbedding\u001b[0m)         │ ?                      │   \u001b[38;5;34m0\u001b[0m (unbuilt) │\n",
              "├─────────────────────────────────┼────────────────────────┼───────────────┤\n",
              "│ gru (\u001b[38;5;33mGRU\u001b[0m)                       │ ?                      │   \u001b[38;5;34m0\u001b[0m (unbuilt) │\n",
              "├─────────────────────────────────┼────────────────────────┼───────────────┤\n",
              "│ gru_1 (\u001b[38;5;33mGRU\u001b[0m)                     │ ?                      │   \u001b[38;5;34m0\u001b[0m (unbuilt) │\n",
              "├─────────────────────────────────┼────────────────────────┼───────────────┤\n",
              "│ dense_8 (\u001b[38;5;33mDense\u001b[0m)                 │ ?                      │   \u001b[38;5;34m0\u001b[0m (unbuilt) │\n",
              "├─────────────────────────────────┼────────────────────────┼───────────────┤\n",
              "│ dropout_4 (\u001b[38;5;33mDropout\u001b[0m)             │ ?                      │             \u001b[38;5;34m0\u001b[0m │\n",
              "├─────────────────────────────────┼────────────────────────┼───────────────┤\n",
              "│ dense_9 (\u001b[38;5;33mDense\u001b[0m)                 │ ?                      │   \u001b[38;5;34m0\u001b[0m (unbuilt) │\n",
              "└─────────────────────────────────┴────────────────────────┴───────────────┘\n"
            ],
            "text/html": [
              "<pre style=\"white-space:pre;overflow-x:auto;line-height:normal;font-family:Menlo,'DejaVu Sans Mono',consolas,'Courier New',monospace\">┏━━━━━━━━━━━━━━━━━━━━━━━━━━━━━━━━━┳━━━━━━━━━━━━━━━━━━━━━━━━┳━━━━━━━━━━━━━━━┓\n",
              "┃<span style=\"font-weight: bold\"> Layer (type)                    </span>┃<span style=\"font-weight: bold\"> Output Shape           </span>┃<span style=\"font-weight: bold\">       Param # </span>┃\n",
              "┡━━━━━━━━━━━━━━━━━━━━━━━━━━━━━━━━━╇━━━━━━━━━━━━━━━━━━━━━━━━╇━━━━━━━━━━━━━━━┩\n",
              "│ embedding_4 (<span style=\"color: #0087ff; text-decoration-color: #0087ff\">Embedding</span>)         │ ?                      │   <span style=\"color: #00af00; text-decoration-color: #00af00\">0</span> (unbuilt) │\n",
              "├─────────────────────────────────┼────────────────────────┼───────────────┤\n",
              "│ gru (<span style=\"color: #0087ff; text-decoration-color: #0087ff\">GRU</span>)                       │ ?                      │   <span style=\"color: #00af00; text-decoration-color: #00af00\">0</span> (unbuilt) │\n",
              "├─────────────────────────────────┼────────────────────────┼───────────────┤\n",
              "│ gru_1 (<span style=\"color: #0087ff; text-decoration-color: #0087ff\">GRU</span>)                     │ ?                      │   <span style=\"color: #00af00; text-decoration-color: #00af00\">0</span> (unbuilt) │\n",
              "├─────────────────────────────────┼────────────────────────┼───────────────┤\n",
              "│ dense_8 (<span style=\"color: #0087ff; text-decoration-color: #0087ff\">Dense</span>)                 │ ?                      │   <span style=\"color: #00af00; text-decoration-color: #00af00\">0</span> (unbuilt) │\n",
              "├─────────────────────────────────┼────────────────────────┼───────────────┤\n",
              "│ dropout_4 (<span style=\"color: #0087ff; text-decoration-color: #0087ff\">Dropout</span>)             │ ?                      │             <span style=\"color: #00af00; text-decoration-color: #00af00\">0</span> │\n",
              "├─────────────────────────────────┼────────────────────────┼───────────────┤\n",
              "│ dense_9 (<span style=\"color: #0087ff; text-decoration-color: #0087ff\">Dense</span>)                 │ ?                      │   <span style=\"color: #00af00; text-decoration-color: #00af00\">0</span> (unbuilt) │\n",
              "└─────────────────────────────────┴────────────────────────┴───────────────┘\n",
              "</pre>\n"
            ]
          },
          "metadata": {}
        },
        {
          "output_type": "display_data",
          "data": {
            "text/plain": [
              "\u001b[1m Total params: \u001b[0m\u001b[38;5;34m0\u001b[0m (0.00 B)\n"
            ],
            "text/html": [
              "<pre style=\"white-space:pre;overflow-x:auto;line-height:normal;font-family:Menlo,'DejaVu Sans Mono',consolas,'Courier New',monospace\"><span style=\"font-weight: bold\"> Total params: </span><span style=\"color: #00af00; text-decoration-color: #00af00\">0</span> (0.00 B)\n",
              "</pre>\n"
            ]
          },
          "metadata": {}
        },
        {
          "output_type": "display_data",
          "data": {
            "text/plain": [
              "\u001b[1m Trainable params: \u001b[0m\u001b[38;5;34m0\u001b[0m (0.00 B)\n"
            ],
            "text/html": [
              "<pre style=\"white-space:pre;overflow-x:auto;line-height:normal;font-family:Menlo,'DejaVu Sans Mono',consolas,'Courier New',monospace\"><span style=\"font-weight: bold\"> Trainable params: </span><span style=\"color: #00af00; text-decoration-color: #00af00\">0</span> (0.00 B)\n",
              "</pre>\n"
            ]
          },
          "metadata": {}
        },
        {
          "output_type": "display_data",
          "data": {
            "text/plain": [
              "\u001b[1m Non-trainable params: \u001b[0m\u001b[38;5;34m0\u001b[0m (0.00 B)\n"
            ],
            "text/html": [
              "<pre style=\"white-space:pre;overflow-x:auto;line-height:normal;font-family:Menlo,'DejaVu Sans Mono',consolas,'Courier New',monospace\"><span style=\"font-weight: bold\"> Non-trainable params: </span><span style=\"color: #00af00; text-decoration-color: #00af00\">0</span> (0.00 B)\n",
              "</pre>\n"
            ]
          },
          "metadata": {}
        },
        {
          "output_type": "stream",
          "name": "stdout",
          "text": [
            "Epoch 1/5\n"
          ]
        },
        {
          "output_type": "stream",
          "name": "stderr",
          "text": [
            "/usr/local/lib/python3.11/dist-packages/keras/src/backend/tensorflow/nn.py:780: UserWarning: \"`binary_crossentropy` received `from_logits=True`, but the `output` argument was produced by a Sigmoid activation and thus does not represent logits. Was this intended?\n",
            "  output, from_logits = _get_logits(\n"
          ]
        },
        {
          "output_type": "stream",
          "name": "stdout",
          "text": [
            "\u001b[1m274/274\u001b[0m \u001b[32m━━━━━━━━━━━━━━━━━━━━\u001b[0m\u001b[37m\u001b[0m \u001b[1m10s\u001b[0m 26ms/step - accuracy: 0.5547 - loss: 0.6887 - val_accuracy: 0.5648 - val_loss: 0.6851\n",
            "Epoch 2/5\n",
            "\u001b[1m274/274\u001b[0m \u001b[32m━━━━━━━━━━━━━━━━━━━━\u001b[0m\u001b[37m\u001b[0m \u001b[1m7s\u001b[0m 24ms/step - accuracy: 0.5535 - loss: 0.6888 - val_accuracy: 0.5648 - val_loss: 0.6850\n",
            "Epoch 3/5\n",
            "\u001b[1m274/274\u001b[0m \u001b[32m━━━━━━━━━━━━━━━━━━━━\u001b[0m\u001b[37m\u001b[0m \u001b[1m10s\u001b[0m 22ms/step - accuracy: 0.5583 - loss: 0.6872 - val_accuracy: 0.5648 - val_loss: 0.6855\n",
            "Epoch 4/5\n",
            "\u001b[1m274/274\u001b[0m \u001b[32m━━━━━━━━━━━━━━━━━━━━\u001b[0m\u001b[37m\u001b[0m \u001b[1m10s\u001b[0m 22ms/step - accuracy: 0.5605 - loss: 0.6866 - val_accuracy: 0.5648 - val_loss: 0.6851\n",
            "\u001b[1m321/321\u001b[0m \u001b[32m━━━━━━━━━━━━━━━━━━━━\u001b[0m\u001b[37m\u001b[0m \u001b[1m4s\u001b[0m 11ms/step - accuracy: 0.5587 - loss: 0.6863\n",
            "\u001b[1m81/81\u001b[0m \u001b[32m━━━━━━━━━━━━━━━━━━━━\u001b[0m\u001b[37m\u001b[0m \u001b[1m1s\u001b[0m 9ms/step - accuracy: 0.5752 - loss: 0.6828\n",
            "\u001b[1m81/81\u001b[0m \u001b[32m━━━━━━━━━━━━━━━━━━━━\u001b[0m\u001b[37m\u001b[0m \u001b[1m1s\u001b[0m 10ms/step\n"
          ]
        }
      ],
      "source": [
        "UniGRU_model_bin = tf.keras.Sequential([\n",
        "    tf.keras.layers.Embedding(input_dim=max_vocab, output_dim=embed_size, input_length=max_len),\n",
        "    tf.keras.layers.GRU(64, return_sequences=True),\n",
        "    tf.keras.layers.GRU(32),\n",
        "    tf.keras.layers.Dense(64, activation='relu'),\n",
        "    tf.keras.layers.Dropout(0.5),\n",
        "    tf.keras.layers.Dense(1, activation='sigmoid')\n",
        "])\n",
        "\n",
        "UniGRU_model_bin.summary()\n",
        "\n",
        "UniGRU_model_bin.compile(\n",
        "    loss=tf.keras.losses.BinaryCrossentropy(from_logits=True),\n",
        "    optimizer=tf.keras.optimizers.Adam(1e-4),\n",
        "    metrics=['accuracy']\n",
        ")\n",
        "\n",
        "\n",
        "\n",
        "early_stop_gru = tf.keras.callbacks.EarlyStopping(\n",
        "    monitor=\"val_loss\", patience=2, restore_best_weights=True\n",
        ")\n",
        "\n",
        "history_gru_bin = UniGRU_model_bin.fit(\n",
        "    x_train_bin, y_train_bin,\n",
        "    epochs=5,\n",
        "    validation_split=0.2,\n",
        "    batch_size=30,\n",
        "    shuffle=True,\n",
        "    callbacks=[early_stop_gru]\n",
        ")\n",
        "\n",
        "loss_train_gru, acc_train_gru = UniGRU_model_bin.evaluate(x_train_bin, y_train_bin)\n",
        "loss_test_gru, acc_test_gru = UniGRU_model_bin.evaluate(x_test_bin, y_test_bin)\n",
        "\n",
        "store_dl_model_results(\n",
        "    name=\"Uni-GRU_bin\",\n",
        "    model=UniGRU_model_bin,\n",
        "    history=history_gru_bin,\n",
        "    loss_train=loss_train_gru,\n",
        "    acc_train=acc_train_gru,\n",
        "    loss_test=loss_test_gru,\n",
        "    acc_test=acc_test_gru,\n",
        "    x_test=x_test_bin,\n",
        "    y_test=y_test_bin,\n",
        "    task='binary'\n",
        ")\n"
      ]
    },
    {
      "cell_type": "markdown",
      "source": [
        "Multiclass"
      ],
      "metadata": {
        "id": "DGEJLTbvDjtG"
      }
    },
    {
      "cell_type": "code",
      "execution_count": 32,
      "metadata": {
        "id": "1VD1YhPlNl8-",
        "colab": {
          "base_uri": "https://localhost:8080/",
          "height": 636
        },
        "outputId": "59249639-73d7-4451-e24f-5df40151262f"
      },
      "outputs": [
        {
          "output_type": "stream",
          "name": "stderr",
          "text": [
            "/usr/local/lib/python3.11/dist-packages/keras/src/layers/core/embedding.py:90: UserWarning: Argument `input_length` is deprecated. Just remove it.\n",
            "  warnings.warn(\n"
          ]
        },
        {
          "output_type": "display_data",
          "data": {
            "text/plain": [
              "\u001b[1mModel: \"sequential_5\"\u001b[0m\n"
            ],
            "text/html": [
              "<pre style=\"white-space:pre;overflow-x:auto;line-height:normal;font-family:Menlo,'DejaVu Sans Mono',consolas,'Courier New',monospace\"><span style=\"font-weight: bold\">Model: \"sequential_5\"</span>\n",
              "</pre>\n"
            ]
          },
          "metadata": {}
        },
        {
          "output_type": "display_data",
          "data": {
            "text/plain": [
              "┏━━━━━━━━━━━━━━━━━━━━━━━━━━━━━━━━━┳━━━━━━━━━━━━━━━━━━━━━━━━┳━━━━━━━━━━━━━━━┓\n",
              "┃\u001b[1m \u001b[0m\u001b[1mLayer (type)                   \u001b[0m\u001b[1m \u001b[0m┃\u001b[1m \u001b[0m\u001b[1mOutput Shape          \u001b[0m\u001b[1m \u001b[0m┃\u001b[1m \u001b[0m\u001b[1m      Param #\u001b[0m\u001b[1m \u001b[0m┃\n",
              "┡━━━━━━━━━━━━━━━━━━━━━━━━━━━━━━━━━╇━━━━━━━━━━━━━━━━━━━━━━━━╇━━━━━━━━━━━━━━━┩\n",
              "│ embedding_5 (\u001b[38;5;33mEmbedding\u001b[0m)         │ ?                      │   \u001b[38;5;34m0\u001b[0m (unbuilt) │\n",
              "├─────────────────────────────────┼────────────────────────┼───────────────┤\n",
              "│ gru_2 (\u001b[38;5;33mGRU\u001b[0m)                     │ ?                      │   \u001b[38;5;34m0\u001b[0m (unbuilt) │\n",
              "├─────────────────────────────────┼────────────────────────┼───────────────┤\n",
              "│ gru_3 (\u001b[38;5;33mGRU\u001b[0m)                     │ ?                      │   \u001b[38;5;34m0\u001b[0m (unbuilt) │\n",
              "├─────────────────────────────────┼────────────────────────┼───────────────┤\n",
              "│ dense_10 (\u001b[38;5;33mDense\u001b[0m)                │ ?                      │   \u001b[38;5;34m0\u001b[0m (unbuilt) │\n",
              "├─────────────────────────────────┼────────────────────────┼───────────────┤\n",
              "│ dropout_5 (\u001b[38;5;33mDropout\u001b[0m)             │ ?                      │             \u001b[38;5;34m0\u001b[0m │\n",
              "├─────────────────────────────────┼────────────────────────┼───────────────┤\n",
              "│ dense_11 (\u001b[38;5;33mDense\u001b[0m)                │ ?                      │   \u001b[38;5;34m0\u001b[0m (unbuilt) │\n",
              "└─────────────────────────────────┴────────────────────────┴───────────────┘\n"
            ],
            "text/html": [
              "<pre style=\"white-space:pre;overflow-x:auto;line-height:normal;font-family:Menlo,'DejaVu Sans Mono',consolas,'Courier New',monospace\">┏━━━━━━━━━━━━━━━━━━━━━━━━━━━━━━━━━┳━━━━━━━━━━━━━━━━━━━━━━━━┳━━━━━━━━━━━━━━━┓\n",
              "┃<span style=\"font-weight: bold\"> Layer (type)                    </span>┃<span style=\"font-weight: bold\"> Output Shape           </span>┃<span style=\"font-weight: bold\">       Param # </span>┃\n",
              "┡━━━━━━━━━━━━━━━━━━━━━━━━━━━━━━━━━╇━━━━━━━━━━━━━━━━━━━━━━━━╇━━━━━━━━━━━━━━━┩\n",
              "│ embedding_5 (<span style=\"color: #0087ff; text-decoration-color: #0087ff\">Embedding</span>)         │ ?                      │   <span style=\"color: #00af00; text-decoration-color: #00af00\">0</span> (unbuilt) │\n",
              "├─────────────────────────────────┼────────────────────────┼───────────────┤\n",
              "│ gru_2 (<span style=\"color: #0087ff; text-decoration-color: #0087ff\">GRU</span>)                     │ ?                      │   <span style=\"color: #00af00; text-decoration-color: #00af00\">0</span> (unbuilt) │\n",
              "├─────────────────────────────────┼────────────────────────┼───────────────┤\n",
              "│ gru_3 (<span style=\"color: #0087ff; text-decoration-color: #0087ff\">GRU</span>)                     │ ?                      │   <span style=\"color: #00af00; text-decoration-color: #00af00\">0</span> (unbuilt) │\n",
              "├─────────────────────────────────┼────────────────────────┼───────────────┤\n",
              "│ dense_10 (<span style=\"color: #0087ff; text-decoration-color: #0087ff\">Dense</span>)                │ ?                      │   <span style=\"color: #00af00; text-decoration-color: #00af00\">0</span> (unbuilt) │\n",
              "├─────────────────────────────────┼────────────────────────┼───────────────┤\n",
              "│ dropout_5 (<span style=\"color: #0087ff; text-decoration-color: #0087ff\">Dropout</span>)             │ ?                      │             <span style=\"color: #00af00; text-decoration-color: #00af00\">0</span> │\n",
              "├─────────────────────────────────┼────────────────────────┼───────────────┤\n",
              "│ dense_11 (<span style=\"color: #0087ff; text-decoration-color: #0087ff\">Dense</span>)                │ ?                      │   <span style=\"color: #00af00; text-decoration-color: #00af00\">0</span> (unbuilt) │\n",
              "└─────────────────────────────────┴────────────────────────┴───────────────┘\n",
              "</pre>\n"
            ]
          },
          "metadata": {}
        },
        {
          "output_type": "display_data",
          "data": {
            "text/plain": [
              "\u001b[1m Total params: \u001b[0m\u001b[38;5;34m0\u001b[0m (0.00 B)\n"
            ],
            "text/html": [
              "<pre style=\"white-space:pre;overflow-x:auto;line-height:normal;font-family:Menlo,'DejaVu Sans Mono',consolas,'Courier New',monospace\"><span style=\"font-weight: bold\"> Total params: </span><span style=\"color: #00af00; text-decoration-color: #00af00\">0</span> (0.00 B)\n",
              "</pre>\n"
            ]
          },
          "metadata": {}
        },
        {
          "output_type": "display_data",
          "data": {
            "text/plain": [
              "\u001b[1m Trainable params: \u001b[0m\u001b[38;5;34m0\u001b[0m (0.00 B)\n"
            ],
            "text/html": [
              "<pre style=\"white-space:pre;overflow-x:auto;line-height:normal;font-family:Menlo,'DejaVu Sans Mono',consolas,'Courier New',monospace\"><span style=\"font-weight: bold\"> Trainable params: </span><span style=\"color: #00af00; text-decoration-color: #00af00\">0</span> (0.00 B)\n",
              "</pre>\n"
            ]
          },
          "metadata": {}
        },
        {
          "output_type": "display_data",
          "data": {
            "text/plain": [
              "\u001b[1m Non-trainable params: \u001b[0m\u001b[38;5;34m0\u001b[0m (0.00 B)\n"
            ],
            "text/html": [
              "<pre style=\"white-space:pre;overflow-x:auto;line-height:normal;font-family:Menlo,'DejaVu Sans Mono',consolas,'Courier New',monospace\"><span style=\"font-weight: bold\"> Non-trainable params: </span><span style=\"color: #00af00; text-decoration-color: #00af00\">0</span> (0.00 B)\n",
              "</pre>\n"
            ]
          },
          "metadata": {}
        },
        {
          "output_type": "stream",
          "name": "stdout",
          "text": [
            "Epoch 1/5\n",
            "\u001b[1m274/274\u001b[0m \u001b[32m━━━━━━━━━━━━━━━━━━━━\u001b[0m\u001b[37m\u001b[0m \u001b[1m10s\u001b[0m 27ms/step - accuracy: 0.1897 - loss: 1.7824 - val_accuracy: 0.2147 - val_loss: 1.7619\n",
            "Epoch 2/5\n",
            "\u001b[1m274/274\u001b[0m \u001b[32m━━━━━━━━━━━━━━━━━━━━\u001b[0m\u001b[37m\u001b[0m \u001b[1m6s\u001b[0m 21ms/step - accuracy: 0.1824 - loss: 1.7697 - val_accuracy: 0.2147 - val_loss: 1.7590\n",
            "Epoch 3/5\n",
            "\u001b[1m274/274\u001b[0m \u001b[32m━━━━━━━━━━━━━━━━━━━━\u001b[0m\u001b[37m\u001b[0m \u001b[1m7s\u001b[0m 27ms/step - accuracy: 0.1821 - loss: 1.7695 - val_accuracy: 0.2147 - val_loss: 1.7543\n",
            "Epoch 4/5\n",
            "\u001b[1m274/274\u001b[0m \u001b[32m━━━━━━━━━━━━━━━━━━━━\u001b[0m\u001b[37m\u001b[0m \u001b[1m6s\u001b[0m 22ms/step - accuracy: 0.2022 - loss: 1.7621 - val_accuracy: 0.2147 - val_loss: 1.7562\n",
            "Epoch 5/5\n",
            "\u001b[1m274/274\u001b[0m \u001b[32m━━━━━━━━━━━━━━━━━━━━\u001b[0m\u001b[37m\u001b[0m \u001b[1m7s\u001b[0m 25ms/step - accuracy: 0.2029 - loss: 1.7669 - val_accuracy: 0.2147 - val_loss: 1.7535\n",
            "\u001b[1m321/321\u001b[0m \u001b[32m━━━━━━━━━━━━━━━━━━━━\u001b[0m\u001b[37m\u001b[0m \u001b[1m3s\u001b[0m 9ms/step - accuracy: 0.1993 - loss: 1.7561\n",
            "\u001b[1m81/81\u001b[0m \u001b[32m━━━━━━━━━━━━━━━━━━━━\u001b[0m\u001b[37m\u001b[0m \u001b[1m1s\u001b[0m 11ms/step - accuracy: 0.2063 - loss: 1.7530\n",
            "\u001b[1m81/81\u001b[0m \u001b[32m━━━━━━━━━━━━━━━━━━━━\u001b[0m\u001b[37m\u001b[0m \u001b[1m1s\u001b[0m 10ms/step\n"
          ]
        },
        {
          "output_type": "stream",
          "name": "stderr",
          "text": [
            "/usr/local/lib/python3.11/dist-packages/sklearn/metrics/_classification.py:1565: UndefinedMetricWarning: Precision is ill-defined and being set to 0.0 in labels with no predicted samples. Use `zero_division` parameter to control this behavior.\n",
            "  _warn_prf(average, modifier, f\"{metric.capitalize()} is\", len(result))\n"
          ]
        }
      ],
      "source": [
        "\n",
        "UniGRU_model_multi = tf.keras.Sequential([\n",
        "    tf.keras.layers.Embedding(input_dim=max_vocab, output_dim=embed_size, input_length=max_len),\n",
        "    tf.keras.layers.GRU(64, return_sequences=True),\n",
        "    tf.keras.layers.GRU(32),\n",
        "    tf.keras.layers.Dense(64, activation='relu'),\n",
        "    tf.keras.layers.Dropout(0.5),\n",
        "    tf.keras.layers.Dense(6, activation='softmax')\n",
        "])\n",
        "\n",
        "UniGRU_model_multi.summary()\n",
        "\n",
        "UniGRU_model_multi.compile(\n",
        "    loss='sparse_categorical_crossentropy',\n",
        "    optimizer=tf.keras.optimizers.Adam(1e-4),\n",
        "    metrics=['accuracy']\n",
        ")\n",
        "early_stop_gru_multi = tf.keras.callbacks.EarlyStopping(\n",
        "    monitor=\"val_loss\", patience=2, restore_best_weights=True\n",
        ")\n",
        "history_gru_multi = UniGRU_model_multi.fit(\n",
        "    x_train_multi, y_train_multi,\n",
        "    epochs=5,\n",
        "    validation_split=0.2,\n",
        "    batch_size=30,\n",
        "    shuffle=True,\n",
        "    callbacks=[early_stop_gru_multi]\n",
        ")\n",
        "\n",
        "loss_train_gru_multi, acc_train_gru_multi = UniGRU_model_multi.evaluate(x_train_multi, y_train_multi)\n",
        "loss_test_gru_multi, acc_test_gru_multi = UniGRU_model_multi.evaluate(x_test_multi, y_test_multi)\n",
        "\n",
        "store_dl_model_results(\n",
        "    name=\"Uni-GRU_multi\",\n",
        "    model=UniGRU_model_multi,\n",
        "    history=history_gru_multi,\n",
        "    loss_train=loss_train_gru_multi,\n",
        "    acc_train=acc_train_gru_multi,\n",
        "    loss_test=loss_test_gru_multi,\n",
        "    acc_test=acc_test_gru_multi,\n",
        "    x_test=x_test_multi,\n",
        "    y_test=y_test_multi,\n",
        "    task='multiclass'\n",
        ")\n"
      ]
    },
    {
      "cell_type": "markdown",
      "metadata": {
        "id": "RLnnA-CgNqu5"
      },
      "source": [
        "**Bi-GRU**"
      ]
    },
    {
      "cell_type": "markdown",
      "source": [
        "Binary"
      ],
      "metadata": {
        "id": "BkD_jM7ODpVM"
      }
    },
    {
      "cell_type": "code",
      "execution_count": 33,
      "metadata": {
        "id": "hzqizYa9Ntnr",
        "colab": {
          "base_uri": "https://localhost:8080/",
          "height": 636
        },
        "outputId": "db6b52a2-c666-41b7-e55f-6cefbd5b4f0c"
      },
      "outputs": [
        {
          "output_type": "stream",
          "name": "stderr",
          "text": [
            "/usr/local/lib/python3.11/dist-packages/keras/src/layers/core/embedding.py:90: UserWarning: Argument `input_length` is deprecated. Just remove it.\n",
            "  warnings.warn(\n"
          ]
        },
        {
          "output_type": "display_data",
          "data": {
            "text/plain": [
              "\u001b[1mModel: \"sequential_6\"\u001b[0m\n"
            ],
            "text/html": [
              "<pre style=\"white-space:pre;overflow-x:auto;line-height:normal;font-family:Menlo,'DejaVu Sans Mono',consolas,'Courier New',monospace\"><span style=\"font-weight: bold\">Model: \"sequential_6\"</span>\n",
              "</pre>\n"
            ]
          },
          "metadata": {}
        },
        {
          "output_type": "display_data",
          "data": {
            "text/plain": [
              "┏━━━━━━━━━━━━━━━━━━━━━━━━━━━━━━━━━┳━━━━━━━━━━━━━━━━━━━━━━━━┳━━━━━━━━━━━━━━━┓\n",
              "┃\u001b[1m \u001b[0m\u001b[1mLayer (type)                   \u001b[0m\u001b[1m \u001b[0m┃\u001b[1m \u001b[0m\u001b[1mOutput Shape          \u001b[0m\u001b[1m \u001b[0m┃\u001b[1m \u001b[0m\u001b[1m      Param #\u001b[0m\u001b[1m \u001b[0m┃\n",
              "┡━━━━━━━━━━━━━━━━━━━━━━━━━━━━━━━━━╇━━━━━━━━━━━━━━━━━━━━━━━━╇━━━━━━━━━━━━━━━┩\n",
              "│ embedding_6 (\u001b[38;5;33mEmbedding\u001b[0m)         │ ?                      │   \u001b[38;5;34m0\u001b[0m (unbuilt) │\n",
              "├─────────────────────────────────┼────────────────────────┼───────────────┤\n",
              "│ bidirectional_4 (\u001b[38;5;33mBidirectional\u001b[0m) │ ?                      │   \u001b[38;5;34m0\u001b[0m (unbuilt) │\n",
              "├─────────────────────────────────┼────────────────────────┼───────────────┤\n",
              "│ bidirectional_5 (\u001b[38;5;33mBidirectional\u001b[0m) │ ?                      │   \u001b[38;5;34m0\u001b[0m (unbuilt) │\n",
              "├─────────────────────────────────┼────────────────────────┼───────────────┤\n",
              "│ dense_12 (\u001b[38;5;33mDense\u001b[0m)                │ ?                      │   \u001b[38;5;34m0\u001b[0m (unbuilt) │\n",
              "├─────────────────────────────────┼────────────────────────┼───────────────┤\n",
              "│ dropout_6 (\u001b[38;5;33mDropout\u001b[0m)             │ ?                      │             \u001b[38;5;34m0\u001b[0m │\n",
              "├─────────────────────────────────┼────────────────────────┼───────────────┤\n",
              "│ dense_13 (\u001b[38;5;33mDense\u001b[0m)                │ ?                      │   \u001b[38;5;34m0\u001b[0m (unbuilt) │\n",
              "└─────────────────────────────────┴────────────────────────┴───────────────┘\n"
            ],
            "text/html": [
              "<pre style=\"white-space:pre;overflow-x:auto;line-height:normal;font-family:Menlo,'DejaVu Sans Mono',consolas,'Courier New',monospace\">┏━━━━━━━━━━━━━━━━━━━━━━━━━━━━━━━━━┳━━━━━━━━━━━━━━━━━━━━━━━━┳━━━━━━━━━━━━━━━┓\n",
              "┃<span style=\"font-weight: bold\"> Layer (type)                    </span>┃<span style=\"font-weight: bold\"> Output Shape           </span>┃<span style=\"font-weight: bold\">       Param # </span>┃\n",
              "┡━━━━━━━━━━━━━━━━━━━━━━━━━━━━━━━━━╇━━━━━━━━━━━━━━━━━━━━━━━━╇━━━━━━━━━━━━━━━┩\n",
              "│ embedding_6 (<span style=\"color: #0087ff; text-decoration-color: #0087ff\">Embedding</span>)         │ ?                      │   <span style=\"color: #00af00; text-decoration-color: #00af00\">0</span> (unbuilt) │\n",
              "├─────────────────────────────────┼────────────────────────┼───────────────┤\n",
              "│ bidirectional_4 (<span style=\"color: #0087ff; text-decoration-color: #0087ff\">Bidirectional</span>) │ ?                      │   <span style=\"color: #00af00; text-decoration-color: #00af00\">0</span> (unbuilt) │\n",
              "├─────────────────────────────────┼────────────────────────┼───────────────┤\n",
              "│ bidirectional_5 (<span style=\"color: #0087ff; text-decoration-color: #0087ff\">Bidirectional</span>) │ ?                      │   <span style=\"color: #00af00; text-decoration-color: #00af00\">0</span> (unbuilt) │\n",
              "├─────────────────────────────────┼────────────────────────┼───────────────┤\n",
              "│ dense_12 (<span style=\"color: #0087ff; text-decoration-color: #0087ff\">Dense</span>)                │ ?                      │   <span style=\"color: #00af00; text-decoration-color: #00af00\">0</span> (unbuilt) │\n",
              "├─────────────────────────────────┼────────────────────────┼───────────────┤\n",
              "│ dropout_6 (<span style=\"color: #0087ff; text-decoration-color: #0087ff\">Dropout</span>)             │ ?                      │             <span style=\"color: #00af00; text-decoration-color: #00af00\">0</span> │\n",
              "├─────────────────────────────────┼────────────────────────┼───────────────┤\n",
              "│ dense_13 (<span style=\"color: #0087ff; text-decoration-color: #0087ff\">Dense</span>)                │ ?                      │   <span style=\"color: #00af00; text-decoration-color: #00af00\">0</span> (unbuilt) │\n",
              "└─────────────────────────────────┴────────────────────────┴───────────────┘\n",
              "</pre>\n"
            ]
          },
          "metadata": {}
        },
        {
          "output_type": "display_data",
          "data": {
            "text/plain": [
              "\u001b[1m Total params: \u001b[0m\u001b[38;5;34m0\u001b[0m (0.00 B)\n"
            ],
            "text/html": [
              "<pre style=\"white-space:pre;overflow-x:auto;line-height:normal;font-family:Menlo,'DejaVu Sans Mono',consolas,'Courier New',monospace\"><span style=\"font-weight: bold\"> Total params: </span><span style=\"color: #00af00; text-decoration-color: #00af00\">0</span> (0.00 B)\n",
              "</pre>\n"
            ]
          },
          "metadata": {}
        },
        {
          "output_type": "display_data",
          "data": {
            "text/plain": [
              "\u001b[1m Trainable params: \u001b[0m\u001b[38;5;34m0\u001b[0m (0.00 B)\n"
            ],
            "text/html": [
              "<pre style=\"white-space:pre;overflow-x:auto;line-height:normal;font-family:Menlo,'DejaVu Sans Mono',consolas,'Courier New',monospace\"><span style=\"font-weight: bold\"> Trainable params: </span><span style=\"color: #00af00; text-decoration-color: #00af00\">0</span> (0.00 B)\n",
              "</pre>\n"
            ]
          },
          "metadata": {}
        },
        {
          "output_type": "display_data",
          "data": {
            "text/plain": [
              "\u001b[1m Non-trainable params: \u001b[0m\u001b[38;5;34m0\u001b[0m (0.00 B)\n"
            ],
            "text/html": [
              "<pre style=\"white-space:pre;overflow-x:auto;line-height:normal;font-family:Menlo,'DejaVu Sans Mono',consolas,'Courier New',monospace\"><span style=\"font-weight: bold\"> Non-trainable params: </span><span style=\"color: #00af00; text-decoration-color: #00af00\">0</span> (0.00 B)\n",
              "</pre>\n"
            ]
          },
          "metadata": {}
        },
        {
          "output_type": "stream",
          "name": "stdout",
          "text": [
            "Epoch 1/5\n"
          ]
        },
        {
          "output_type": "stream",
          "name": "stderr",
          "text": [
            "/usr/local/lib/python3.11/dist-packages/keras/src/backend/tensorflow/nn.py:780: UserWarning: \"`binary_crossentropy` received `from_logits=True`, but the `output` argument was produced by a Sigmoid activation and thus does not represent logits. Was this intended?\n",
            "  output, from_logits = _get_logits(\n"
          ]
        },
        {
          "output_type": "stream",
          "name": "stdout",
          "text": [
            "\u001b[1m274/274\u001b[0m \u001b[32m━━━━━━━━━━━━━━━━━━━━\u001b[0m\u001b[37m\u001b[0m \u001b[1m17s\u001b[0m 43ms/step - accuracy: 0.5560 - loss: 0.6889 - val_accuracy: 0.5648 - val_loss: 0.6845\n",
            "Epoch 2/5\n",
            "\u001b[1m274/274\u001b[0m \u001b[32m━━━━━━━━━━━━━━━━━━━━\u001b[0m\u001b[37m\u001b[0m \u001b[1m20s\u001b[0m 43ms/step - accuracy: 0.5568 - loss: 0.6838 - val_accuracy: 0.5759 - val_loss: 0.6728\n",
            "Epoch 3/5\n",
            "\u001b[1m274/274\u001b[0m \u001b[32m━━━━━━━━━━━━━━━━━━━━\u001b[0m\u001b[37m\u001b[0m \u001b[1m20s\u001b[0m 43ms/step - accuracy: 0.6315 - loss: 0.6481 - val_accuracy: 0.6246 - val_loss: 0.6514\n",
            "Epoch 4/5\n",
            "\u001b[1m274/274\u001b[0m \u001b[32m━━━━━━━━━━━━━━━━━━━━\u001b[0m\u001b[37m\u001b[0m \u001b[1m21s\u001b[0m 43ms/step - accuracy: 0.7197 - loss: 0.5666 - val_accuracy: 0.6032 - val_loss: 0.6922\n",
            "Epoch 5/5\n",
            "\u001b[1m274/274\u001b[0m \u001b[32m━━━━━━━━━━━━━━━━━━━━\u001b[0m\u001b[37m\u001b[0m \u001b[1m12s\u001b[0m 44ms/step - accuracy: 0.7886 - loss: 0.4852 - val_accuracy: 0.5910 - val_loss: 0.7356\n",
            "\u001b[1m321/321\u001b[0m \u001b[32m━━━━━━━━━━━━━━━━━━━━\u001b[0m\u001b[37m\u001b[0m \u001b[1m5s\u001b[0m 17ms/step - accuracy: 0.7191 - loss: 0.5783\n",
            "\u001b[1m81/81\u001b[0m \u001b[32m━━━━━━━━━━━━━━━━━━━━\u001b[0m\u001b[37m\u001b[0m \u001b[1m1s\u001b[0m 18ms/step - accuracy: 0.6112 - loss: 0.6503\n",
            "\u001b[1m81/81\u001b[0m \u001b[32m━━━━━━━━━━━━━━━━━━━━\u001b[0m\u001b[37m\u001b[0m \u001b[1m2s\u001b[0m 18ms/step\n"
          ]
        }
      ],
      "source": [
        "\n",
        "BiGRU_model_bin = tf.keras.Sequential([\n",
        "    tf.keras.layers.Embedding(input_dim=max_vocab, output_dim=embed_size, input_length=max_len),\n",
        "    tf.keras.layers.Bidirectional(tf.keras.layers.GRU(64, return_sequences=True)),\n",
        "    tf.keras.layers.Bidirectional(tf.keras.layers.GRU(32)),\n",
        "    tf.keras.layers.Dense(64, activation='relu'),\n",
        "    tf.keras.layers.Dropout(0.5),\n",
        "    tf.keras.layers.Dense(1, activation='sigmoid')\n",
        "])\n",
        "\n",
        "BiGRU_model_bin.summary()\n",
        "BiGRU_model_bin.compile(\n",
        "    loss=tf.keras.losses.BinaryCrossentropy(from_logits=True),\n",
        "    optimizer=tf.keras.optimizers.Adam(1e-4),\n",
        "    metrics=['accuracy']\n",
        ")\n",
        "\n",
        "early_stop_bigru = tf.keras.callbacks.EarlyStopping(\n",
        "    monitor=\"val_loss\", patience=2, restore_best_weights=True\n",
        ")\n",
        "history_bigru_bin = BiGRU_model_bin.fit(\n",
        "    x_train_bin, y_train_bin,\n",
        "    epochs=5,\n",
        "    validation_split=0.2,\n",
        "    batch_size=30,\n",
        "    shuffle=True,\n",
        "    callbacks=[early_stop_bigru]\n",
        ")\n",
        "loss_train_bigru, acc_train_bigru = BiGRU_model_bin.evaluate(x_train_bin, y_train_bin)\n",
        "loss_test_bigru, acc_test_bigru = BiGRU_model_bin.evaluate(x_test_bin, y_test_bin)\n",
        "\n",
        "store_dl_model_results(\n",
        "    name=\"BiGRU_bin\",\n",
        "    model=BiGRU_model_bin,\n",
        "    history=history_bigru_bin,\n",
        "    loss_train=loss_train_bigru,\n",
        "    acc_train=acc_train_bigru,\n",
        "    loss_test=loss_test_bigru,\n",
        "    acc_test=acc_test_bigru,\n",
        "    x_test=x_test_bin,\n",
        "    y_test=y_test_bin,\n",
        "    task='binary'\n",
        ")\n"
      ]
    },
    {
      "cell_type": "markdown",
      "source": [
        "Multiclass"
      ],
      "metadata": {
        "id": "YGOzQNveDri4"
      }
    },
    {
      "cell_type": "code",
      "execution_count": 34,
      "metadata": {
        "id": "Aa5uVNbmNxzI",
        "colab": {
          "base_uri": "https://localhost:8080/",
          "height": 636
        },
        "outputId": "01aaa0c1-c36d-42f1-9150-cc28c8538800"
      },
      "outputs": [
        {
          "output_type": "stream",
          "name": "stderr",
          "text": [
            "/usr/local/lib/python3.11/dist-packages/keras/src/layers/core/embedding.py:90: UserWarning: Argument `input_length` is deprecated. Just remove it.\n",
            "  warnings.warn(\n"
          ]
        },
        {
          "output_type": "display_data",
          "data": {
            "text/plain": [
              "\u001b[1mModel: \"sequential_7\"\u001b[0m\n"
            ],
            "text/html": [
              "<pre style=\"white-space:pre;overflow-x:auto;line-height:normal;font-family:Menlo,'DejaVu Sans Mono',consolas,'Courier New',monospace\"><span style=\"font-weight: bold\">Model: \"sequential_7\"</span>\n",
              "</pre>\n"
            ]
          },
          "metadata": {}
        },
        {
          "output_type": "display_data",
          "data": {
            "text/plain": [
              "┏━━━━━━━━━━━━━━━━━━━━━━━━━━━━━━━━━┳━━━━━━━━━━━━━━━━━━━━━━━━┳━━━━━━━━━━━━━━━┓\n",
              "┃\u001b[1m \u001b[0m\u001b[1mLayer (type)                   \u001b[0m\u001b[1m \u001b[0m┃\u001b[1m \u001b[0m\u001b[1mOutput Shape          \u001b[0m\u001b[1m \u001b[0m┃\u001b[1m \u001b[0m\u001b[1m      Param #\u001b[0m\u001b[1m \u001b[0m┃\n",
              "┡━━━━━━━━━━━━━━━━━━━━━━━━━━━━━━━━━╇━━━━━━━━━━━━━━━━━━━━━━━━╇━━━━━━━━━━━━━━━┩\n",
              "│ embedding_7 (\u001b[38;5;33mEmbedding\u001b[0m)         │ ?                      │   \u001b[38;5;34m0\u001b[0m (unbuilt) │\n",
              "├─────────────────────────────────┼────────────────────────┼───────────────┤\n",
              "│ bidirectional_6 (\u001b[38;5;33mBidirectional\u001b[0m) │ ?                      │   \u001b[38;5;34m0\u001b[0m (unbuilt) │\n",
              "├─────────────────────────────────┼────────────────────────┼───────────────┤\n",
              "│ bidirectional_7 (\u001b[38;5;33mBidirectional\u001b[0m) │ ?                      │   \u001b[38;5;34m0\u001b[0m (unbuilt) │\n",
              "├─────────────────────────────────┼────────────────────────┼───────────────┤\n",
              "│ dense_14 (\u001b[38;5;33mDense\u001b[0m)                │ ?                      │   \u001b[38;5;34m0\u001b[0m (unbuilt) │\n",
              "├─────────────────────────────────┼────────────────────────┼───────────────┤\n",
              "│ dropout_7 (\u001b[38;5;33mDropout\u001b[0m)             │ ?                      │             \u001b[38;5;34m0\u001b[0m │\n",
              "├─────────────────────────────────┼────────────────────────┼───────────────┤\n",
              "│ dense_15 (\u001b[38;5;33mDense\u001b[0m)                │ ?                      │   \u001b[38;5;34m0\u001b[0m (unbuilt) │\n",
              "└─────────────────────────────────┴────────────────────────┴───────────────┘\n"
            ],
            "text/html": [
              "<pre style=\"white-space:pre;overflow-x:auto;line-height:normal;font-family:Menlo,'DejaVu Sans Mono',consolas,'Courier New',monospace\">┏━━━━━━━━━━━━━━━━━━━━━━━━━━━━━━━━━┳━━━━━━━━━━━━━━━━━━━━━━━━┳━━━━━━━━━━━━━━━┓\n",
              "┃<span style=\"font-weight: bold\"> Layer (type)                    </span>┃<span style=\"font-weight: bold\"> Output Shape           </span>┃<span style=\"font-weight: bold\">       Param # </span>┃\n",
              "┡━━━━━━━━━━━━━━━━━━━━━━━━━━━━━━━━━╇━━━━━━━━━━━━━━━━━━━━━━━━╇━━━━━━━━━━━━━━━┩\n",
              "│ embedding_7 (<span style=\"color: #0087ff; text-decoration-color: #0087ff\">Embedding</span>)         │ ?                      │   <span style=\"color: #00af00; text-decoration-color: #00af00\">0</span> (unbuilt) │\n",
              "├─────────────────────────────────┼────────────────────────┼───────────────┤\n",
              "│ bidirectional_6 (<span style=\"color: #0087ff; text-decoration-color: #0087ff\">Bidirectional</span>) │ ?                      │   <span style=\"color: #00af00; text-decoration-color: #00af00\">0</span> (unbuilt) │\n",
              "├─────────────────────────────────┼────────────────────────┼───────────────┤\n",
              "│ bidirectional_7 (<span style=\"color: #0087ff; text-decoration-color: #0087ff\">Bidirectional</span>) │ ?                      │   <span style=\"color: #00af00; text-decoration-color: #00af00\">0</span> (unbuilt) │\n",
              "├─────────────────────────────────┼────────────────────────┼───────────────┤\n",
              "│ dense_14 (<span style=\"color: #0087ff; text-decoration-color: #0087ff\">Dense</span>)                │ ?                      │   <span style=\"color: #00af00; text-decoration-color: #00af00\">0</span> (unbuilt) │\n",
              "├─────────────────────────────────┼────────────────────────┼───────────────┤\n",
              "│ dropout_7 (<span style=\"color: #0087ff; text-decoration-color: #0087ff\">Dropout</span>)             │ ?                      │             <span style=\"color: #00af00; text-decoration-color: #00af00\">0</span> │\n",
              "├─────────────────────────────────┼────────────────────────┼───────────────┤\n",
              "│ dense_15 (<span style=\"color: #0087ff; text-decoration-color: #0087ff\">Dense</span>)                │ ?                      │   <span style=\"color: #00af00; text-decoration-color: #00af00\">0</span> (unbuilt) │\n",
              "└─────────────────────────────────┴────────────────────────┴───────────────┘\n",
              "</pre>\n"
            ]
          },
          "metadata": {}
        },
        {
          "output_type": "display_data",
          "data": {
            "text/plain": [
              "\u001b[1m Total params: \u001b[0m\u001b[38;5;34m0\u001b[0m (0.00 B)\n"
            ],
            "text/html": [
              "<pre style=\"white-space:pre;overflow-x:auto;line-height:normal;font-family:Menlo,'DejaVu Sans Mono',consolas,'Courier New',monospace\"><span style=\"font-weight: bold\"> Total params: </span><span style=\"color: #00af00; text-decoration-color: #00af00\">0</span> (0.00 B)\n",
              "</pre>\n"
            ]
          },
          "metadata": {}
        },
        {
          "output_type": "display_data",
          "data": {
            "text/plain": [
              "\u001b[1m Trainable params: \u001b[0m\u001b[38;5;34m0\u001b[0m (0.00 B)\n"
            ],
            "text/html": [
              "<pre style=\"white-space:pre;overflow-x:auto;line-height:normal;font-family:Menlo,'DejaVu Sans Mono',consolas,'Courier New',monospace\"><span style=\"font-weight: bold\"> Trainable params: </span><span style=\"color: #00af00; text-decoration-color: #00af00\">0</span> (0.00 B)\n",
              "</pre>\n"
            ]
          },
          "metadata": {}
        },
        {
          "output_type": "display_data",
          "data": {
            "text/plain": [
              "\u001b[1m Non-trainable params: \u001b[0m\u001b[38;5;34m0\u001b[0m (0.00 B)\n"
            ],
            "text/html": [
              "<pre style=\"white-space:pre;overflow-x:auto;line-height:normal;font-family:Menlo,'DejaVu Sans Mono',consolas,'Courier New',monospace\"><span style=\"font-weight: bold\"> Non-trainable params: </span><span style=\"color: #00af00; text-decoration-color: #00af00\">0</span> (0.00 B)\n",
              "</pre>\n"
            ]
          },
          "metadata": {}
        },
        {
          "output_type": "stream",
          "name": "stdout",
          "text": [
            "Epoch 1/5\n",
            "\u001b[1m274/274\u001b[0m \u001b[32m━━━━━━━━━━━━━━━━━━━━\u001b[0m\u001b[37m\u001b[0m \u001b[1m16s\u001b[0m 42ms/step - accuracy: 0.2030 - loss: 1.7810 - val_accuracy: 0.2147 - val_loss: 1.7570\n",
            "Epoch 2/5\n",
            "\u001b[1m274/274\u001b[0m \u001b[32m━━━━━━━━━━━━━━━━━━━━\u001b[0m\u001b[37m\u001b[0m \u001b[1m21s\u001b[0m 43ms/step - accuracy: 0.1962 - loss: 1.7646 - val_accuracy: 0.2147 - val_loss: 1.7542\n",
            "Epoch 3/5\n",
            "\u001b[1m274/274\u001b[0m \u001b[32m━━━━━━━━━━━━━━━━━━━━\u001b[0m\u001b[37m\u001b[0m \u001b[1m20s\u001b[0m 42ms/step - accuracy: 0.2030 - loss: 1.7596 - val_accuracy: 0.2230 - val_loss: 1.7453\n",
            "Epoch 4/5\n",
            "\u001b[1m274/274\u001b[0m \u001b[32m━━━━━━━━━━━━━━━━━━━━\u001b[0m\u001b[37m\u001b[0m \u001b[1m20s\u001b[0m 42ms/step - accuracy: 0.2326 - loss: 1.7395 - val_accuracy: 0.2537 - val_loss: 1.7254\n",
            "Epoch 5/5\n",
            "\u001b[1m274/274\u001b[0m \u001b[32m━━━━━━━━━━━━━━━━━━━━\u001b[0m\u001b[37m\u001b[0m \u001b[1m11s\u001b[0m 42ms/step - accuracy: 0.2578 - loss: 1.6769 - val_accuracy: 0.2429 - val_loss: 1.7282\n",
            "\u001b[1m321/321\u001b[0m \u001b[32m━━━━━━━━━━━━━━━━━━━━\u001b[0m\u001b[37m\u001b[0m \u001b[1m6s\u001b[0m 17ms/step - accuracy: 0.3172 - loss: 1.6753\n",
            "\u001b[1m81/81\u001b[0m \u001b[32m━━━━━━━━━━━━━━━━━━━━\u001b[0m\u001b[37m\u001b[0m \u001b[1m1s\u001b[0m 18ms/step - accuracy: 0.2555 - loss: 1.7231\n",
            "\u001b[1m81/81\u001b[0m \u001b[32m━━━━━━━━━━━━━━━━━━━━\u001b[0m\u001b[37m\u001b[0m \u001b[1m2s\u001b[0m 17ms/step\n"
          ]
        },
        {
          "output_type": "stream",
          "name": "stderr",
          "text": [
            "/usr/local/lib/python3.11/dist-packages/sklearn/metrics/_classification.py:1565: UndefinedMetricWarning: Precision is ill-defined and being set to 0.0 in labels with no predicted samples. Use `zero_division` parameter to control this behavior.\n",
            "  _warn_prf(average, modifier, f\"{metric.capitalize()} is\", len(result))\n"
          ]
        }
      ],
      "source": [
        "BiGRU_model_multi = tf.keras.Sequential([\n",
        "    tf.keras.layers.Embedding(input_dim=max_vocab, output_dim=embed_size, input_length=max_len),\n",
        "    tf.keras.layers.Bidirectional(tf.keras.layers.GRU(64, return_sequences=True)),\n",
        "    tf.keras.layers.Bidirectional(tf.keras.layers.GRU(32)),\n",
        "    tf.keras.layers.Dense(64, activation='relu'),\n",
        "    tf.keras.layers.Dropout(0.5),\n",
        "    tf.keras.layers.Dense(6, activation='softmax')\n",
        "])\n",
        "\n",
        "BiGRU_model_multi.summary()\n",
        "BiGRU_model_multi.compile(\n",
        "    loss='sparse_categorical_crossentropy',\n",
        "    optimizer=tf.keras.optimizers.Adam(1e-4),\n",
        "    metrics=['accuracy']\n",
        ")\n",
        "\n",
        "early_stop_bigru_multi = tf.keras.callbacks.EarlyStopping(\n",
        "    monitor=\"val_loss\", patience=2, restore_best_weights=True\n",
        ")\n",
        "\n",
        "history_bigru_multi = BiGRU_model_multi.fit(\n",
        "    x_train_multi, y_train_multi,\n",
        "    epochs=5,\n",
        "    validation_split=0.2,\n",
        "    batch_size=30,\n",
        "    shuffle=True,\n",
        "    callbacks=[early_stop_bigru_multi]\n",
        ")\n",
        "loss_train_bigru_multi, acc_train_bigru_multi = BiGRU_model_multi.evaluate(x_train_multi, y_train_multi)\n",
        "loss_test_bigru_multi, acc_test_bigru_multi = BiGRU_model_multi.evaluate(x_test_multi, y_test_multi)\n",
        "store_dl_model_results(\n",
        "    name=\"BiGRU_multi\",\n",
        "    model=BiGRU_model_multi,\n",
        "    history=history_bigru_multi,\n",
        "    loss_train=loss_train_bigru_multi,\n",
        "    acc_train=acc_train_bigru_multi,\n",
        "    loss_test=loss_test_bigru_multi,\n",
        "    acc_test=acc_test_bigru_multi,\n",
        "    x_test=x_test_multi,\n",
        "    y_test=y_test_multi,\n",
        "    task='multiclass'\n",
        ")\n"
      ]
    },
    {
      "cell_type": "markdown",
      "metadata": {
        "id": "TdTyp1t0N1iQ"
      },
      "source": [
        "**CNN**"
      ]
    },
    {
      "cell_type": "markdown",
      "source": [
        "Binary"
      ],
      "metadata": {
        "id": "R61D1qzlDtAB"
      }
    },
    {
      "cell_type": "code",
      "execution_count": 35,
      "metadata": {
        "id": "V0M0kdUWN3uT",
        "colab": {
          "base_uri": "https://localhost:8080/",
          "height": 652
        },
        "outputId": "d468aef6-4338-414a-fe63-6e8f5a45f00b"
      },
      "outputs": [
        {
          "output_type": "stream",
          "name": "stderr",
          "text": [
            "/usr/local/lib/python3.11/dist-packages/keras/src/layers/core/embedding.py:90: UserWarning: Argument `input_length` is deprecated. Just remove it.\n",
            "  warnings.warn(\n"
          ]
        },
        {
          "output_type": "display_data",
          "data": {
            "text/plain": [
              "\u001b[1mModel: \"sequential_8\"\u001b[0m\n"
            ],
            "text/html": [
              "<pre style=\"white-space:pre;overflow-x:auto;line-height:normal;font-family:Menlo,'DejaVu Sans Mono',consolas,'Courier New',monospace\"><span style=\"font-weight: bold\">Model: \"sequential_8\"</span>\n",
              "</pre>\n"
            ]
          },
          "metadata": {}
        },
        {
          "output_type": "display_data",
          "data": {
            "text/plain": [
              "┏━━━━━━━━━━━━━━━━━━━━━━━━━━━━━━━━━┳━━━━━━━━━━━━━━━━━━━━━━━━┳━━━━━━━━━━━━━━━┓\n",
              "┃\u001b[1m \u001b[0m\u001b[1mLayer (type)                   \u001b[0m\u001b[1m \u001b[0m┃\u001b[1m \u001b[0m\u001b[1mOutput Shape          \u001b[0m\u001b[1m \u001b[0m┃\u001b[1m \u001b[0m\u001b[1m      Param #\u001b[0m\u001b[1m \u001b[0m┃\n",
              "┡━━━━━━━━━━━━━━━━━━━━━━━━━━━━━━━━━╇━━━━━━━━━━━━━━━━━━━━━━━━╇━━━━━━━━━━━━━━━┩\n",
              "│ embedding_8 (\u001b[38;5;33mEmbedding\u001b[0m)         │ ?                      │   \u001b[38;5;34m0\u001b[0m (unbuilt) │\n",
              "├─────────────────────────────────┼────────────────────────┼───────────────┤\n",
              "│ conv1d (\u001b[38;5;33mConv1D\u001b[0m)                 │ ?                      │   \u001b[38;5;34m0\u001b[0m (unbuilt) │\n",
              "├─────────────────────────────────┼────────────────────────┼───────────────┤\n",
              "│ global_max_pooling1d            │ ?                      │             \u001b[38;5;34m0\u001b[0m │\n",
              "│ (\u001b[38;5;33mGlobalMaxPooling1D\u001b[0m)            │                        │               │\n",
              "├─────────────────────────────────┼────────────────────────┼───────────────┤\n",
              "│ dense_16 (\u001b[38;5;33mDense\u001b[0m)                │ ?                      │   \u001b[38;5;34m0\u001b[0m (unbuilt) │\n",
              "├─────────────────────────────────┼────────────────────────┼───────────────┤\n",
              "│ dropout_8 (\u001b[38;5;33mDropout\u001b[0m)             │ ?                      │             \u001b[38;5;34m0\u001b[0m │\n",
              "├─────────────────────────────────┼────────────────────────┼───────────────┤\n",
              "│ dense_17 (\u001b[38;5;33mDense\u001b[0m)                │ ?                      │   \u001b[38;5;34m0\u001b[0m (unbuilt) │\n",
              "└─────────────────────────────────┴────────────────────────┴───────────────┘\n"
            ],
            "text/html": [
              "<pre style=\"white-space:pre;overflow-x:auto;line-height:normal;font-family:Menlo,'DejaVu Sans Mono',consolas,'Courier New',monospace\">┏━━━━━━━━━━━━━━━━━━━━━━━━━━━━━━━━━┳━━━━━━━━━━━━━━━━━━━━━━━━┳━━━━━━━━━━━━━━━┓\n",
              "┃<span style=\"font-weight: bold\"> Layer (type)                    </span>┃<span style=\"font-weight: bold\"> Output Shape           </span>┃<span style=\"font-weight: bold\">       Param # </span>┃\n",
              "┡━━━━━━━━━━━━━━━━━━━━━━━━━━━━━━━━━╇━━━━━━━━━━━━━━━━━━━━━━━━╇━━━━━━━━━━━━━━━┩\n",
              "│ embedding_8 (<span style=\"color: #0087ff; text-decoration-color: #0087ff\">Embedding</span>)         │ ?                      │   <span style=\"color: #00af00; text-decoration-color: #00af00\">0</span> (unbuilt) │\n",
              "├─────────────────────────────────┼────────────────────────┼───────────────┤\n",
              "│ conv1d (<span style=\"color: #0087ff; text-decoration-color: #0087ff\">Conv1D</span>)                 │ ?                      │   <span style=\"color: #00af00; text-decoration-color: #00af00\">0</span> (unbuilt) │\n",
              "├─────────────────────────────────┼────────────────────────┼───────────────┤\n",
              "│ global_max_pooling1d            │ ?                      │             <span style=\"color: #00af00; text-decoration-color: #00af00\">0</span> │\n",
              "│ (<span style=\"color: #0087ff; text-decoration-color: #0087ff\">GlobalMaxPooling1D</span>)            │                        │               │\n",
              "├─────────────────────────────────┼────────────────────────┼───────────────┤\n",
              "│ dense_16 (<span style=\"color: #0087ff; text-decoration-color: #0087ff\">Dense</span>)                │ ?                      │   <span style=\"color: #00af00; text-decoration-color: #00af00\">0</span> (unbuilt) │\n",
              "├─────────────────────────────────┼────────────────────────┼───────────────┤\n",
              "│ dropout_8 (<span style=\"color: #0087ff; text-decoration-color: #0087ff\">Dropout</span>)             │ ?                      │             <span style=\"color: #00af00; text-decoration-color: #00af00\">0</span> │\n",
              "├─────────────────────────────────┼────────────────────────┼───────────────┤\n",
              "│ dense_17 (<span style=\"color: #0087ff; text-decoration-color: #0087ff\">Dense</span>)                │ ?                      │   <span style=\"color: #00af00; text-decoration-color: #00af00\">0</span> (unbuilt) │\n",
              "└─────────────────────────────────┴────────────────────────┴───────────────┘\n",
              "</pre>\n"
            ]
          },
          "metadata": {}
        },
        {
          "output_type": "display_data",
          "data": {
            "text/plain": [
              "\u001b[1m Total params: \u001b[0m\u001b[38;5;34m0\u001b[0m (0.00 B)\n"
            ],
            "text/html": [
              "<pre style=\"white-space:pre;overflow-x:auto;line-height:normal;font-family:Menlo,'DejaVu Sans Mono',consolas,'Courier New',monospace\"><span style=\"font-weight: bold\"> Total params: </span><span style=\"color: #00af00; text-decoration-color: #00af00\">0</span> (0.00 B)\n",
              "</pre>\n"
            ]
          },
          "metadata": {}
        },
        {
          "output_type": "display_data",
          "data": {
            "text/plain": [
              "\u001b[1m Trainable params: \u001b[0m\u001b[38;5;34m0\u001b[0m (0.00 B)\n"
            ],
            "text/html": [
              "<pre style=\"white-space:pre;overflow-x:auto;line-height:normal;font-family:Menlo,'DejaVu Sans Mono',consolas,'Courier New',monospace\"><span style=\"font-weight: bold\"> Trainable params: </span><span style=\"color: #00af00; text-decoration-color: #00af00\">0</span> (0.00 B)\n",
              "</pre>\n"
            ]
          },
          "metadata": {}
        },
        {
          "output_type": "display_data",
          "data": {
            "text/plain": [
              "\u001b[1m Non-trainable params: \u001b[0m\u001b[38;5;34m0\u001b[0m (0.00 B)\n"
            ],
            "text/html": [
              "<pre style=\"white-space:pre;overflow-x:auto;line-height:normal;font-family:Menlo,'DejaVu Sans Mono',consolas,'Courier New',monospace\"><span style=\"font-weight: bold\"> Non-trainable params: </span><span style=\"color: #00af00; text-decoration-color: #00af00\">0</span> (0.00 B)\n",
              "</pre>\n"
            ]
          },
          "metadata": {}
        },
        {
          "output_type": "stream",
          "name": "stdout",
          "text": [
            "Epoch 1/5\n"
          ]
        },
        {
          "output_type": "stream",
          "name": "stderr",
          "text": [
            "/usr/local/lib/python3.11/dist-packages/keras/src/backend/tensorflow/nn.py:780: UserWarning: \"`binary_crossentropy` received `from_logits=True`, but the `output` argument was produced by a Sigmoid activation and thus does not represent logits. Was this intended?\n",
            "  output, from_logits = _get_logits(\n"
          ]
        },
        {
          "output_type": "stream",
          "name": "stdout",
          "text": [
            "\u001b[1m274/274\u001b[0m \u001b[32m━━━━━━━━━━━━━━━━━━━━\u001b[0m\u001b[37m\u001b[0m \u001b[1m9s\u001b[0m 15ms/step - accuracy: 0.5110 - loss: 0.6922 - val_accuracy: 0.5648 - val_loss: 0.6840\n",
            "Epoch 2/5\n",
            "\u001b[1m274/274\u001b[0m \u001b[32m━━━━━━━━━━━━━━━━━━━━\u001b[0m\u001b[37m\u001b[0m \u001b[1m1s\u001b[0m 5ms/step - accuracy: 0.5507 - loss: 0.6841 - val_accuracy: 0.5648 - val_loss: 0.6814\n",
            "Epoch 3/5\n",
            "\u001b[1m274/274\u001b[0m \u001b[32m━━━━━━━━━━━━━━━━━━━━\u001b[0m\u001b[37m\u001b[0m \u001b[1m2s\u001b[0m 5ms/step - accuracy: 0.5613 - loss: 0.6740 - val_accuracy: 0.5716 - val_loss: 0.6770\n",
            "Epoch 4/5\n",
            "\u001b[1m274/274\u001b[0m \u001b[32m━━━━━━━━━━━━━━━━━━━━\u001b[0m\u001b[37m\u001b[0m \u001b[1m1s\u001b[0m 5ms/step - accuracy: 0.6234 - loss: 0.6528 - val_accuracy: 0.6018 - val_loss: 0.6653\n",
            "Epoch 5/5\n",
            "\u001b[1m274/274\u001b[0m \u001b[32m━━━━━━━━━━━━━━━━━━━━\u001b[0m\u001b[37m\u001b[0m \u001b[1m3s\u001b[0m 6ms/step - accuracy: 0.7230 - loss: 0.6161 - val_accuracy: 0.6178 - val_loss: 0.6517\n",
            "\u001b[1m321/321\u001b[0m \u001b[32m━━━━━━━━━━━━━━━━━━━━\u001b[0m\u001b[37m\u001b[0m \u001b[1m1s\u001b[0m 3ms/step - accuracy: 0.7840 - loss: 0.5524\n",
            "\u001b[1m81/81\u001b[0m \u001b[32m━━━━━━━━━━━━━━━━━━━━\u001b[0m\u001b[37m\u001b[0m \u001b[1m1s\u001b[0m 7ms/step - accuracy: 0.6269 - loss: 0.6504\n",
            "\u001b[1m81/81\u001b[0m \u001b[32m━━━━━━━━━━━━━━━━━━━━\u001b[0m\u001b[37m\u001b[0m \u001b[1m1s\u001b[0m 5ms/step\n"
          ]
        }
      ],
      "source": [
        "CNN_model_bin = tf.keras.Sequential([\n",
        "    tf.keras.layers.Embedding(input_dim=max_vocab, output_dim=embed_size, input_length=max_len),\n",
        "    tf.keras.layers.Conv1D(filters=128, kernel_size=5, activation='relu'),\n",
        "    tf.keras.layers.GlobalMaxPooling1D(),\n",
        "    tf.keras.layers.Dense(64, activation='relu'),\n",
        "    tf.keras.layers.Dropout(0.5),\n",
        "    tf.keras.layers.Dense(1, activation='sigmoid')\n",
        "])\n",
        "\n",
        "CNN_model_bin.summary()\n",
        "CNN_model_bin.compile(\n",
        "    loss=tf.keras.losses.BinaryCrossentropy(from_logits=True),\n",
        "    optimizer=tf.keras.optimizers.Adam(1e-4),\n",
        "    metrics=['accuracy']\n",
        ")\n",
        "early_stop_cnn = tf.keras.callbacks.EarlyStopping(\n",
        "    monitor=\"val_loss\", patience=2, restore_best_weights=True\n",
        ")\n",
        "history_cnn_bin = CNN_model_bin.fit(\n",
        "    x_train_bin, y_train_bin,\n",
        "    epochs=5,\n",
        "    validation_split=0.2,\n",
        "    batch_size=30,\n",
        "    shuffle=True,\n",
        "    callbacks=[early_stop_cnn]\n",
        ")\n",
        "loss_train_cnn, acc_train_cnn = CNN_model_bin.evaluate(x_train_bin, y_train_bin)\n",
        "loss_test_cnn, acc_test_cnn = CNN_model_bin.evaluate(x_test_bin, y_test_bin)\n",
        "store_dl_model_results(\n",
        "    name=\"CNN_bin\",\n",
        "    model=CNN_model_bin,\n",
        "    history=history_cnn_bin,\n",
        "    loss_train=loss_train_cnn,\n",
        "    acc_train=acc_train_cnn,\n",
        "    loss_test=loss_test_cnn,\n",
        "    acc_test=acc_test_cnn,\n",
        "    x_test=x_test_bin,\n",
        "    y_test=y_test_bin,\n",
        "    task='binary'\n",
        ")\n"
      ]
    },
    {
      "cell_type": "markdown",
      "source": [
        "Multiclass"
      ],
      "metadata": {
        "id": "oVluHjyPDuuK"
      }
    },
    {
      "cell_type": "code",
      "execution_count": 36,
      "metadata": {
        "id": "IjfUHC1WN6B8",
        "colab": {
          "base_uri": "https://localhost:8080/",
          "height": 652
        },
        "outputId": "bdebb3a6-e37f-428e-dbe4-49204be7a17d"
      },
      "outputs": [
        {
          "output_type": "stream",
          "name": "stderr",
          "text": [
            "/usr/local/lib/python3.11/dist-packages/keras/src/layers/core/embedding.py:90: UserWarning: Argument `input_length` is deprecated. Just remove it.\n",
            "  warnings.warn(\n"
          ]
        },
        {
          "output_type": "display_data",
          "data": {
            "text/plain": [
              "\u001b[1mModel: \"sequential_9\"\u001b[0m\n"
            ],
            "text/html": [
              "<pre style=\"white-space:pre;overflow-x:auto;line-height:normal;font-family:Menlo,'DejaVu Sans Mono',consolas,'Courier New',monospace\"><span style=\"font-weight: bold\">Model: \"sequential_9\"</span>\n",
              "</pre>\n"
            ]
          },
          "metadata": {}
        },
        {
          "output_type": "display_data",
          "data": {
            "text/plain": [
              "┏━━━━━━━━━━━━━━━━━━━━━━━━━━━━━━━━━┳━━━━━━━━━━━━━━━━━━━━━━━━┳━━━━━━━━━━━━━━━┓\n",
              "┃\u001b[1m \u001b[0m\u001b[1mLayer (type)                   \u001b[0m\u001b[1m \u001b[0m┃\u001b[1m \u001b[0m\u001b[1mOutput Shape          \u001b[0m\u001b[1m \u001b[0m┃\u001b[1m \u001b[0m\u001b[1m      Param #\u001b[0m\u001b[1m \u001b[0m┃\n",
              "┡━━━━━━━━━━━━━━━━━━━━━━━━━━━━━━━━━╇━━━━━━━━━━━━━━━━━━━━━━━━╇━━━━━━━━━━━━━━━┩\n",
              "│ embedding_9 (\u001b[38;5;33mEmbedding\u001b[0m)         │ ?                      │   \u001b[38;5;34m0\u001b[0m (unbuilt) │\n",
              "├─────────────────────────────────┼────────────────────────┼───────────────┤\n",
              "│ conv1d_1 (\u001b[38;5;33mConv1D\u001b[0m)               │ ?                      │   \u001b[38;5;34m0\u001b[0m (unbuilt) │\n",
              "├─────────────────────────────────┼────────────────────────┼───────────────┤\n",
              "│ global_max_pooling1d_1          │ ?                      │             \u001b[38;5;34m0\u001b[0m │\n",
              "│ (\u001b[38;5;33mGlobalMaxPooling1D\u001b[0m)            │                        │               │\n",
              "├─────────────────────────────────┼────────────────────────┼───────────────┤\n",
              "│ dense_18 (\u001b[38;5;33mDense\u001b[0m)                │ ?                      │   \u001b[38;5;34m0\u001b[0m (unbuilt) │\n",
              "├─────────────────────────────────┼────────────────────────┼───────────────┤\n",
              "│ dropout_9 (\u001b[38;5;33mDropout\u001b[0m)             │ ?                      │             \u001b[38;5;34m0\u001b[0m │\n",
              "├─────────────────────────────────┼────────────────────────┼───────────────┤\n",
              "│ dense_19 (\u001b[38;5;33mDense\u001b[0m)                │ ?                      │   \u001b[38;5;34m0\u001b[0m (unbuilt) │\n",
              "└─────────────────────────────────┴────────────────────────┴───────────────┘\n"
            ],
            "text/html": [
              "<pre style=\"white-space:pre;overflow-x:auto;line-height:normal;font-family:Menlo,'DejaVu Sans Mono',consolas,'Courier New',monospace\">┏━━━━━━━━━━━━━━━━━━━━━━━━━━━━━━━━━┳━━━━━━━━━━━━━━━━━━━━━━━━┳━━━━━━━━━━━━━━━┓\n",
              "┃<span style=\"font-weight: bold\"> Layer (type)                    </span>┃<span style=\"font-weight: bold\"> Output Shape           </span>┃<span style=\"font-weight: bold\">       Param # </span>┃\n",
              "┡━━━━━━━━━━━━━━━━━━━━━━━━━━━━━━━━━╇━━━━━━━━━━━━━━━━━━━━━━━━╇━━━━━━━━━━━━━━━┩\n",
              "│ embedding_9 (<span style=\"color: #0087ff; text-decoration-color: #0087ff\">Embedding</span>)         │ ?                      │   <span style=\"color: #00af00; text-decoration-color: #00af00\">0</span> (unbuilt) │\n",
              "├─────────────────────────────────┼────────────────────────┼───────────────┤\n",
              "│ conv1d_1 (<span style=\"color: #0087ff; text-decoration-color: #0087ff\">Conv1D</span>)               │ ?                      │   <span style=\"color: #00af00; text-decoration-color: #00af00\">0</span> (unbuilt) │\n",
              "├─────────────────────────────────┼────────────────────────┼───────────────┤\n",
              "│ global_max_pooling1d_1          │ ?                      │             <span style=\"color: #00af00; text-decoration-color: #00af00\">0</span> │\n",
              "│ (<span style=\"color: #0087ff; text-decoration-color: #0087ff\">GlobalMaxPooling1D</span>)            │                        │               │\n",
              "├─────────────────────────────────┼────────────────────────┼───────────────┤\n",
              "│ dense_18 (<span style=\"color: #0087ff; text-decoration-color: #0087ff\">Dense</span>)                │ ?                      │   <span style=\"color: #00af00; text-decoration-color: #00af00\">0</span> (unbuilt) │\n",
              "├─────────────────────────────────┼────────────────────────┼───────────────┤\n",
              "│ dropout_9 (<span style=\"color: #0087ff; text-decoration-color: #0087ff\">Dropout</span>)             │ ?                      │             <span style=\"color: #00af00; text-decoration-color: #00af00\">0</span> │\n",
              "├─────────────────────────────────┼────────────────────────┼───────────────┤\n",
              "│ dense_19 (<span style=\"color: #0087ff; text-decoration-color: #0087ff\">Dense</span>)                │ ?                      │   <span style=\"color: #00af00; text-decoration-color: #00af00\">0</span> (unbuilt) │\n",
              "└─────────────────────────────────┴────────────────────────┴───────────────┘\n",
              "</pre>\n"
            ]
          },
          "metadata": {}
        },
        {
          "output_type": "display_data",
          "data": {
            "text/plain": [
              "\u001b[1m Total params: \u001b[0m\u001b[38;5;34m0\u001b[0m (0.00 B)\n"
            ],
            "text/html": [
              "<pre style=\"white-space:pre;overflow-x:auto;line-height:normal;font-family:Menlo,'DejaVu Sans Mono',consolas,'Courier New',monospace\"><span style=\"font-weight: bold\"> Total params: </span><span style=\"color: #00af00; text-decoration-color: #00af00\">0</span> (0.00 B)\n",
              "</pre>\n"
            ]
          },
          "metadata": {}
        },
        {
          "output_type": "display_data",
          "data": {
            "text/plain": [
              "\u001b[1m Trainable params: \u001b[0m\u001b[38;5;34m0\u001b[0m (0.00 B)\n"
            ],
            "text/html": [
              "<pre style=\"white-space:pre;overflow-x:auto;line-height:normal;font-family:Menlo,'DejaVu Sans Mono',consolas,'Courier New',monospace\"><span style=\"font-weight: bold\"> Trainable params: </span><span style=\"color: #00af00; text-decoration-color: #00af00\">0</span> (0.00 B)\n",
              "</pre>\n"
            ]
          },
          "metadata": {}
        },
        {
          "output_type": "display_data",
          "data": {
            "text/plain": [
              "\u001b[1m Non-trainable params: \u001b[0m\u001b[38;5;34m0\u001b[0m (0.00 B)\n"
            ],
            "text/html": [
              "<pre style=\"white-space:pre;overflow-x:auto;line-height:normal;font-family:Menlo,'DejaVu Sans Mono',consolas,'Courier New',monospace\"><span style=\"font-weight: bold\"> Non-trainable params: </span><span style=\"color: #00af00; text-decoration-color: #00af00\">0</span> (0.00 B)\n",
              "</pre>\n"
            ]
          },
          "metadata": {}
        },
        {
          "output_type": "stream",
          "name": "stdout",
          "text": [
            "Epoch 1/5\n",
            "\u001b[1m274/274\u001b[0m \u001b[32m━━━━━━━━━━━━━━━━━━━━\u001b[0m\u001b[37m\u001b[0m \u001b[1m9s\u001b[0m 20ms/step - accuracy: 0.1832 - loss: 1.7837 - val_accuracy: 0.2132 - val_loss: 1.7579\n",
            "Epoch 2/5\n",
            "\u001b[1m274/274\u001b[0m \u001b[32m━━━━━━━━━━━━━━━━━━━━\u001b[0m\u001b[37m\u001b[0m \u001b[1m5s\u001b[0m 5ms/step - accuracy: 0.2051 - loss: 1.7624 - val_accuracy: 0.2196 - val_loss: 1.7514\n",
            "Epoch 3/5\n",
            "\u001b[1m274/274\u001b[0m \u001b[32m━━━━━━━━━━━━━━━━━━━━\u001b[0m\u001b[37m\u001b[0m \u001b[1m2s\u001b[0m 5ms/step - accuracy: 0.2279 - loss: 1.7479 - val_accuracy: 0.2201 - val_loss: 1.7514\n",
            "Epoch 4/5\n",
            "\u001b[1m274/274\u001b[0m \u001b[32m━━━━━━━━━━━━━━━━━━━━\u001b[0m\u001b[37m\u001b[0m \u001b[1m3s\u001b[0m 5ms/step - accuracy: 0.2507 - loss: 1.7357 - val_accuracy: 0.2317 - val_loss: 1.7483\n",
            "Epoch 5/5\n",
            "\u001b[1m274/274\u001b[0m \u001b[32m━━━━━━━━━━━━━━━━━━━━\u001b[0m\u001b[37m\u001b[0m \u001b[1m3s\u001b[0m 6ms/step - accuracy: 0.2829 - loss: 1.7215 - val_accuracy: 0.2361 - val_loss: 1.7449\n",
            "\u001b[1m321/321\u001b[0m \u001b[32m━━━━━━━━━━━━━━━━━━━━\u001b[0m\u001b[37m\u001b[0m \u001b[1m2s\u001b[0m 4ms/step - accuracy: 0.4052 - loss: 1.6955\n",
            "\u001b[1m81/81\u001b[0m \u001b[32m━━━━━━━━━━━━━━━━━━━━\u001b[0m\u001b[37m\u001b[0m \u001b[1m1s\u001b[0m 7ms/step - accuracy: 0.2400 - loss: 1.7448\n",
            "\u001b[1m81/81\u001b[0m \u001b[32m━━━━━━━━━━━━━━━━━━━━\u001b[0m\u001b[37m\u001b[0m \u001b[1m1s\u001b[0m 5ms/step\n"
          ]
        },
        {
          "output_type": "stream",
          "name": "stderr",
          "text": [
            "/usr/local/lib/python3.11/dist-packages/sklearn/metrics/_classification.py:1565: UndefinedMetricWarning: Precision is ill-defined and being set to 0.0 in labels with no predicted samples. Use `zero_division` parameter to control this behavior.\n",
            "  _warn_prf(average, modifier, f\"{metric.capitalize()} is\", len(result))\n"
          ]
        }
      ],
      "source": [
        "\n",
        "CNN_model_multi = tf.keras.Sequential([\n",
        "    tf.keras.layers.Embedding(input_dim=max_vocab, output_dim=embed_size, input_length=max_len),\n",
        "    tf.keras.layers.Conv1D(filters=128, kernel_size=5, activation='relu'),\n",
        "    tf.keras.layers.GlobalMaxPooling1D(),\n",
        "    tf.keras.layers.Dense(64, activation='relu'),\n",
        "    tf.keras.layers.Dropout(0.5),\n",
        "    tf.keras.layers.Dense(6, activation='softmax')\n",
        "])\n",
        "\n",
        "CNN_model_multi.summary()\n",
        "CNN_model_multi.compile(loss='sparse_categorical_crossentropy',optimizer=tf.keras.optimizers.Adam(1e-4),metrics=['accuracy'])\n",
        "early_stop_cnn_multi = tf.keras.callbacks.EarlyStopping(monitor=\"val_loss\", patience=2, restore_best_weights=True)\n",
        "\n",
        "history_cnn_multi = CNN_model_multi.fit(x_train_multi, y_train_multi, epochs=5,validation_split=0.2,\n",
        "    batch_size=30,shuffle=True,callbacks=[early_stop_cnn_multi])\n",
        "\n",
        "loss_train_cnn_multi, acc_train_cnn_multi = CNN_model_multi.evaluate(x_train_multi, y_train_multi)\n",
        "loss_test_cnn_multi, acc_test_cnn_multi = CNN_model_multi.evaluate(x_test_multi, y_test_multi)\n",
        "\n",
        "store_dl_model_results(name=\"CNN_multi\",model=CNN_model_multi,history=history_cnn_multi,loss_train=loss_train_cnn_multi,acc_train=acc_train_cnn_multi,\n",
        "                       loss_test=loss_test_cnn_multi,acc_test=acc_test_cnn_multi,x_test=x_test_multi,y_test=y_test_multi,task='multiclass')\n"
      ]
    },
    {
      "cell_type": "code",
      "execution_count": 37,
      "metadata": {
        "id": "vENpj8u6tUKQ",
        "colab": {
          "base_uri": "https://localhost:8080/",
          "height": 482
        },
        "outputId": "617801bf-646d-41a2-b3b5-056d4d349c7f"
      },
      "outputs": [
        {
          "output_type": "stream",
          "name": "stdout",
          "text": [
            "Binary Classification Models:\n"
          ]
        },
        {
          "output_type": "display_data",
          "data": {
            "text/plain": [
              "<pandas.io.formats.style.Styler at 0x7b7eea5bb010>"
            ],
            "text/html": [
              "<style type=\"text/css\">\n",
              "</style>\n",
              "<table id=\"T_d7db1\" class=\"dataframe\">\n",
              "  <caption>Binary Classification Results</caption>\n",
              "  <thead>\n",
              "    <tr>\n",
              "      <th class=\"blank level0\" >&nbsp;</th>\n",
              "      <th id=\"T_d7db1_level0_col0\" class=\"col_heading level0 col0\" >Train Loss</th>\n",
              "      <th id=\"T_d7db1_level0_col1\" class=\"col_heading level0 col1\" >Train Accuracy</th>\n",
              "      <th id=\"T_d7db1_level0_col2\" class=\"col_heading level0 col2\" >Test Loss</th>\n",
              "      <th id=\"T_d7db1_level0_col3\" class=\"col_heading level0 col3\" >Test Accuracy</th>\n",
              "      <th id=\"T_d7db1_level0_col4\" class=\"col_heading level0 col4\" >Precision</th>\n",
              "      <th id=\"T_d7db1_level0_col5\" class=\"col_heading level0 col5\" >Recall</th>\n",
              "      <th id=\"T_d7db1_level0_col6\" class=\"col_heading level0 col6\" >F1-Score</th>\n",
              "    </tr>\n",
              "  </thead>\n",
              "  <tbody>\n",
              "    <tr>\n",
              "      <th id=\"T_d7db1_level0_row0\" class=\"row_heading level0 row0\" >Uni-LSTM_bin</th>\n",
              "      <td id=\"T_d7db1_row0_col0\" class=\"data row0 col0\" >0.686300</td>\n",
              "      <td id=\"T_d7db1_row0_col1\" class=\"data row0 col1\" >0.558300</td>\n",
              "      <td id=\"T_d7db1_row0_col2\" class=\"data row0 col2\" >0.686300</td>\n",
              "      <td id=\"T_d7db1_row0_col3\" class=\"data row0 col3\" >0.558400</td>\n",
              "      <td id=\"T_d7db1_row0_col4\" class=\"data row0 col4\" >0.558411</td>\n",
              "      <td id=\"T_d7db1_row0_col5\" class=\"data row0 col5\" >1.000000</td>\n",
              "      <td id=\"T_d7db1_row0_col6\" class=\"data row0 col6\" >0.716642</td>\n",
              "    </tr>\n",
              "    <tr>\n",
              "      <th id=\"T_d7db1_level0_row1\" class=\"row_heading level0 row1\" >Bi-LSTM_bin</th>\n",
              "      <td id=\"T_d7db1_row1_col0\" class=\"data row1 col0\" >0.604900</td>\n",
              "      <td id=\"T_d7db1_row1_col1\" class=\"data row1 col1\" >0.680200</td>\n",
              "      <td id=\"T_d7db1_row1_col2\" class=\"data row1 col2\" >0.662000</td>\n",
              "      <td id=\"T_d7db1_row1_col3\" class=\"data row1 col3\" >0.592700</td>\n",
              "      <td id=\"T_d7db1_row1_col4\" class=\"data row1 col4\" >0.654459</td>\n",
              "      <td id=\"T_d7db1_row1_col5\" class=\"data row1 col5\" >0.573222</td>\n",
              "      <td id=\"T_d7db1_row1_col6\" class=\"data row1 col6\" >0.611152</td>\n",
              "    </tr>\n",
              "    <tr>\n",
              "      <th id=\"T_d7db1_level0_row2\" class=\"row_heading level0 row2\" >Uni-GRU_bin</th>\n",
              "      <td id=\"T_d7db1_row2_col0\" class=\"data row2 col0\" >0.686400</td>\n",
              "      <td id=\"T_d7db1_row2_col1\" class=\"data row2 col1\" >0.558300</td>\n",
              "      <td id=\"T_d7db1_row2_col2\" class=\"data row2 col2\" >0.686400</td>\n",
              "      <td id=\"T_d7db1_row2_col3\" class=\"data row2 col3\" >0.558400</td>\n",
              "      <td id=\"T_d7db1_row2_col4\" class=\"data row2 col4\" >0.558411</td>\n",
              "      <td id=\"T_d7db1_row2_col5\" class=\"data row2 col5\" >1.000000</td>\n",
              "      <td id=\"T_d7db1_row2_col6\" class=\"data row2 col6\" >0.716642</td>\n",
              "    </tr>\n",
              "    <tr>\n",
              "      <th id=\"T_d7db1_level0_row3\" class=\"row_heading level0 row3\" >BiGRU_bin</th>\n",
              "      <td id=\"T_d7db1_row3_col0\" class=\"data row3 col0\" >0.591300</td>\n",
              "      <td id=\"T_d7db1_row3_col1\" class=\"data row3 col1\" >0.703100</td>\n",
              "      <td id=\"T_d7db1_row3_col2\" class=\"data row3 col2\" >0.659000</td>\n",
              "      <td id=\"T_d7db1_row3_col3\" class=\"data row3 col3\" >0.603600</td>\n",
              "      <td id=\"T_d7db1_row3_col4\" class=\"data row3 col4\" >0.618451</td>\n",
              "      <td id=\"T_d7db1_row3_col5\" class=\"data row3 col5\" >0.757322</td>\n",
              "      <td id=\"T_d7db1_row3_col6\" class=\"data row3 col6\" >0.680878</td>\n",
              "    </tr>\n",
              "    <tr>\n",
              "      <th id=\"T_d7db1_level0_row4\" class=\"row_heading level0 row4\" >CNN_bin</th>\n",
              "      <td id=\"T_d7db1_row4_col0\" class=\"data row4 col0\" >0.571600</td>\n",
              "      <td id=\"T_d7db1_row4_col1\" class=\"data row4 col1\" >0.753000</td>\n",
              "      <td id=\"T_d7db1_row4_col2\" class=\"data row4 col2\" >0.657800</td>\n",
              "      <td id=\"T_d7db1_row4_col3\" class=\"data row4 col3\" >0.611400</td>\n",
              "      <td id=\"T_d7db1_row4_col4\" class=\"data row4 col4\" >0.612720</td>\n",
              "      <td id=\"T_d7db1_row4_col5\" class=\"data row4 col5\" >0.826360</td>\n",
              "      <td id=\"T_d7db1_row4_col6\" class=\"data row4 col6\" >0.703682</td>\n",
              "    </tr>\n",
              "  </tbody>\n",
              "</table>\n"
            ]
          },
          "metadata": {}
        },
        {
          "output_type": "stream",
          "name": "stdout",
          "text": [
            "\n",
            "Multi-Class Classification Models:\n"
          ]
        },
        {
          "output_type": "display_data",
          "data": {
            "text/plain": [
              "<pandas.io.formats.style.Styler at 0x7b7eec4ece90>"
            ],
            "text/html": [
              "<style type=\"text/css\">\n",
              "</style>\n",
              "<table id=\"T_b6aec\" class=\"dataframe\">\n",
              "  <caption>Multi-Class Classification Results</caption>\n",
              "  <thead>\n",
              "    <tr>\n",
              "      <th class=\"blank level0\" >&nbsp;</th>\n",
              "      <th id=\"T_b6aec_level0_col0\" class=\"col_heading level0 col0\" >Train Loss</th>\n",
              "      <th id=\"T_b6aec_level0_col1\" class=\"col_heading level0 col1\" >Train Accuracy</th>\n",
              "      <th id=\"T_b6aec_level0_col2\" class=\"col_heading level0 col2\" >Test Loss</th>\n",
              "      <th id=\"T_b6aec_level0_col3\" class=\"col_heading level0 col3\" >Test Accuracy</th>\n",
              "      <th id=\"T_b6aec_level0_col4\" class=\"col_heading level0 col4\" >Precision</th>\n",
              "      <th id=\"T_b6aec_level0_col5\" class=\"col_heading level0 col5\" >Recall</th>\n",
              "      <th id=\"T_b6aec_level0_col6\" class=\"col_heading level0 col6\" >F1-Score</th>\n",
              "    </tr>\n",
              "  </thead>\n",
              "  <tbody>\n",
              "    <tr>\n",
              "      <th id=\"T_b6aec_level0_row0\" class=\"row_heading level0 row0\" >Uni-LSTM_multi</th>\n",
              "      <td id=\"T_b6aec_row0_col0\" class=\"data row0 col0\" >1.757100</td>\n",
              "      <td id=\"T_b6aec_row0_col1\" class=\"data row0 col1\" >0.205500</td>\n",
              "      <td id=\"T_b6aec_row0_col2\" class=\"data row0 col2\" >1.757100</td>\n",
              "      <td id=\"T_b6aec_row0_col3\" class=\"data row0 col3\" >0.205600</td>\n",
              "      <td id=\"T_b6aec_row0_col4\" class=\"data row0 col4\" >0.034268</td>\n",
              "      <td id=\"T_b6aec_row0_col5\" class=\"data row0 col5\" >0.166667</td>\n",
              "      <td id=\"T_b6aec_row0_col6\" class=\"data row0 col6\" >0.056848</td>\n",
              "    </tr>\n",
              "    <tr>\n",
              "      <th id=\"T_b6aec_level0_row1\" class=\"row_heading level0 row1\" >Bi-LSTM_multi</th>\n",
              "      <td id=\"T_b6aec_row1_col0\" class=\"data row1 col0\" >1.658500</td>\n",
              "      <td id=\"T_b6aec_row1_col1\" class=\"data row1 col1\" >0.284700</td>\n",
              "      <td id=\"T_b6aec_row1_col2\" class=\"data row1 col2\" >1.730200</td>\n",
              "      <td id=\"T_b6aec_row1_col3\" class=\"data row1 col3\" >0.231300</td>\n",
              "      <td id=\"T_b6aec_row1_col4\" class=\"data row1 col4\" >0.124841</td>\n",
              "      <td id=\"T_b6aec_row1_col5\" class=\"data row1 col5\" >0.195342</td>\n",
              "      <td id=\"T_b6aec_row1_col6\" class=\"data row1 col6\" >0.133464</td>\n",
              "    </tr>\n",
              "    <tr>\n",
              "      <th id=\"T_b6aec_level0_row2\" class=\"row_heading level0 row2\" >Uni-GRU_multi</th>\n",
              "      <td id=\"T_b6aec_row2_col0\" class=\"data row2 col0\" >1.757600</td>\n",
              "      <td id=\"T_b6aec_row2_col1\" class=\"data row2 col1\" >0.205500</td>\n",
              "      <td id=\"T_b6aec_row2_col2\" class=\"data row2 col2\" >1.757600</td>\n",
              "      <td id=\"T_b6aec_row2_col3\" class=\"data row2 col3\" >0.205600</td>\n",
              "      <td id=\"T_b6aec_row2_col4\" class=\"data row2 col4\" >0.034268</td>\n",
              "      <td id=\"T_b6aec_row2_col5\" class=\"data row2 col5\" >0.166667</td>\n",
              "      <td id=\"T_b6aec_row2_col6\" class=\"data row2 col6\" >0.056848</td>\n",
              "    </tr>\n",
              "    <tr>\n",
              "      <th id=\"T_b6aec_level0_row3\" class=\"row_heading level0 row3\" >BiGRU_multi</th>\n",
              "      <td id=\"T_b6aec_row3_col0\" class=\"data row3 col0\" >1.685800</td>\n",
              "      <td id=\"T_b6aec_row3_col1\" class=\"data row3 col1\" >0.306900</td>\n",
              "      <td id=\"T_b6aec_row3_col2\" class=\"data row3 col2\" >1.722300</td>\n",
              "      <td id=\"T_b6aec_row3_col3\" class=\"data row3 col3\" >0.250400</td>\n",
              "      <td id=\"T_b6aec_row3_col4\" class=\"data row3 col4\" >0.166755</td>\n",
              "      <td id=\"T_b6aec_row3_col5\" class=\"data row3 col5\" >0.216174</td>\n",
              "      <td id=\"T_b6aec_row3_col6\" class=\"data row3 col6\" >0.181474</td>\n",
              "    </tr>\n",
              "    <tr>\n",
              "      <th id=\"T_b6aec_level0_row4\" class=\"row_heading level0 row4\" >CNN_multi</th>\n",
              "      <td id=\"T_b6aec_row4_col0\" class=\"data row4 col0\" >1.705600</td>\n",
              "      <td id=\"T_b6aec_row4_col1\" class=\"data row4 col1\" >0.379300</td>\n",
              "      <td id=\"T_b6aec_row4_col2\" class=\"data row4 col2\" >1.749100</td>\n",
              "      <td id=\"T_b6aec_row4_col3\" class=\"data row4 col3\" >0.239500</td>\n",
              "      <td id=\"T_b6aec_row4_col4\" class=\"data row4 col4\" >0.122566</td>\n",
              "      <td id=\"T_b6aec_row4_col5\" class=\"data row4 col5\" >0.200626</td>\n",
              "      <td id=\"T_b6aec_row4_col6\" class=\"data row4 col6\" >0.149166</td>\n",
              "    </tr>\n",
              "  </tbody>\n",
              "</table>\n"
            ]
          },
          "metadata": {}
        }
      ],
      "source": [
        "import pandas as pd\n",
        "from IPython.display import display\n",
        "\n",
        "results_df = pd.DataFrame(results).T\n",
        "binary_df1 = results_df[results_df[\"Task\"] == \"binary\"].drop(columns=\"Task\")\n",
        "multiclass_df1 = results_df[results_df[\"Task\"] == \"multiclass\"].drop(columns=\"Task\")\n",
        "pd.set_option('display.precision', 4)\n",
        "\n",
        "print(\"Binary Classification Models:\")\n",
        "display(binary_df1.style.set_table_attributes(\"style='display:inline'\").set_caption(\"Binary Classification Results\"))\n",
        "\n",
        "print(\"\\nMulti-Class Classification Models:\")\n",
        "display(multiclass_df1.style.set_table_attributes(\"style='display:inline'\").set_caption(\"Multi-Class Classification Results\"))\n"
      ]
    },
    {
      "cell_type": "markdown",
      "metadata": {
        "id": "DysSfw4ytu8d"
      },
      "source": [
        "**ML Models**"
      ]
    },
    {
      "cell_type": "code",
      "execution_count": 38,
      "metadata": {
        "id": "zW_v2AyutyRm",
        "colab": {
          "base_uri": "https://localhost:8080/",
          "height": 255
        },
        "outputId": "bf6fceb6-a233-470e-e20a-c0c6aa186930"
      },
      "outputs": [
        {
          "output_type": "stream",
          "name": "stdout",
          "text": [
            "Machine Learning Model Results (Binary Classification on LIAR Dataset):\n"
          ]
        },
        {
          "output_type": "display_data",
          "data": {
            "text/plain": [
              "                                   Accuracy  Precision  Recall  F1-Score\n",
              "SVM (C=1)                            0.6248     0.6396  0.7596    0.6944\n",
              "Logistic Regression (C=1)            0.6217     0.6416  0.7385    0.6866\n",
              "Decision Tree (max_depth=5)          0.5921     0.5975  0.8368    0.6972\n",
              "KNN (k=9)                            0.5575     0.6094  0.5891    0.5991\n",
              "Random Forest 1 (n=400, depth=40)    0.6217     0.6244  0.8179    0.7082\n",
              "Random Forest 2 (n=300, depth=40)    0.6248     0.6307  0.7996    0.7052"
            ],
            "text/html": [
              "\n",
              "  <div id=\"df-be2582e3-0f6d-4b4c-95e9-6921ea3473de\" class=\"colab-df-container\">\n",
              "    <div>\n",
              "<style scoped>\n",
              "    .dataframe tbody tr th:only-of-type {\n",
              "        vertical-align: middle;\n",
              "    }\n",
              "\n",
              "    .dataframe tbody tr th {\n",
              "        vertical-align: top;\n",
              "    }\n",
              "\n",
              "    .dataframe thead th {\n",
              "        text-align: right;\n",
              "    }\n",
              "</style>\n",
              "<table border=\"1\" class=\"dataframe\">\n",
              "  <thead>\n",
              "    <tr style=\"text-align: right;\">\n",
              "      <th></th>\n",
              "      <th>Accuracy</th>\n",
              "      <th>Precision</th>\n",
              "      <th>Recall</th>\n",
              "      <th>F1-Score</th>\n",
              "    </tr>\n",
              "  </thead>\n",
              "  <tbody>\n",
              "    <tr>\n",
              "      <th>SVM (C=1)</th>\n",
              "      <td>0.6248</td>\n",
              "      <td>0.6396</td>\n",
              "      <td>0.7596</td>\n",
              "      <td>0.6944</td>\n",
              "    </tr>\n",
              "    <tr>\n",
              "      <th>Logistic Regression (C=1)</th>\n",
              "      <td>0.6217</td>\n",
              "      <td>0.6416</td>\n",
              "      <td>0.7385</td>\n",
              "      <td>0.6866</td>\n",
              "    </tr>\n",
              "    <tr>\n",
              "      <th>Decision Tree (max_depth=5)</th>\n",
              "      <td>0.5921</td>\n",
              "      <td>0.5975</td>\n",
              "      <td>0.8368</td>\n",
              "      <td>0.6972</td>\n",
              "    </tr>\n",
              "    <tr>\n",
              "      <th>KNN (k=9)</th>\n",
              "      <td>0.5575</td>\n",
              "      <td>0.6094</td>\n",
              "      <td>0.5891</td>\n",
              "      <td>0.5991</td>\n",
              "    </tr>\n",
              "    <tr>\n",
              "      <th>Random Forest 1 (n=400, depth=40)</th>\n",
              "      <td>0.6217</td>\n",
              "      <td>0.6244</td>\n",
              "      <td>0.8179</td>\n",
              "      <td>0.7082</td>\n",
              "    </tr>\n",
              "    <tr>\n",
              "      <th>Random Forest 2 (n=300, depth=40)</th>\n",
              "      <td>0.6248</td>\n",
              "      <td>0.6307</td>\n",
              "      <td>0.7996</td>\n",
              "      <td>0.7052</td>\n",
              "    </tr>\n",
              "  </tbody>\n",
              "</table>\n",
              "</div>\n",
              "    <div class=\"colab-df-buttons\">\n",
              "\n",
              "  <div class=\"colab-df-container\">\n",
              "    <button class=\"colab-df-convert\" onclick=\"convertToInteractive('df-be2582e3-0f6d-4b4c-95e9-6921ea3473de')\"\n",
              "            title=\"Convert this dataframe to an interactive table.\"\n",
              "            style=\"display:none;\">\n",
              "\n",
              "  <svg xmlns=\"http://www.w3.org/2000/svg\" height=\"24px\" viewBox=\"0 -960 960 960\">\n",
              "    <path d=\"M120-120v-720h720v720H120Zm60-500h600v-160H180v160Zm220 220h160v-160H400v160Zm0 220h160v-160H400v160ZM180-400h160v-160H180v160Zm440 0h160v-160H620v160ZM180-180h160v-160H180v160Zm440 0h160v-160H620v160Z\"/>\n",
              "  </svg>\n",
              "    </button>\n",
              "\n",
              "  <style>\n",
              "    .colab-df-container {\n",
              "      display:flex;\n",
              "      gap: 12px;\n",
              "    }\n",
              "\n",
              "    .colab-df-convert {\n",
              "      background-color: #E8F0FE;\n",
              "      border: none;\n",
              "      border-radius: 50%;\n",
              "      cursor: pointer;\n",
              "      display: none;\n",
              "      fill: #1967D2;\n",
              "      height: 32px;\n",
              "      padding: 0 0 0 0;\n",
              "      width: 32px;\n",
              "    }\n",
              "\n",
              "    .colab-df-convert:hover {\n",
              "      background-color: #E2EBFA;\n",
              "      box-shadow: 0px 1px 2px rgba(60, 64, 67, 0.3), 0px 1px 3px 1px rgba(60, 64, 67, 0.15);\n",
              "      fill: #174EA6;\n",
              "    }\n",
              "\n",
              "    .colab-df-buttons div {\n",
              "      margin-bottom: 4px;\n",
              "    }\n",
              "\n",
              "    [theme=dark] .colab-df-convert {\n",
              "      background-color: #3B4455;\n",
              "      fill: #D2E3FC;\n",
              "    }\n",
              "\n",
              "    [theme=dark] .colab-df-convert:hover {\n",
              "      background-color: #434B5C;\n",
              "      box-shadow: 0px 1px 3px 1px rgba(0, 0, 0, 0.15);\n",
              "      filter: drop-shadow(0px 1px 2px rgba(0, 0, 0, 0.3));\n",
              "      fill: #FFFFFF;\n",
              "    }\n",
              "  </style>\n",
              "\n",
              "    <script>\n",
              "      const buttonEl =\n",
              "        document.querySelector('#df-be2582e3-0f6d-4b4c-95e9-6921ea3473de button.colab-df-convert');\n",
              "      buttonEl.style.display =\n",
              "        google.colab.kernel.accessAllowed ? 'block' : 'none';\n",
              "\n",
              "      async function convertToInteractive(key) {\n",
              "        const element = document.querySelector('#df-be2582e3-0f6d-4b4c-95e9-6921ea3473de');\n",
              "        const dataTable =\n",
              "          await google.colab.kernel.invokeFunction('convertToInteractive',\n",
              "                                                    [key], {});\n",
              "        if (!dataTable) return;\n",
              "\n",
              "        const docLinkHtml = 'Like what you see? Visit the ' +\n",
              "          '<a target=\"_blank\" href=https://colab.research.google.com/notebooks/data_table.ipynb>data table notebook</a>'\n",
              "          + ' to learn more about interactive tables.';\n",
              "        element.innerHTML = '';\n",
              "        dataTable['output_type'] = 'display_data';\n",
              "        await google.colab.output.renderOutput(dataTable, element);\n",
              "        const docLink = document.createElement('div');\n",
              "        docLink.innerHTML = docLinkHtml;\n",
              "        element.appendChild(docLink);\n",
              "      }\n",
              "    </script>\n",
              "  </div>\n",
              "\n",
              "\n",
              "    <div id=\"df-84f7994e-4648-44a1-b30d-f93b19d9a0e6\">\n",
              "      <button class=\"colab-df-quickchart\" onclick=\"quickchart('df-84f7994e-4648-44a1-b30d-f93b19d9a0e6')\"\n",
              "                title=\"Suggest charts\"\n",
              "                style=\"display:none;\">\n",
              "\n",
              "<svg xmlns=\"http://www.w3.org/2000/svg\" height=\"24px\"viewBox=\"0 0 24 24\"\n",
              "     width=\"24px\">\n",
              "    <g>\n",
              "        <path d=\"M19 3H5c-1.1 0-2 .9-2 2v14c0 1.1.9 2 2 2h14c1.1 0 2-.9 2-2V5c0-1.1-.9-2-2-2zM9 17H7v-7h2v7zm4 0h-2V7h2v10zm4 0h-2v-4h2v4z\"/>\n",
              "    </g>\n",
              "</svg>\n",
              "      </button>\n",
              "\n",
              "<style>\n",
              "  .colab-df-quickchart {\n",
              "      --bg-color: #E8F0FE;\n",
              "      --fill-color: #1967D2;\n",
              "      --hover-bg-color: #E2EBFA;\n",
              "      --hover-fill-color: #174EA6;\n",
              "      --disabled-fill-color: #AAA;\n",
              "      --disabled-bg-color: #DDD;\n",
              "  }\n",
              "\n",
              "  [theme=dark] .colab-df-quickchart {\n",
              "      --bg-color: #3B4455;\n",
              "      --fill-color: #D2E3FC;\n",
              "      --hover-bg-color: #434B5C;\n",
              "      --hover-fill-color: #FFFFFF;\n",
              "      --disabled-bg-color: #3B4455;\n",
              "      --disabled-fill-color: #666;\n",
              "  }\n",
              "\n",
              "  .colab-df-quickchart {\n",
              "    background-color: var(--bg-color);\n",
              "    border: none;\n",
              "    border-radius: 50%;\n",
              "    cursor: pointer;\n",
              "    display: none;\n",
              "    fill: var(--fill-color);\n",
              "    height: 32px;\n",
              "    padding: 0;\n",
              "    width: 32px;\n",
              "  }\n",
              "\n",
              "  .colab-df-quickchart:hover {\n",
              "    background-color: var(--hover-bg-color);\n",
              "    box-shadow: 0 1px 2px rgba(60, 64, 67, 0.3), 0 1px 3px 1px rgba(60, 64, 67, 0.15);\n",
              "    fill: var(--button-hover-fill-color);\n",
              "  }\n",
              "\n",
              "  .colab-df-quickchart-complete:disabled,\n",
              "  .colab-df-quickchart-complete:disabled:hover {\n",
              "    background-color: var(--disabled-bg-color);\n",
              "    fill: var(--disabled-fill-color);\n",
              "    box-shadow: none;\n",
              "  }\n",
              "\n",
              "  .colab-df-spinner {\n",
              "    border: 2px solid var(--fill-color);\n",
              "    border-color: transparent;\n",
              "    border-bottom-color: var(--fill-color);\n",
              "    animation:\n",
              "      spin 1s steps(1) infinite;\n",
              "  }\n",
              "\n",
              "  @keyframes spin {\n",
              "    0% {\n",
              "      border-color: transparent;\n",
              "      border-bottom-color: var(--fill-color);\n",
              "      border-left-color: var(--fill-color);\n",
              "    }\n",
              "    20% {\n",
              "      border-color: transparent;\n",
              "      border-left-color: var(--fill-color);\n",
              "      border-top-color: var(--fill-color);\n",
              "    }\n",
              "    30% {\n",
              "      border-color: transparent;\n",
              "      border-left-color: var(--fill-color);\n",
              "      border-top-color: var(--fill-color);\n",
              "      border-right-color: var(--fill-color);\n",
              "    }\n",
              "    40% {\n",
              "      border-color: transparent;\n",
              "      border-right-color: var(--fill-color);\n",
              "      border-top-color: var(--fill-color);\n",
              "    }\n",
              "    60% {\n",
              "      border-color: transparent;\n",
              "      border-right-color: var(--fill-color);\n",
              "    }\n",
              "    80% {\n",
              "      border-color: transparent;\n",
              "      border-right-color: var(--fill-color);\n",
              "      border-bottom-color: var(--fill-color);\n",
              "    }\n",
              "    90% {\n",
              "      border-color: transparent;\n",
              "      border-bottom-color: var(--fill-color);\n",
              "    }\n",
              "  }\n",
              "</style>\n",
              "\n",
              "      <script>\n",
              "        async function quickchart(key) {\n",
              "          const quickchartButtonEl =\n",
              "            document.querySelector('#' + key + ' button');\n",
              "          quickchartButtonEl.disabled = true;  // To prevent multiple clicks.\n",
              "          quickchartButtonEl.classList.add('colab-df-spinner');\n",
              "          try {\n",
              "            const charts = await google.colab.kernel.invokeFunction(\n",
              "                'suggestCharts', [key], {});\n",
              "          } catch (error) {\n",
              "            console.error('Error during call to suggestCharts:', error);\n",
              "          }\n",
              "          quickchartButtonEl.classList.remove('colab-df-spinner');\n",
              "          quickchartButtonEl.classList.add('colab-df-quickchart-complete');\n",
              "        }\n",
              "        (() => {\n",
              "          let quickchartButtonEl =\n",
              "            document.querySelector('#df-84f7994e-4648-44a1-b30d-f93b19d9a0e6 button');\n",
              "          quickchartButtonEl.style.display =\n",
              "            google.colab.kernel.accessAllowed ? 'block' : 'none';\n",
              "        })();\n",
              "      </script>\n",
              "    </div>\n",
              "\n",
              "  <div id=\"id_79b1eb55-64c3-4a24-8a8c-2266b6d5a9a3\">\n",
              "    <style>\n",
              "      .colab-df-generate {\n",
              "        background-color: #E8F0FE;\n",
              "        border: none;\n",
              "        border-radius: 50%;\n",
              "        cursor: pointer;\n",
              "        display: none;\n",
              "        fill: #1967D2;\n",
              "        height: 32px;\n",
              "        padding: 0 0 0 0;\n",
              "        width: 32px;\n",
              "      }\n",
              "\n",
              "      .colab-df-generate:hover {\n",
              "        background-color: #E2EBFA;\n",
              "        box-shadow: 0px 1px 2px rgba(60, 64, 67, 0.3), 0px 1px 3px 1px rgba(60, 64, 67, 0.15);\n",
              "        fill: #174EA6;\n",
              "      }\n",
              "\n",
              "      [theme=dark] .colab-df-generate {\n",
              "        background-color: #3B4455;\n",
              "        fill: #D2E3FC;\n",
              "      }\n",
              "\n",
              "      [theme=dark] .colab-df-generate:hover {\n",
              "        background-color: #434B5C;\n",
              "        box-shadow: 0px 1px 3px 1px rgba(0, 0, 0, 0.15);\n",
              "        filter: drop-shadow(0px 1px 2px rgba(0, 0, 0, 0.3));\n",
              "        fill: #FFFFFF;\n",
              "      }\n",
              "    </style>\n",
              "    <button class=\"colab-df-generate\" onclick=\"generateWithVariable('results_df_ml')\"\n",
              "            title=\"Generate code using this dataframe.\"\n",
              "            style=\"display:none;\">\n",
              "\n",
              "  <svg xmlns=\"http://www.w3.org/2000/svg\" height=\"24px\"viewBox=\"0 0 24 24\"\n",
              "       width=\"24px\">\n",
              "    <path d=\"M7,19H8.4L18.45,9,17,7.55,7,17.6ZM5,21V16.75L18.45,3.32a2,2,0,0,1,2.83,0l1.4,1.43a1.91,1.91,0,0,1,.58,1.4,1.91,1.91,0,0,1-.58,1.4L9.25,21ZM18.45,9,17,7.55Zm-12,3A5.31,5.31,0,0,0,4.9,8.1,5.31,5.31,0,0,0,1,6.5,5.31,5.31,0,0,0,4.9,4.9,5.31,5.31,0,0,0,6.5,1,5.31,5.31,0,0,0,8.1,4.9,5.31,5.31,0,0,0,12,6.5,5.46,5.46,0,0,0,6.5,12Z\"/>\n",
              "  </svg>\n",
              "    </button>\n",
              "    <script>\n",
              "      (() => {\n",
              "      const buttonEl =\n",
              "        document.querySelector('#id_79b1eb55-64c3-4a24-8a8c-2266b6d5a9a3 button.colab-df-generate');\n",
              "      buttonEl.style.display =\n",
              "        google.colab.kernel.accessAllowed ? 'block' : 'none';\n",
              "\n",
              "      buttonEl.onclick = () => {\n",
              "        google.colab.notebook.generateWithVariable('results_df_ml');\n",
              "      }\n",
              "      })();\n",
              "    </script>\n",
              "  </div>\n",
              "\n",
              "    </div>\n",
              "  </div>\n"
            ],
            "application/vnd.google.colaboratory.intrinsic+json": {
              "type": "dataframe",
              "variable_name": "results_df_ml",
              "summary": "{\n  \"name\": \"results_df_ml\",\n  \"rows\": 6,\n  \"fields\": [\n    {\n      \"column\": \"Accuracy\",\n      \"properties\": {\n        \"dtype\": \"number\",\n        \"std\": 0.027342494399743435,\n        \"min\": 0.5575,\n        \"max\": 0.6248,\n        \"num_unique_values\": 4,\n        \"samples\": [\n          0.6217,\n          0.5575,\n          0.6248\n        ],\n        \"semantic_type\": \"\",\n        \"description\": \"\"\n      }\n    },\n    {\n      \"column\": \"Precision\",\n      \"properties\": {\n        \"dtype\": \"number\",\n        \"std\": 0.017398122504071106,\n        \"min\": 0.5975,\n        \"max\": 0.6416,\n        \"num_unique_values\": 6,\n        \"samples\": [\n          0.6396,\n          0.6416,\n          0.6307\n        ],\n        \"semantic_type\": \"\",\n        \"description\": \"\"\n      }\n    },\n    {\n      \"column\": \"Recall\",\n      \"properties\": {\n        \"dtype\": \"number\",\n        \"std\": 0.0899232876771455,\n        \"min\": 0.5891,\n        \"max\": 0.8368,\n        \"num_unique_values\": 6,\n        \"samples\": [\n          0.7596,\n          0.7385,\n          0.7996\n        ],\n        \"semantic_type\": \"\",\n        \"description\": \"\"\n      }\n    },\n    {\n      \"column\": \"F1-Score\",\n      \"properties\": {\n        \"dtype\": \"number\",\n        \"std\": 0.04123776990413847,\n        \"min\": 0.5991,\n        \"max\": 0.7082,\n        \"num_unique_values\": 6,\n        \"samples\": [\n          0.6944,\n          0.6866,\n          0.7052\n        ],\n        \"semantic_type\": \"\",\n        \"description\": \"\"\n      }\n    }\n  ]\n}"
            }
          },
          "metadata": {}
        }
      ],
      "source": [
        "import pandas as pd\n",
        "from sklearn.model_selection import train_test_split\n",
        "from sklearn.feature_extraction.text import TfidfVectorizer, CountVectorizer\n",
        "from sklearn.svm import SVC\n",
        "from sklearn.linear_model import LogisticRegression\n",
        "from sklearn.tree import DecisionTreeClassifier\n",
        "from sklearn.neighbors import KNeighborsClassifier\n",
        "from sklearn.ensemble import RandomForestClassifier\n",
        "from sklearn.metrics import classification_report, accuracy_score, precision_score, recall_score, f1_score\n",
        "\n",
        "ml_data = binary_df.copy()\n",
        "x_train_ml, x_test_ml, y_train_ml, y_test_ml = train_test_split(\n",
        "    ml_data['cleaned_text'], ml_data['label'], test_size=0.25, shuffle=True, random_state=42\n",
        ")\n",
        "x_train_ml = pd.Series(x_train_ml)\n",
        "x_test_ml = pd.Series(x_test_ml)\n",
        "\n",
        "x_train_ml_list = x_train_ml.apply(lambda x: ' '.join(x) if isinstance(x, list) else str(x)).tolist()\n",
        "x_test_ml_list = x_test_ml.apply(lambda x: ' '.join(x) if isinstance(x, list) else str(x)).tolist()\n",
        "tfidf = TfidfVectorizer(max_features=300)\n",
        "x_train_tfidf = tfidf.fit_transform(x_train_ml_list)\n",
        "x_test_tfidf = tfidf.transform(x_test_ml_list)\n",
        "\n",
        "count = CountVectorizer(max_features=300)\n",
        "x_train_tf = count.fit_transform(x_train_ml_list)\n",
        "x_test_tf = count.transform(x_test_ml_list)\n",
        "models = {\n",
        "    \"SVM (C=1)\": SVC(C=1),\n",
        "    \"Logistic Regression (C=1)\": LogisticRegression(C=1, max_iter=1000),\n",
        "    \"Decision Tree (max_depth=5)\": DecisionTreeClassifier(max_depth=5),\n",
        "    \"KNN (k=9)\": KNeighborsClassifier(n_neighbors=9),\n",
        "    \"Random Forest 1 (n=400, depth=40)\": RandomForestClassifier(n_estimators=400, max_depth=40),\n",
        "}\n",
        "rf2 = RandomForestClassifier(n_estimators=300, max_depth=40)\n",
        "\n",
        "results_ml = {}\n",
        "def evaluate_model(name, y_true, y_pred):\n",
        "    results_ml[name] = {\n",
        "        \"Accuracy\": round(accuracy_score(y_true, y_pred), 4),\n",
        "        \"Precision\": round(precision_score(y_true, y_pred), 4),\n",
        "        \"Recall\": round(recall_score(y_true, y_pred), 4),\n",
        "        \"F1-Score\": round(f1_score(y_true, y_pred), 4)\n",
        "    }\n",
        "\n",
        "for name, model in models.items():\n",
        "    model.fit(x_train_tfidf, y_train_ml)\n",
        "    y_pred = model.predict(x_test_tfidf)\n",
        "    evaluate_model(name, y_test_ml, y_pred)\n",
        "\n",
        "rf2.fit(x_train_tf, y_train_ml)\n",
        "y_pred_rf2 = rf2.predict(x_test_tf)\n",
        "evaluate_model(\"Random Forest 2 (n=300, depth=40)\", y_test_ml, y_pred_rf2)\n",
        "results_df_ml = pd.DataFrame(results_ml).T\n",
        "print(\"Machine Learning Model Results (Binary Classification on LIAR Dataset):\")\n",
        "display(results_df_ml)\n"
      ]
    },
    {
      "cell_type": "code",
      "execution_count": 39,
      "metadata": {
        "id": "UsFCQlPRuVTp",
        "colab": {
          "base_uri": "https://localhost:8080/",
          "height": 255
        },
        "outputId": "875f0bf1-f51e-42b6-9000-64f6f3e67a01"
      },
      "outputs": [
        {
          "output_type": "stream",
          "name": "stdout",
          "text": [
            "Machine Learning Model Results (Multi-Class Classification on LIAR Dataset):\n"
          ]
        },
        {
          "output_type": "display_data",
          "data": {
            "text/plain": [
              "                                   Accuracy  Precision (macro)  \\\n",
              "SVM (C=1)                            0.2527             0.2671   \n",
              "Logistic Regression (C=1)            0.2568             0.2537   \n",
              "Decision Tree (max_depth=5)          0.2231             0.3022   \n",
              "KNN (k=9)                            0.2175             0.2192   \n",
              "Random Forest 1 (n=400, depth=40)    0.2586             0.2571   \n",
              "Random Forest 2 (n=300, depth=40)    0.2646             0.2890   \n",
              "\n",
              "                                   Recall (macro)  F1-Score (macro)  \n",
              "SVM (C=1)                                  0.2235            0.2155  \n",
              "Logistic Regression (C=1)                  0.2331            0.2314  \n",
              "Decision Tree (max_depth=5)                0.1842            0.1244  \n",
              "KNN (k=9)                                  0.2080            0.1988  \n",
              "Random Forest 1 (n=400, depth=40)          0.2260            0.2147  \n",
              "Random Forest 2 (n=300, depth=40)          0.2336            0.2204  "
            ],
            "text/html": [
              "\n",
              "  <div id=\"df-8d2c6e7a-1d13-4e4f-ac03-f9c9e5458e03\" class=\"colab-df-container\">\n",
              "    <div>\n",
              "<style scoped>\n",
              "    .dataframe tbody tr th:only-of-type {\n",
              "        vertical-align: middle;\n",
              "    }\n",
              "\n",
              "    .dataframe tbody tr th {\n",
              "        vertical-align: top;\n",
              "    }\n",
              "\n",
              "    .dataframe thead th {\n",
              "        text-align: right;\n",
              "    }\n",
              "</style>\n",
              "<table border=\"1\" class=\"dataframe\">\n",
              "  <thead>\n",
              "    <tr style=\"text-align: right;\">\n",
              "      <th></th>\n",
              "      <th>Accuracy</th>\n",
              "      <th>Precision (macro)</th>\n",
              "      <th>Recall (macro)</th>\n",
              "      <th>F1-Score (macro)</th>\n",
              "    </tr>\n",
              "  </thead>\n",
              "  <tbody>\n",
              "    <tr>\n",
              "      <th>SVM (C=1)</th>\n",
              "      <td>0.2527</td>\n",
              "      <td>0.2671</td>\n",
              "      <td>0.2235</td>\n",
              "      <td>0.2155</td>\n",
              "    </tr>\n",
              "    <tr>\n",
              "      <th>Logistic Regression (C=1)</th>\n",
              "      <td>0.2568</td>\n",
              "      <td>0.2537</td>\n",
              "      <td>0.2331</td>\n",
              "      <td>0.2314</td>\n",
              "    </tr>\n",
              "    <tr>\n",
              "      <th>Decision Tree (max_depth=5)</th>\n",
              "      <td>0.2231</td>\n",
              "      <td>0.3022</td>\n",
              "      <td>0.1842</td>\n",
              "      <td>0.1244</td>\n",
              "    </tr>\n",
              "    <tr>\n",
              "      <th>KNN (k=9)</th>\n",
              "      <td>0.2175</td>\n",
              "      <td>0.2192</td>\n",
              "      <td>0.2080</td>\n",
              "      <td>0.1988</td>\n",
              "    </tr>\n",
              "    <tr>\n",
              "      <th>Random Forest 1 (n=400, depth=40)</th>\n",
              "      <td>0.2586</td>\n",
              "      <td>0.2571</td>\n",
              "      <td>0.2260</td>\n",
              "      <td>0.2147</td>\n",
              "    </tr>\n",
              "    <tr>\n",
              "      <th>Random Forest 2 (n=300, depth=40)</th>\n",
              "      <td>0.2646</td>\n",
              "      <td>0.2890</td>\n",
              "      <td>0.2336</td>\n",
              "      <td>0.2204</td>\n",
              "    </tr>\n",
              "  </tbody>\n",
              "</table>\n",
              "</div>\n",
              "    <div class=\"colab-df-buttons\">\n",
              "\n",
              "  <div class=\"colab-df-container\">\n",
              "    <button class=\"colab-df-convert\" onclick=\"convertToInteractive('df-8d2c6e7a-1d13-4e4f-ac03-f9c9e5458e03')\"\n",
              "            title=\"Convert this dataframe to an interactive table.\"\n",
              "            style=\"display:none;\">\n",
              "\n",
              "  <svg xmlns=\"http://www.w3.org/2000/svg\" height=\"24px\" viewBox=\"0 -960 960 960\">\n",
              "    <path d=\"M120-120v-720h720v720H120Zm60-500h600v-160H180v160Zm220 220h160v-160H400v160Zm0 220h160v-160H400v160ZM180-400h160v-160H180v160Zm440 0h160v-160H620v160ZM180-180h160v-160H180v160Zm440 0h160v-160H620v160Z\"/>\n",
              "  </svg>\n",
              "    </button>\n",
              "\n",
              "  <style>\n",
              "    .colab-df-container {\n",
              "      display:flex;\n",
              "      gap: 12px;\n",
              "    }\n",
              "\n",
              "    .colab-df-convert {\n",
              "      background-color: #E8F0FE;\n",
              "      border: none;\n",
              "      border-radius: 50%;\n",
              "      cursor: pointer;\n",
              "      display: none;\n",
              "      fill: #1967D2;\n",
              "      height: 32px;\n",
              "      padding: 0 0 0 0;\n",
              "      width: 32px;\n",
              "    }\n",
              "\n",
              "    .colab-df-convert:hover {\n",
              "      background-color: #E2EBFA;\n",
              "      box-shadow: 0px 1px 2px rgba(60, 64, 67, 0.3), 0px 1px 3px 1px rgba(60, 64, 67, 0.15);\n",
              "      fill: #174EA6;\n",
              "    }\n",
              "\n",
              "    .colab-df-buttons div {\n",
              "      margin-bottom: 4px;\n",
              "    }\n",
              "\n",
              "    [theme=dark] .colab-df-convert {\n",
              "      background-color: #3B4455;\n",
              "      fill: #D2E3FC;\n",
              "    }\n",
              "\n",
              "    [theme=dark] .colab-df-convert:hover {\n",
              "      background-color: #434B5C;\n",
              "      box-shadow: 0px 1px 3px 1px rgba(0, 0, 0, 0.15);\n",
              "      filter: drop-shadow(0px 1px 2px rgba(0, 0, 0, 0.3));\n",
              "      fill: #FFFFFF;\n",
              "    }\n",
              "  </style>\n",
              "\n",
              "    <script>\n",
              "      const buttonEl =\n",
              "        document.querySelector('#df-8d2c6e7a-1d13-4e4f-ac03-f9c9e5458e03 button.colab-df-convert');\n",
              "      buttonEl.style.display =\n",
              "        google.colab.kernel.accessAllowed ? 'block' : 'none';\n",
              "\n",
              "      async function convertToInteractive(key) {\n",
              "        const element = document.querySelector('#df-8d2c6e7a-1d13-4e4f-ac03-f9c9e5458e03');\n",
              "        const dataTable =\n",
              "          await google.colab.kernel.invokeFunction('convertToInteractive',\n",
              "                                                    [key], {});\n",
              "        if (!dataTable) return;\n",
              "\n",
              "        const docLinkHtml = 'Like what you see? Visit the ' +\n",
              "          '<a target=\"_blank\" href=https://colab.research.google.com/notebooks/data_table.ipynb>data table notebook</a>'\n",
              "          + ' to learn more about interactive tables.';\n",
              "        element.innerHTML = '';\n",
              "        dataTable['output_type'] = 'display_data';\n",
              "        await google.colab.output.renderOutput(dataTable, element);\n",
              "        const docLink = document.createElement('div');\n",
              "        docLink.innerHTML = docLinkHtml;\n",
              "        element.appendChild(docLink);\n",
              "      }\n",
              "    </script>\n",
              "  </div>\n",
              "\n",
              "\n",
              "    <div id=\"df-5233b207-df2a-42de-a5f0-d895c7720bf8\">\n",
              "      <button class=\"colab-df-quickchart\" onclick=\"quickchart('df-5233b207-df2a-42de-a5f0-d895c7720bf8')\"\n",
              "                title=\"Suggest charts\"\n",
              "                style=\"display:none;\">\n",
              "\n",
              "<svg xmlns=\"http://www.w3.org/2000/svg\" height=\"24px\"viewBox=\"0 0 24 24\"\n",
              "     width=\"24px\">\n",
              "    <g>\n",
              "        <path d=\"M19 3H5c-1.1 0-2 .9-2 2v14c0 1.1.9 2 2 2h14c1.1 0 2-.9 2-2V5c0-1.1-.9-2-2-2zM9 17H7v-7h2v7zm4 0h-2V7h2v10zm4 0h-2v-4h2v4z\"/>\n",
              "    </g>\n",
              "</svg>\n",
              "      </button>\n",
              "\n",
              "<style>\n",
              "  .colab-df-quickchart {\n",
              "      --bg-color: #E8F0FE;\n",
              "      --fill-color: #1967D2;\n",
              "      --hover-bg-color: #E2EBFA;\n",
              "      --hover-fill-color: #174EA6;\n",
              "      --disabled-fill-color: #AAA;\n",
              "      --disabled-bg-color: #DDD;\n",
              "  }\n",
              "\n",
              "  [theme=dark] .colab-df-quickchart {\n",
              "      --bg-color: #3B4455;\n",
              "      --fill-color: #D2E3FC;\n",
              "      --hover-bg-color: #434B5C;\n",
              "      --hover-fill-color: #FFFFFF;\n",
              "      --disabled-bg-color: #3B4455;\n",
              "      --disabled-fill-color: #666;\n",
              "  }\n",
              "\n",
              "  .colab-df-quickchart {\n",
              "    background-color: var(--bg-color);\n",
              "    border: none;\n",
              "    border-radius: 50%;\n",
              "    cursor: pointer;\n",
              "    display: none;\n",
              "    fill: var(--fill-color);\n",
              "    height: 32px;\n",
              "    padding: 0;\n",
              "    width: 32px;\n",
              "  }\n",
              "\n",
              "  .colab-df-quickchart:hover {\n",
              "    background-color: var(--hover-bg-color);\n",
              "    box-shadow: 0 1px 2px rgba(60, 64, 67, 0.3), 0 1px 3px 1px rgba(60, 64, 67, 0.15);\n",
              "    fill: var(--button-hover-fill-color);\n",
              "  }\n",
              "\n",
              "  .colab-df-quickchart-complete:disabled,\n",
              "  .colab-df-quickchart-complete:disabled:hover {\n",
              "    background-color: var(--disabled-bg-color);\n",
              "    fill: var(--disabled-fill-color);\n",
              "    box-shadow: none;\n",
              "  }\n",
              "\n",
              "  .colab-df-spinner {\n",
              "    border: 2px solid var(--fill-color);\n",
              "    border-color: transparent;\n",
              "    border-bottom-color: var(--fill-color);\n",
              "    animation:\n",
              "      spin 1s steps(1) infinite;\n",
              "  }\n",
              "\n",
              "  @keyframes spin {\n",
              "    0% {\n",
              "      border-color: transparent;\n",
              "      border-bottom-color: var(--fill-color);\n",
              "      border-left-color: var(--fill-color);\n",
              "    }\n",
              "    20% {\n",
              "      border-color: transparent;\n",
              "      border-left-color: var(--fill-color);\n",
              "      border-top-color: var(--fill-color);\n",
              "    }\n",
              "    30% {\n",
              "      border-color: transparent;\n",
              "      border-left-color: var(--fill-color);\n",
              "      border-top-color: var(--fill-color);\n",
              "      border-right-color: var(--fill-color);\n",
              "    }\n",
              "    40% {\n",
              "      border-color: transparent;\n",
              "      border-right-color: var(--fill-color);\n",
              "      border-top-color: var(--fill-color);\n",
              "    }\n",
              "    60% {\n",
              "      border-color: transparent;\n",
              "      border-right-color: var(--fill-color);\n",
              "    }\n",
              "    80% {\n",
              "      border-color: transparent;\n",
              "      border-right-color: var(--fill-color);\n",
              "      border-bottom-color: var(--fill-color);\n",
              "    }\n",
              "    90% {\n",
              "      border-color: transparent;\n",
              "      border-bottom-color: var(--fill-color);\n",
              "    }\n",
              "  }\n",
              "</style>\n",
              "\n",
              "      <script>\n",
              "        async function quickchart(key) {\n",
              "          const quickchartButtonEl =\n",
              "            document.querySelector('#' + key + ' button');\n",
              "          quickchartButtonEl.disabled = true;  // To prevent multiple clicks.\n",
              "          quickchartButtonEl.classList.add('colab-df-spinner');\n",
              "          try {\n",
              "            const charts = await google.colab.kernel.invokeFunction(\n",
              "                'suggestCharts', [key], {});\n",
              "          } catch (error) {\n",
              "            console.error('Error during call to suggestCharts:', error);\n",
              "          }\n",
              "          quickchartButtonEl.classList.remove('colab-df-spinner');\n",
              "          quickchartButtonEl.classList.add('colab-df-quickchart-complete');\n",
              "        }\n",
              "        (() => {\n",
              "          let quickchartButtonEl =\n",
              "            document.querySelector('#df-5233b207-df2a-42de-a5f0-d895c7720bf8 button');\n",
              "          quickchartButtonEl.style.display =\n",
              "            google.colab.kernel.accessAllowed ? 'block' : 'none';\n",
              "        })();\n",
              "      </script>\n",
              "    </div>\n",
              "\n",
              "  <div id=\"id_67a2d868-bf0f-4c79-9975-41d7ee268b1b\">\n",
              "    <style>\n",
              "      .colab-df-generate {\n",
              "        background-color: #E8F0FE;\n",
              "        border: none;\n",
              "        border-radius: 50%;\n",
              "        cursor: pointer;\n",
              "        display: none;\n",
              "        fill: #1967D2;\n",
              "        height: 32px;\n",
              "        padding: 0 0 0 0;\n",
              "        width: 32px;\n",
              "      }\n",
              "\n",
              "      .colab-df-generate:hover {\n",
              "        background-color: #E2EBFA;\n",
              "        box-shadow: 0px 1px 2px rgba(60, 64, 67, 0.3), 0px 1px 3px 1px rgba(60, 64, 67, 0.15);\n",
              "        fill: #174EA6;\n",
              "      }\n",
              "\n",
              "      [theme=dark] .colab-df-generate {\n",
              "        background-color: #3B4455;\n",
              "        fill: #D2E3FC;\n",
              "      }\n",
              "\n",
              "      [theme=dark] .colab-df-generate:hover {\n",
              "        background-color: #434B5C;\n",
              "        box-shadow: 0px 1px 3px 1px rgba(0, 0, 0, 0.15);\n",
              "        filter: drop-shadow(0px 1px 2px rgba(0, 0, 0, 0.3));\n",
              "        fill: #FFFFFF;\n",
              "      }\n",
              "    </style>\n",
              "    <button class=\"colab-df-generate\" onclick=\"generateWithVariable('results_df_ml_multi')\"\n",
              "            title=\"Generate code using this dataframe.\"\n",
              "            style=\"display:none;\">\n",
              "\n",
              "  <svg xmlns=\"http://www.w3.org/2000/svg\" height=\"24px\"viewBox=\"0 0 24 24\"\n",
              "       width=\"24px\">\n",
              "    <path d=\"M7,19H8.4L18.45,9,17,7.55,7,17.6ZM5,21V16.75L18.45,3.32a2,2,0,0,1,2.83,0l1.4,1.43a1.91,1.91,0,0,1,.58,1.4,1.91,1.91,0,0,1-.58,1.4L9.25,21ZM18.45,9,17,7.55Zm-12,3A5.31,5.31,0,0,0,4.9,8.1,5.31,5.31,0,0,0,1,6.5,5.31,5.31,0,0,0,4.9,4.9,5.31,5.31,0,0,0,6.5,1,5.31,5.31,0,0,0,8.1,4.9,5.31,5.31,0,0,0,12,6.5,5.46,5.46,0,0,0,6.5,12Z\"/>\n",
              "  </svg>\n",
              "    </button>\n",
              "    <script>\n",
              "      (() => {\n",
              "      const buttonEl =\n",
              "        document.querySelector('#id_67a2d868-bf0f-4c79-9975-41d7ee268b1b button.colab-df-generate');\n",
              "      buttonEl.style.display =\n",
              "        google.colab.kernel.accessAllowed ? 'block' : 'none';\n",
              "\n",
              "      buttonEl.onclick = () => {\n",
              "        google.colab.notebook.generateWithVariable('results_df_ml_multi');\n",
              "      }\n",
              "      })();\n",
              "    </script>\n",
              "  </div>\n",
              "\n",
              "    </div>\n",
              "  </div>\n"
            ],
            "application/vnd.google.colaboratory.intrinsic+json": {
              "type": "dataframe",
              "variable_name": "results_df_ml_multi",
              "summary": "{\n  \"name\": \"results_df_ml_multi\",\n  \"rows\": 6,\n  \"fields\": [\n    {\n      \"column\": \"Accuracy\",\n      \"properties\": {\n        \"dtype\": \"number\",\n        \"std\": 0.02000847320511987,\n        \"min\": 0.2175,\n        \"max\": 0.2646,\n        \"num_unique_values\": 6,\n        \"samples\": [\n          0.2527,\n          0.2568,\n          0.2646\n        ],\n        \"semantic_type\": \"\",\n        \"description\": \"\"\n      }\n    },\n    {\n      \"column\": \"Precision (macro)\",\n      \"properties\": {\n        \"dtype\": \"number\",\n        \"std\": 0.02915993255593481,\n        \"min\": 0.2192,\n        \"max\": 0.3022,\n        \"num_unique_values\": 6,\n        \"samples\": [\n          0.2671,\n          0.2537,\n          0.289\n        ],\n        \"semantic_type\": \"\",\n        \"description\": \"\"\n      }\n    },\n    {\n      \"column\": \"Recall (macro)\",\n      \"properties\": {\n        \"dtype\": \"number\",\n        \"std\": 0.01901595821058373,\n        \"min\": 0.1842,\n        \"max\": 0.2336,\n        \"num_unique_values\": 6,\n        \"samples\": [\n          0.2235,\n          0.2331,\n          0.2336\n        ],\n        \"semantic_type\": \"\",\n        \"description\": \"\"\n      }\n    },\n    {\n      \"column\": \"F1-Score (macro)\",\n      \"properties\": {\n        \"dtype\": \"number\",\n        \"std\": 0.0389120889527492,\n        \"min\": 0.1244,\n        \"max\": 0.2314,\n        \"num_unique_values\": 6,\n        \"samples\": [\n          0.2155,\n          0.2314,\n          0.2204\n        ],\n        \"semantic_type\": \"\",\n        \"description\": \"\"\n      }\n    }\n  ]\n}"
            }
          },
          "metadata": {}
        }
      ],
      "source": [
        "from sklearn.metrics import classification_report, accuracy_score, precision_score, recall_score, f1_score\n",
        "ml_data_multi = multiclass_df.copy()\n",
        "\n",
        "x_train_ml, x_test_ml, y_train_ml, y_test_ml = train_test_split(\n",
        "    ml_data_multi['cleaned_text'], ml_data_multi['label'], test_size=0.25, shuffle=True, random_state=42\n",
        ")\n",
        "x_train_ml_list = pd.Series(x_train_ml).apply(str).tolist()\n",
        "x_test_ml_list = pd.Series(x_test_ml).apply(str).tolist()\n",
        "\n",
        "tfidf = TfidfVectorizer(max_features=300)\n",
        "x_train_tfidf = tfidf.fit_transform(x_train_ml_list)\n",
        "x_test_tfidf = tfidf.transform(x_test_ml_list)\n",
        "\n",
        "count = CountVectorizer(max_features=300)\n",
        "x_train_tf = count.fit_transform(x_train_ml_list)\n",
        "x_test_tf = count.transform(x_test_ml_list)\n",
        "\n",
        "models_multi = {\n",
        "    \"SVM (C=1)\": SVC(C=1),\n",
        "    \"Logistic Regression (C=1)\": LogisticRegression(C=1, max_iter=1000),\n",
        "    \"Decision Tree (max_depth=5)\": DecisionTreeClassifier(max_depth=5),\n",
        "    \"KNN (k=9)\": KNeighborsClassifier(n_neighbors=9),\n",
        "    \"Random Forest 1 (n=400, depth=40)\": RandomForestClassifier(n_estimators=400, max_depth=40),\n",
        "}\n",
        "rf2_multi = RandomForestClassifier(n_estimators=300, max_depth=40)\n",
        "results_ml_multi = {}\n",
        "def evaluate_model_multi(name, y_true, y_pred):\n",
        "    results_ml_multi[name] = {\n",
        "        \"Accuracy\": round(accuracy_score(y_true, y_pred), 4),\n",
        "        \"Precision (macro)\": round(precision_score(y_true, y_pred, average='macro'), 4),\n",
        "        \"Recall (macro)\": round(recall_score(y_true, y_pred, average='macro'), 4),\n",
        "        \"F1-Score (macro)\": round(f1_score(y_true, y_pred, average='macro'), 4)\n",
        "    }\n",
        "\n",
        "for name, model in models_multi.items():\n",
        "    model.fit(x_train_tfidf, y_train_ml)\n",
        "    y_pred = model.predict(x_test_tfidf)\n",
        "    evaluate_model_multi(name, y_test_ml, y_pred)\n",
        "\n",
        "rf2_multi.fit(x_train_tf, y_train_ml)\n",
        "y_pred_rf2 = rf2_multi.predict(x_test_tf)\n",
        "evaluate_model_multi(\"Random Forest 2 (n=300, depth=40)\", y_test_ml, y_pred_rf2)\n",
        "\n",
        "results_df_ml_multi = pd.DataFrame(results_ml_multi).T\n",
        "print(\"Machine Learning Model Results (Multi-Class Classification on LIAR Dataset):\")\n",
        "display(results_df_ml_multi)\n"
      ]
    },
    {
      "cell_type": "code",
      "execution_count": 68,
      "metadata": {
        "id": "yOyhNbRBu13m",
        "colab": {
          "base_uri": "https://localhost:8080/"
        },
        "outputId": "ff5d32d6-8dd1-4e91-a943-8c4ee4f1ac4d"
      },
      "outputs": [
        {
          "output_type": "stream",
          "name": "stdout",
          "text": [
            "\n",
            "Binary Classification Model Comparison:\n",
            "\n",
            "╒═══════════════════════════════════╤════════════╤═════════════╤══════════╤════════════╕\n",
            "│ Model                             │   Accuracy │   Precision │   Recall │   F1-Score │\n",
            "╞═══════════════════════════════════╪════════════╪═════════════╪══════════╪════════════╡\n",
            "│ Uni-LSTM_bin                      │     0.5584 │      0.5584 │   1.0000 │     0.7166 │\n",
            "├───────────────────────────────────┼────────────┼─────────────┼──────────┼────────────┤\n",
            "│ Bi-LSTM_bin                       │     0.5927 │      0.6545 │   0.5732 │     0.6112 │\n",
            "├───────────────────────────────────┼────────────┼─────────────┼──────────┼────────────┤\n",
            "│ Uni-GRU_bin                       │     0.5584 │      0.5584 │   1.0000 │     0.7166 │\n",
            "├───────────────────────────────────┼────────────┼─────────────┼──────────┼────────────┤\n",
            "│ BiGRU_bin                         │     0.6036 │      0.6185 │   0.7573 │     0.6809 │\n",
            "├───────────────────────────────────┼────────────┼─────────────┼──────────┼────────────┤\n",
            "│ CNN_bin                           │     0.6114 │      0.6127 │   0.8264 │     0.7037 │\n",
            "├───────────────────────────────────┼────────────┼─────────────┼──────────┼────────────┤\n",
            "│ SVM (C=1)                         │     0.6248 │      0.6396 │   0.7596 │     0.6944 │\n",
            "├───────────────────────────────────┼────────────┼─────────────┼──────────┼────────────┤\n",
            "│ Logistic Regression (C=1)         │     0.6217 │      0.6416 │   0.7385 │     0.6866 │\n",
            "├───────────────────────────────────┼────────────┼─────────────┼──────────┼────────────┤\n",
            "│ Decision Tree (max_depth=5)       │     0.5921 │      0.5975 │   0.8368 │     0.6972 │\n",
            "├───────────────────────────────────┼────────────┼─────────────┼──────────┼────────────┤\n",
            "│ KNN (k=9)                         │     0.5575 │      0.6094 │   0.5891 │     0.5991 │\n",
            "├───────────────────────────────────┼────────────┼─────────────┼──────────┼────────────┤\n",
            "│ Random Forest 1 (n=400, depth=40) │     0.6217 │      0.6244 │   0.8179 │     0.7082 │\n",
            "├───────────────────────────────────┼────────────┼─────────────┼──────────┼────────────┤\n",
            "│ Random Forest 2 (n=300, depth=40) │     0.6248 │      0.6307 │   0.7996 │     0.7052 │\n",
            "╘═══════════════════════════════════╧════════════╧═════════════╧══════════╧════════════╛\n",
            "\n",
            "Multi-Class Classification Model Comparison:\n",
            "\n",
            "╒═══════════════════════════════════╤════════════╤═════════════╤══════════╤════════════╕\n",
            "│ Model                             │   Accuracy │   Precision │   Recall │   F1-Score │\n",
            "╞═══════════════════════════════════╪════════════╪═════════════╪══════════╪════════════╡\n",
            "│ Uni-LSTM_multi                    │     0.2056 │      0.0343 │   0.1667 │     0.0568 │\n",
            "├───────────────────────────────────┼────────────┼─────────────┼──────────┼────────────┤\n",
            "│ Bi-LSTM_multi                     │     0.2313 │      0.1248 │   0.1953 │     0.1335 │\n",
            "├───────────────────────────────────┼────────────┼─────────────┼──────────┼────────────┤\n",
            "│ Uni-GRU_multi                     │     0.2056 │      0.0343 │   0.1667 │     0.0568 │\n",
            "├───────────────────────────────────┼────────────┼─────────────┼──────────┼────────────┤\n",
            "│ BiGRU_multi                       │     0.2504 │      0.1668 │   0.2162 │     0.1815 │\n",
            "├───────────────────────────────────┼────────────┼─────────────┼──────────┼────────────┤\n",
            "│ CNN_multi                         │     0.2395 │      0.1226 │   0.2006 │     0.1492 │\n",
            "├───────────────────────────────────┼────────────┼─────────────┼──────────┼────────────┤\n",
            "│ SVM (C=1)                         │     0.2527 │      0.2671 │   0.2235 │     0.2155 │\n",
            "├───────────────────────────────────┼────────────┼─────────────┼──────────┼────────────┤\n",
            "│ Logistic Regression (C=1)         │     0.2568 │      0.2537 │   0.2331 │     0.2314 │\n",
            "├───────────────────────────────────┼────────────┼─────────────┼──────────┼────────────┤\n",
            "│ Decision Tree (max_depth=5)       │     0.2231 │      0.3022 │   0.1842 │     0.1244 │\n",
            "├───────────────────────────────────┼────────────┼─────────────┼──────────┼────────────┤\n",
            "│ KNN (k=9)                         │     0.2175 │      0.2192 │   0.2080 │     0.1988 │\n",
            "├───────────────────────────────────┼────────────┼─────────────┼──────────┼────────────┤\n",
            "│ Random Forest 1 (n=400, depth=40) │     0.2586 │      0.2571 │   0.2260 │     0.2147 │\n",
            "├───────────────────────────────────┼────────────┼─────────────┼──────────┼────────────┤\n",
            "│ Random Forest 2 (n=300, depth=40) │     0.2646 │      0.2890 │   0.2336 │     0.2204 │\n",
            "╘═══════════════════════════════════╧════════════╧═════════════╧══════════╧════════════╛\n"
          ]
        }
      ],
      "source": [
        "from tabulate import tabulate\n",
        "import pandas as pd\n",
        "\n",
        "dl_binary_table = []\n",
        "dl_multiclass_table = []\n",
        "\n",
        "for name, vals in results.items():\n",
        "    row = {\n",
        "        \"Model\": name,\n",
        "        \"Accuracy\": vals.get(\"Test Accuracy\", None),\n",
        "        \"Precision\": vals.get(\"Precision\", None),\n",
        "        \"Recall\": vals.get(\"Recall\", None),\n",
        "        \"F1-Score\": vals.get(\"F1-Score\", None)\n",
        "    }\n",
        "    if vals.get(\"Task\") == \"binary\":\n",
        "        dl_binary_table.append(row)\n",
        "    elif vals.get(\"Task\") == \"multiclass\":\n",
        "        dl_multiclass_table.append(row)\n",
        "\n",
        "ml_binary_table = []\n",
        "ml_multiclass_table = []\n",
        "\n",
        "for name, vals in results_ml.items():\n",
        "    ml_binary_table.append({\n",
        "        \"Model\": name,\n",
        "        \"Accuracy\": vals.get(\"Accuracy\", None),\n",
        "        \"Precision\": vals.get(\"Precision\", None),\n",
        "        \"Recall\": vals.get(\"Recall\", None),\n",
        "        \"F1-Score\": vals.get(\"F1-Score\", None)\n",
        "    })\n",
        "\n",
        "for name, vals in results_ml_multi.items():\n",
        "    ml_multiclass_table.append({\n",
        "        \"Model\": name,\n",
        "        \"Accuracy\": vals.get(\"Accuracy\", None),\n",
        "        \"Precision\": vals.get(\"Precision (macro)\", None),\n",
        "        \"Recall\": vals.get(\"Recall (macro)\", None),\n",
        "        \"F1-Score\": vals.get(\"F1-Score (macro)\", None)\n",
        "    })\n",
        "\n",
        "\n",
        "final_binary_table = pd.DataFrame(dl_binary_table + ml_binary_table).set_index(\"Model\")\n",
        "final_multiclass_table = pd.DataFrame(dl_multiclass_table + ml_multiclass_table).set_index(\"Model\")\n",
        "\n",
        "\n",
        "print(\"\\nBinary Classification Model Comparison:\\n\")\n",
        "print(tabulate(final_binary_table, headers='keys', tablefmt='fancy_grid', floatfmt=\".4f\"))\n",
        "\n",
        "print(\"\\nMulti-Class Classification Model Comparison:\\n\")\n",
        "print(tabulate(final_multiclass_table, headers='keys', tablefmt='fancy_grid', floatfmt=\".4f\"))\n"
      ]
    },
    {
      "cell_type": "code",
      "execution_count": 69,
      "metadata": {
        "id": "4VvOxhd0vBho"
      },
      "outputs": [],
      "source": [
        "from sklearn.model_selection import train_test_split\n",
        "from sklearn.ensemble import RandomForestClassifier\n",
        "from sklearn.metrics import classification_report, accuracy_score, precision_score, recall_score, f1_score\n",
        "import numpy as np\n",
        "\n",
        "def run_stacked_ensemble(models_ml, rf2, dl_models, x_test_tfidf, x_test_tf,\n",
        "                         x_test_dl, y_test_dl, task='binary'):\n",
        "\n",
        "    # Split test data for meta training and evaluation (to prevent overfitting)\n",
        "    meta_x, holdout_x, meta_y, holdout_y = train_test_split(\n",
        "        list(range(len(y_test_dl))), y_test_dl, test_size=0.5, random_state=42, stratify=y_test_dl\n",
        "    )\n",
        "\n",
        "    meta_input_list = []\n",
        "    holdout_input_list = []\n",
        "\n",
        "    # ML predictions\n",
        "    for name, model in models_ml.items():\n",
        "        preds_all = model.predict(x_test_tfidf)\n",
        "        meta_input_list.append(preds_all[meta_x].reshape(-1, 1))\n",
        "        holdout_input_list.append(preds_all[holdout_x].reshape(-1, 1))\n",
        "\n",
        "    # RF2\n",
        "    rf_preds_all = rf2.predict(x_test_tf)\n",
        "    meta_input_list.append(rf_preds_all[meta_x].reshape(-1, 1))\n",
        "    holdout_input_list.append(rf_preds_all[holdout_x].reshape(-1, 1))\n",
        "\n",
        "    # DL predictions\n",
        "    for name, model in dl_models.items():\n",
        "        raw_pred_all = model.predict(x_test_dl, verbose=0)\n",
        "        if task == 'binary':\n",
        "            pred_all = (raw_pred_all > 0.5).astype(int).reshape(-1, 1)\n",
        "        else:\n",
        "            pred_all = raw_pred_all.argmax(axis=1).reshape(-1, 1)\n",
        "        meta_input_list.append(pred_all[meta_x])\n",
        "        holdout_input_list.append(pred_all[holdout_x])\n",
        "\n",
        "    # Stack inputs\n",
        "    X_meta = np.hstack(meta_input_list)\n",
        "    X_holdout = np.hstack(holdout_input_list)\n",
        "    y_meta = np.array(y_test_dl)[meta_x]\n",
        "    y_holdout = np.array(y_test_dl)[holdout_x]\n",
        "\n",
        "    # Meta model\n",
        "    meta_clf = RandomForestClassifier(n_estimators=300, max_depth=40, random_state=42)\n",
        "    meta_clf.fit(X_meta, y_meta)\n",
        "    y_pred = meta_clf.predict(X_holdout)\n",
        "\n",
        "    avg = 'binary' if task == 'binary' else 'macro'\n",
        "    print(f\"\\nRealistic Final Stacked Model Evaluation ({task}):\")\n",
        "    print(classification_report(y_holdout, y_pred))\n",
        "\n",
        "    return {\n",
        "        \"Task\": task,\n",
        "        \"Accuracy\": round(accuracy_score(y_holdout, y_pred), 4),\n",
        "        \"Precision\": round(precision_score(y_holdout, y_pred, average=avg), 4),\n",
        "        \"Recall\": round(recall_score(y_holdout, y_pred, average=avg), 4),\n",
        "        \"F1-Score\": round(f1_score(y_holdout, y_pred, average=avg), 4)\n",
        "    }\n"
      ]
    },
    {
      "cell_type": "code",
      "source": [
        "ml_data_bin = binary_df.copy()\n",
        "\n",
        "x_train_bin, x_test_bin, y_train_bin, y_test_bin = train_test_split(\n",
        "    ml_data_bin['cleaned_text'], ml_data_bin['label'], test_size=0.25, shuffle=True, random_state=42\n",
        ")\n",
        "\n",
        "x_train_list = x_train_bin.apply(str).tolist()\n",
        "x_test_list = x_test_bin.apply(str).tolist()\n",
        "\n",
        "tfidf = TfidfVectorizer(max_features=300)\n",
        "x_train_tfidf = tfidf.fit_transform(x_train_list)\n",
        "x_test_tfidf = tfidf.transform(x_test_list)\n",
        "\n",
        "count = CountVectorizer(max_features=300)\n",
        "x_train_tf = count.fit_transform(x_train_list)\n",
        "x_test_tf = count.transform(x_test_list)\n",
        "\n",
        "x_train_dl = tokenizer.texts_to_sequences(x_train_list)\n",
        "x_test_dl = tokenizer.texts_to_sequences(x_test_list)\n",
        "\n",
        "x_train_dl = pad_sequences(x_train_dl, maxlen=max_len, padding='post')\n",
        "x_test_dl = pad_sequences(x_test_dl, maxlen=max_len, padding='post')\n"
      ],
      "metadata": {
        "id": "qjKbe_zIILri"
      },
      "execution_count": 70,
      "outputs": []
    },
    {
      "cell_type": "code",
      "execution_count": 71,
      "metadata": {
        "id": "xAWPJVq0tuI3",
        "colab": {
          "base_uri": "https://localhost:8080/"
        },
        "outputId": "36ab9b82-3645-4d53-b4f7-e3f37a36556a"
      },
      "outputs": [
        {
          "output_type": "stream",
          "name": "stdout",
          "text": [
            "\n",
            "Realistic Final Stacked Model Evaluation (binary):\n",
            "              precision    recall  f1-score   support\n",
            "\n",
            "           0       0.71      0.57      0.63       704\n",
            "           1       0.71      0.82      0.76       901\n",
            "\n",
            "    accuracy                           0.71      1605\n",
            "   macro avg       0.71      0.69      0.70      1605\n",
            "weighted avg       0.71      0.71      0.70      1605\n",
            "\n"
          ]
        }
      ],
      "source": [
        "stacked_binary_results = run_stacked_ensemble(\n",
        "    models_ml=models,\n",
        "    rf2=rf2,\n",
        "    dl_models={\n",
        "        \"Bi-LSTM\": BiLSTM_model_bin,\n",
        "        \"Uni-LSTM\": LSTM_model_uni,\n",
        "        \"Bi-GRU\": BiGRU_model_bin,\n",
        "        \"Uni-GRU\": UniGRU_model_bin,\n",
        "        \"CNN\": CNN_model_bin\n",
        "    },\n",
        "    x_test_tfidf=x_test_tfidf,\n",
        "    x_test_tf=x_test_tf,\n",
        "    x_test_dl=x_test_dl,\n",
        "    y_test_dl=y_test_bin,\n",
        "    task='binary'\n",
        ")\n"
      ]
    },
    {
      "cell_type": "code",
      "source": [
        "ml_data_multi = multiclass_df.copy()\n",
        "\n",
        "x_train_multi, x_test_multi, y_train_multi, y_test_multi = train_test_split(\n",
        "    ml_data_multi['cleaned_text'], ml_data_multi['label'], test_size=0.25, shuffle=True, random_state=42\n",
        ")\n",
        "\n",
        "x_train_list = x_train_multi.apply(str).tolist()\n",
        "x_test_list = x_test_multi.apply(str).tolist()\n",
        "\n",
        "tfidf = TfidfVectorizer(max_features=300)\n",
        "x_train_tfidf_multi = tfidf.fit_transform(x_train_list)\n",
        "x_test_tfidf_multi = tfidf.transform(x_test_list)\n",
        "\n",
        "count = CountVectorizer(max_features=300)\n",
        "x_train_tf_multi = count.fit_transform(x_train_list)\n",
        "x_test_tf_multi = count.transform(x_test_list)\n",
        "\n",
        "# 🟢 DL input (tokenized + padded)\n",
        "x_train_dl_multi = tokenizer.texts_to_sequences(x_train_list)\n",
        "x_test_dl_multi = tokenizer.texts_to_sequences(x_test_list)\n",
        "\n",
        "x_train_dl_multi = pad_sequences(x_train_dl_multi, maxlen=max_len, padding='post')\n",
        "x_test_dl_multi = pad_sequences(x_test_dl_multi, maxlen=max_len, padding='post')"
      ],
      "metadata": {
        "id": "7Cx6A1qnIwN5"
      },
      "execution_count": 72,
      "outputs": []
    },
    {
      "cell_type": "code",
      "execution_count": 62,
      "metadata": {
        "id": "5-a4hbG-twKt",
        "colab": {
          "base_uri": "https://localhost:8080/"
        },
        "outputId": "1e9e4940-1669-4c59-d358-36b2512880c2"
      },
      "outputs": [
        {
          "output_type": "stream",
          "name": "stdout",
          "text": [
            "\n",
            "Realistic Final Stacked Model Evaluation (multiclass):\n",
            "              precision    recall  f1-score   support\n",
            "\n",
            "           0       0.25      0.22      0.23       128\n",
            "           1       0.33      0.37      0.35       315\n",
            "           2       0.22      0.21      0.21       262\n",
            "           3       0.36      0.39      0.37       335\n",
            "           4       0.34      0.35      0.34       314\n",
            "           5       0.24      0.19      0.21       251\n",
            "\n",
            "    accuracy                           0.30      1605\n",
            "   macro avg       0.29      0.29      0.29      1605\n",
            "weighted avg       0.30      0.30      0.30      1605\n",
            "\n",
            "\n",
            "📊 Final Stacked Model Results (Multiclass):\n",
            "Task: multiclass\n",
            "Accuracy: 0.3028\n",
            "Precision: 0.2879\n",
            "Recall: 0.2872\n",
            "F1-Score: 0.2868\n"
          ]
        }
      ],
      "source": [
        "stacked_multiclass_results = run_stacked_ensemble(\n",
        "    models_ml=models_multi,\n",
        "    rf2=rf2_multi,\n",
        "    dl_models={\n",
        "        \"Bi-LSTM\": BiLSTM_model_multi,\n",
        "        \"Uni-LSTM\": LSTM_model_multi,\n",
        "        \"Bi-GRU\": BiGRU_model_multi,\n",
        "        \"Uni-GRU\": UniGRU_model_multi,\n",
        "        \"CNN\": CNN_model_multi\n",
        "    },\n",
        "    x_test_tfidf=x_test_tfidf_multi,\n",
        "    x_test_tf=x_test_tf_multi,\n",
        "    x_test_dl=x_test_dl_multi,\n",
        "    y_test_dl=y_test_multi,\n",
        "    task='multiclass'\n",
        ")\n",
        "\n",
        "print(\"\\n📊 Final Stacked Model Results (Multiclass):\")\n",
        "for k, v in stacked_multiclass_results.items():\n",
        "    print(f\"{k}: {v}\")\n"
      ]
    },
    {
      "cell_type": "code",
      "source": [
        "ml_binary_table.append({\n",
        "    \"Model\": \"Stacked Ensemble (Binary)\",\n",
        "    \"Accuracy\": stacked_binary_results[\"Accuracy\"],\n",
        "    \"Precision\": stacked_binary_results[\"Precision\"],\n",
        "    \"Recall\": stacked_binary_results[\"Recall\"],\n",
        "    \"F1-Score\": stacked_binary_results[\"F1-Score\"]\n",
        "})\n",
        "\n",
        "ml_multiclass_table.append({\n",
        "    \"Model\": \"Stacked Ensemble (Multiclass)\",\n",
        "    \"Accuracy\": stacked_multiclass_results[\"Accuracy\"],\n",
        "    \"Precision\": stacked_multiclass_results[\"Precision\"],\n",
        "    \"Recall\": stacked_multiclass_results[\"Recall\"],\n",
        "    \"F1-Score\": stacked_multiclass_results[\"F1-Score\"]\n",
        "})\n",
        "\n",
        "final_binary_table = pd.DataFrame(dl_binary_table + ml_binary_table).set_index(\"Model\")\n",
        "final_multiclass_table = pd.DataFrame(dl_multiclass_table + ml_multiclass_table).set_index(\"Model\")"
      ],
      "metadata": {
        "id": "GCD2Zd3fLWck"
      },
      "execution_count": 73,
      "outputs": []
    },
    {
      "cell_type": "code",
      "source": [
        "print(\"\\nBinary Classification Model Comparison:\\n\")\n",
        "print(tabulate(final_binary_table, headers='keys', tablefmt='fancy_grid', floatfmt=\".4f\"))"
      ],
      "metadata": {
        "colab": {
          "base_uri": "https://localhost:8080/"
        },
        "id": "sFPEXjJ_LxDo",
        "outputId": "3b77763f-0e9b-41c2-8c9f-666be8b1f849"
      },
      "execution_count": 74,
      "outputs": [
        {
          "output_type": "stream",
          "name": "stdout",
          "text": [
            "\n",
            "Binary Classification Model Comparison:\n",
            "\n",
            "╒═══════════════════════════════════╤════════════╤═════════════╤══════════╤════════════╕\n",
            "│ Model                             │   Accuracy │   Precision │   Recall │   F1-Score │\n",
            "╞═══════════════════════════════════╪════════════╪═════════════╪══════════╪════════════╡\n",
            "│ Uni-LSTM_bin                      │     0.5584 │      0.5584 │   1.0000 │     0.7166 │\n",
            "├───────────────────────────────────┼────────────┼─────────────┼──────────┼────────────┤\n",
            "│ Bi-LSTM_bin                       │     0.5927 │      0.6545 │   0.5732 │     0.6112 │\n",
            "├───────────────────────────────────┼────────────┼─────────────┼──────────┼────────────┤\n",
            "│ Uni-GRU_bin                       │     0.5584 │      0.5584 │   1.0000 │     0.7166 │\n",
            "├───────────────────────────────────┼────────────┼─────────────┼──────────┼────────────┤\n",
            "│ BiGRU_bin                         │     0.6036 │      0.6185 │   0.7573 │     0.6809 │\n",
            "├───────────────────────────────────┼────────────┼─────────────┼──────────┼────────────┤\n",
            "│ CNN_bin                           │     0.6114 │      0.6127 │   0.8264 │     0.7037 │\n",
            "├───────────────────────────────────┼────────────┼─────────────┼──────────┼────────────┤\n",
            "│ SVM (C=1)                         │     0.6248 │      0.6396 │   0.7596 │     0.6944 │\n",
            "├───────────────────────────────────┼────────────┼─────────────┼──────────┼────────────┤\n",
            "│ Logistic Regression (C=1)         │     0.6217 │      0.6416 │   0.7385 │     0.6866 │\n",
            "├───────────────────────────────────┼────────────┼─────────────┼──────────┼────────────┤\n",
            "│ Decision Tree (max_depth=5)       │     0.5921 │      0.5975 │   0.8368 │     0.6972 │\n",
            "├───────────────────────────────────┼────────────┼─────────────┼──────────┼────────────┤\n",
            "│ KNN (k=9)                         │     0.5575 │      0.6094 │   0.5891 │     0.5991 │\n",
            "├───────────────────────────────────┼────────────┼─────────────┼──────────┼────────────┤\n",
            "│ Random Forest 1 (n=400, depth=40) │     0.6217 │      0.6244 │   0.8179 │     0.7082 │\n",
            "├───────────────────────────────────┼────────────┼─────────────┼──────────┼────────────┤\n",
            "│ Random Forest 2 (n=300, depth=40) │     0.6248 │      0.6307 │   0.7996 │     0.7052 │\n",
            "├───────────────────────────────────┼────────────┼─────────────┼──────────┼────────────┤\n",
            "│ Stacked Ensemble (Binary)         │     0.7103 │      0.7080 │   0.8235 │     0.7614 │\n",
            "╘═══════════════════════════════════╧════════════╧═════════════╧══════════╧════════════╛\n"
          ]
        }
      ]
    },
    {
      "cell_type": "code",
      "source": [
        "print(\"\\nMulti-Class Classification Model Comparison:\\n\")\n",
        "print(tabulate(final_multiclass_table, headers='keys', tablefmt='fancy_grid', floatfmt=\".4f\"))"
      ],
      "metadata": {
        "colab": {
          "base_uri": "https://localhost:8080/"
        },
        "id": "YeVcd4fFL6Uf",
        "outputId": "9ae74b68-a20a-47f3-b026-d4893c789ee2"
      },
      "execution_count": 75,
      "outputs": [
        {
          "output_type": "stream",
          "name": "stdout",
          "text": [
            "\n",
            "Multi-Class Classification Model Comparison:\n",
            "\n",
            "╒═══════════════════════════════════╤════════════╤═════════════╤══════════╤════════════╕\n",
            "│ Model                             │   Accuracy │   Precision │   Recall │   F1-Score │\n",
            "╞═══════════════════════════════════╪════════════╪═════════════╪══════════╪════════════╡\n",
            "│ Uni-LSTM_multi                    │     0.2056 │      0.0343 │   0.1667 │     0.0568 │\n",
            "├───────────────────────────────────┼────────────┼─────────────┼──────────┼────────────┤\n",
            "│ Bi-LSTM_multi                     │     0.2313 │      0.1248 │   0.1953 │     0.1335 │\n",
            "├───────────────────────────────────┼────────────┼─────────────┼──────────┼────────────┤\n",
            "│ Uni-GRU_multi                     │     0.2056 │      0.0343 │   0.1667 │     0.0568 │\n",
            "├───────────────────────────────────┼────────────┼─────────────┼──────────┼────────────┤\n",
            "│ BiGRU_multi                       │     0.2504 │      0.1668 │   0.2162 │     0.1815 │\n",
            "├───────────────────────────────────┼────────────┼─────────────┼──────────┼────────────┤\n",
            "│ CNN_multi                         │     0.2395 │      0.1226 │   0.2006 │     0.1492 │\n",
            "├───────────────────────────────────┼────────────┼─────────────┼──────────┼────────────┤\n",
            "│ SVM (C=1)                         │     0.2527 │      0.2671 │   0.2235 │     0.2155 │\n",
            "├───────────────────────────────────┼────────────┼─────────────┼──────────┼────────────┤\n",
            "│ Logistic Regression (C=1)         │     0.2568 │      0.2537 │   0.2331 │     0.2314 │\n",
            "├───────────────────────────────────┼────────────┼─────────────┼──────────┼────────────┤\n",
            "│ Decision Tree (max_depth=5)       │     0.2231 │      0.3022 │   0.1842 │     0.1244 │\n",
            "├───────────────────────────────────┼────────────┼─────────────┼──────────┼────────────┤\n",
            "│ KNN (k=9)                         │     0.2175 │      0.2192 │   0.2080 │     0.1988 │\n",
            "├───────────────────────────────────┼────────────┼─────────────┼──────────┼────────────┤\n",
            "│ Random Forest 1 (n=400, depth=40) │     0.2586 │      0.2571 │   0.2260 │     0.2147 │\n",
            "├───────────────────────────────────┼────────────┼─────────────┼──────────┼────────────┤\n",
            "│ Random Forest 2 (n=300, depth=40) │     0.2646 │      0.2890 │   0.2336 │     0.2204 │\n",
            "├───────────────────────────────────┼────────────┼─────────────┼──────────┼────────────┤\n",
            "│ Stacked Ensemble (Multiclass)     │     0.3028 │      0.2879 │   0.2872 │     0.2868 │\n",
            "╘═══════════════════════════════════╧════════════╧═════════════╧══════════╧════════════╛\n"
          ]
        }
      ]
    }
  ],
  "metadata": {
    "colab": {
      "provenance": [],
      "gpuType": "T4"
    },
    "kernelspec": {
      "display_name": "Python 3",
      "name": "python3"
    },
    "language_info": {
      "name": "python"
    },
    "accelerator": "GPU"
  },
  "nbformat": 4,
  "nbformat_minor": 0
}